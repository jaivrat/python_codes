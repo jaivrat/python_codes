{
 "cells": [
  {
   "cell_type": "markdown",
   "metadata": {},
   "source": [
    "### PyTorch LR Scheduler - Adjust The Learning Rate For Better Results\n",
    "\n",
    "from https://www.youtube.com/watch?v=81NJgoR5RfY\n",
    "\n",
    "Technique to improve optimization process during training using leanring rate sceduler.\n",
    "(based on epochs or validation measurements)\n",
    "\n",
    "In adjusting, most of the times, we decrease the learning rate. We will use torch.optim_lr_scheduler\n",
    "\n",
    "https://pytorch.org/docs/stable/optim.html\n",
    "\n",
    "It should be applied after optimizer's update. Code looks like \n",
    "```python\n",
    "scheduler = ....\n",
    "for epoch in range(100):\n",
    "    train(...)\n",
    "    validate(...)\n",
    "    scheduler.step()\n",
    "```\n",
    "\n",
    "* torch.optim.lr_scheduler.LambdaLR\n",
    "\n"
   ]
  },
  {
   "cell_type": "code",
   "execution_count": null,
   "metadata": {},
   "outputs": [],
   "source": []
  }
 ],
 "metadata": {
  "kernelspec": {
   "display_name": "Python 3",
   "language": "python",
   "name": "python3"
  },
  "language_info": {
   "codemirror_mode": {
    "name": "ipython",
    "version": 3
   },
   "file_extension": ".py",
   "mimetype": "text/x-python",
   "name": "python",
   "nbconvert_exporter": "python",
   "pygments_lexer": "ipython3",
   "version": "3.7.9"
  }
 },
 "nbformat": 4,
 "nbformat_minor": 4
}
