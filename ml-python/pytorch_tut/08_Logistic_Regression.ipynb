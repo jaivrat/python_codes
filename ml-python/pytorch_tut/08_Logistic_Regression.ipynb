{
 "cells": [
  {
   "cell_type": "markdown",
   "metadata": {},
   "source": [
    "## PyTorch Tutorial 08 - Logistic Regression\n",
    "https://www.youtube.com/watch?v=OGpQxIkR4ao"
   ]
  },
  {
   "cell_type": "code",
   "execution_count": 1,
   "metadata": {},
   "outputs": [],
   "source": [
    "# 1) Design model (input, output size, forward pass)\n",
    "# 2) Construct loss and optimizer\n",
    "# 3) Training Loop \n",
    "    #- forward pass: compute prediction\n",
    "    #- backward pass: gradients\n",
    "    #- update weights"
   ]
  },
  {
   "cell_type": "code",
   "execution_count": 13,
   "metadata": {},
   "outputs": [],
   "source": [
    "import torch\n",
    "import torch.nn as nn\n",
    "import numpy as np\n",
    "from sklearn import datasets\n",
    "import matplotlib.pyplot as plt\n",
    "from sklearn.preprocessing import StandardScaler\n",
    "from sklearn.model_selection import train_test_split\n",
    "\n",
    "\n",
    "learning_rate = 0.01\n",
    "\n",
    "# 0) prepare data\n",
    "\n",
    "# 1) model\n",
    "# 2) loss and optimizer\n",
    "# 3) training loop"
   ]
  },
  {
   "cell_type": "code",
   "execution_count": 17,
   "metadata": {},
   "outputs": [
    {
     "name": "stdout",
     "output_type": "stream",
     "text": [
      "n_samples: 569, n_features:30\n",
      "epoch: 10, loss = 0.6590\n",
      "epoch: 20, loss = 0.5173\n",
      "epoch: 30, loss = 0.4345\n",
      "epoch: 40, loss = 0.3808\n",
      "epoch: 50, loss = 0.3429\n",
      "epoch: 60, loss = 0.3144\n",
      "epoch: 70, loss = 0.2922\n",
      "epoch: 80, loss = 0.2741\n",
      "epoch: 90, loss = 0.2592\n",
      "epoch: 100, loss = 0.2465\n",
      "acc: 0.8947368264198303\n"
     ]
    }
   ],
   "source": [
    "#0) prepare data\n",
    "bc = datasets.load_breast_cancer()\n",
    "X,y = bc.data, bc.target\n",
    "n_samples, n_features = X.shape\n",
    "\n",
    "print(f\"n_samples: {n_samples}, n_features:{n_features}\")\n",
    "X_train, X_test, y_train, y_test = train_test_split(X, y, test_size=0.2, random_state=1234)\n",
    "\n",
    "#scale\n",
    "sc = StandardScaler()\n",
    "X_train = sc.fit_transform(X_train)\n",
    "X_test  = sc.transform(X_test)\n",
    "\n",
    "X_train = torch.from_numpy(X_train.astype(np.float32))\n",
    "X_test  = torch.from_numpy(X_test.astype(np.float32))\n",
    "y_train  = torch.from_numpy(y_train.astype(np.float32))\n",
    "y_test  = torch.from_numpy(y_test.astype(np.float32))\n",
    "\n",
    "y_train = y_train.view(y_train.shape[0],1) #want column vector\n",
    "y_test = y_test.view(y_test.shape[0],1) #want column vector\n",
    "\n",
    "# 1) model\n",
    "# f = wx + b, sigmoid at the end\n",
    "\n",
    "class LogisticRegression(nn.Module):\n",
    "    def __init__(self, n_input_features):\n",
    "        super(LogisticRegression, self).__init__()\n",
    "        self.linear = nn.Linear(n_input_features, 1) #second arg is output festures, \n",
    "        \n",
    "    def forward(self, x):\n",
    "        y_predicted = torch.sigmoid(self.linear(x))\n",
    "        return y_predicted\n",
    "    \n",
    "model = LogisticRegression(n_features)\n",
    "\n",
    "# 2) loss and optimizer\n",
    "criterion = nn.BCELoss() # Binary cross Entropy Loss\n",
    "optimizer = torch.optim.SGD(model.parameters(), lr = learning_rate)\n",
    "\n",
    "\n",
    "# 3) training loop\n",
    "#- forward pass: compute prediction\n",
    "#- backward pass: gradients\n",
    "#- update weights\n",
    "num_epochs = 100\n",
    "\n",
    "for epoch in range(num_epochs):\n",
    "    # forward pass\n",
    "    y_predicted = model(X_train)\n",
    "    loss = criterion(y_predicted, y_train)\n",
    "    \n",
    "    # backward pass\n",
    "    loss.backward()\n",
    "    \n",
    "    # update\n",
    "    optimizer.step()\n",
    "    \n",
    "    # empty the gradiets\n",
    "    optimizer.zero_grad()\n",
    "    \n",
    "    # print info\n",
    "    if (epoch + 1)%10 == 0:\n",
    "        print(f'epoch: {epoch + 1}, loss = {loss.item():.4f}')\n",
    "\n",
    "\n",
    "# Evaluation\n",
    "with torch.no_grad():\n",
    "    y_predicted = model(X_test)\n",
    "    y_predicted_cls = y_predicted.round()\n",
    "    acc = y_predicted_cls.eq(y_test).sum()/float(y_test.shape[0])\n",
    "    print(f'acc: {acc}')\n",
    "  "
   ]
  },
  {
   "cell_type": "code",
   "execution_count": null,
   "metadata": {},
   "outputs": [],
   "source": []
  }
 ],
 "metadata": {
  "kernelspec": {
   "display_name": "Python 3",
   "language": "python",
   "name": "python3"
  },
  "language_info": {
   "codemirror_mode": {
    "name": "ipython",
    "version": 3
   },
   "file_extension": ".py",
   "mimetype": "text/x-python",
   "name": "python",
   "nbconvert_exporter": "python",
   "pygments_lexer": "ipython3",
   "version": "3.7.9"
  }
 },
 "nbformat": 4,
 "nbformat_minor": 4
}
