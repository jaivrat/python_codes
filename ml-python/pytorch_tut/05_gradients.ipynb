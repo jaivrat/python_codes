{
 "cells": [
  {
   "cell_type": "markdown",
   "metadata": {},
   "source": [
    "### PyTorch Tutorial 05 - Gradient Descent with Autograd and Backpropagation\n",
    "\n",
    "https://www.youtube.com/watch?v=E-I2DNVzQLg"
   ]
  },
  {
   "cell_type": "code",
   "execution_count": 24,
   "metadata": {},
   "outputs": [],
   "source": [
    "import numpy as np\n",
    "\n",
    "# f = w * x\n",
    "# f = 2 * x\n",
    "\n",
    "X = np.array([1,2,3,4], np.float32)\n",
    "Y = np.array([2,4,6,8], np.float32)\n",
    "\n",
    "w = 0.0\n",
    "\n",
    "# model prediction\n",
    "def forward(x):\n",
    "    return w * x\n",
    "\n",
    "# loss = mse\n",
    "def loss(y, y_predicted):\n",
    "    return np.average((y - y_predicted)**2)\n",
    "\n",
    "\n",
    "# gradient\n",
    "# MSE = (1.0/N) (w*x - y)**2\n",
    "# dJ/dw = (1.0/N) * 2 * (w*x - y) * x\n",
    "#       = (1.0/N) * 2x * (w*x - y)\n",
    "\n",
    "def gradient(x,y, y_predicted):\n",
    "    return (np.dot(2 * x, y_predicted - y)).mean()\n",
    "\n",
    "    "
   ]
  },
  {
   "cell_type": "code",
   "execution_count": 25,
   "metadata": {},
   "outputs": [
    {
     "name": "stdout",
     "output_type": "stream",
     "text": [
      "Prediction before training : f(5) 0.000\n"
     ]
    }
   ],
   "source": [
    "## Prediction before training f(5) \n",
    "print(f'Prediction before training : f(5) {forward(5):.3f}')"
   ]
  },
  {
   "cell_type": "code",
   "execution_count": 26,
   "metadata": {},
   "outputs": [
    {
     "name": "stdout",
     "output_type": "stream",
     "text": [
      "epoch 1: w = 1.2f, loss = 30.0\n",
      "epoch 2: w = 1.68f, loss = 4.7999992\n",
      "epoch 3: w = 1.87f, loss = 0.76800019\n",
      "epoch 4: w = 1.95f, loss = 0.12288\n",
      "epoch 5: w = 1.98f, loss = 0.019660834\n",
      "epoch 6: w = 1.99f, loss = 0.0031457357\n",
      "epoch 7: w = 2.0f, loss = 0.00050330802\n",
      "epoch 8: w = 2.0f, loss = 8.0531863e-05\n",
      "epoch 9: w = 2.0f, loss = 1.2884395e-05\n",
      "epoch 10: w = 2.0f, loss = 2.0613531e-06\n"
     ]
    }
   ],
   "source": [
    "# Training\n",
    "learning_rate = 0.01\n",
    "n_iters = 10\n",
    "\n",
    "\n",
    "for epoch in range(n_iters):\n",
    "    # prediction = forward pass\n",
    "    y_pred = forward(X)\n",
    "    \n",
    "    # loss\n",
    "    l = loss( Y, y_pred)\n",
    "    \n",
    "    #gradients\n",
    "    dw = gradient(X,Y, y_pred)\n",
    "    \n",
    "    # update weights\n",
    "    w = w - learning_rate * dw\n",
    "    \n",
    "    # print info\n",
    "    if epoch %1 == 0: \n",
    "        print(f'epoch {epoch + 1}: w = {w:.3}f, loss = {l:.8}')"
   ]
  },
  {
   "cell_type": "code",
   "execution_count": 27,
   "metadata": {},
   "outputs": [
    {
     "name": "stdout",
     "output_type": "stream",
     "text": [
      "Prediction before training : f(5) 9.999\n"
     ]
    }
   ],
   "source": [
    "print(f'Prediction before training : f(5) {forward(5):.3f}')"
   ]
  },
  {
   "cell_type": "code",
   "execution_count": 29,
   "metadata": {},
   "outputs": [
    {
     "name": "stdout",
     "output_type": "stream",
     "text": [
      "epoch 1: w = 0.3f, loss = 30.0\n",
      "epoch 3: w = 0.772f, loss = 15.660188\n",
      "epoch 5: w = 1.11f, loss = 8.1747169\n",
      "epoch 7: w = 1.36f, loss = 4.2672529\n",
      "epoch 9: w = 1.54f, loss = 2.2275321\n",
      "epoch 11: w = 1.67f, loss = 1.1627856\n",
      "epoch 13: w = 1.76f, loss = 0.60698116\n",
      "epoch 15: w = 1.83f, loss = 0.3168478\n",
      "epoch 17: w = 1.87f, loss = 0.16539653\n",
      "epoch 19: w = 1.91f, loss = 0.086338058\n",
      "epoch 21: w = 1.93f, loss = 0.045068897\n",
      "epoch 23: w = 1.95f, loss = 0.023526315\n",
      "epoch 25: w = 1.97f, loss = 0.012280837\n",
      "epoch 27: w = 1.98f, loss = 0.0064106593\n",
      "epoch 29: w = 1.98f, loss = 0.0033464201\n",
      "epoch 31: w = 1.99f, loss = 0.0017468547\n",
      "epoch 33: w = 1.99f, loss = 0.00091188005\n",
      "epoch 35: w = 1.99f, loss = 0.00047600627\n",
      "epoch 37: w = 2.0f, loss = 0.000248478\n",
      "epoch 39: w = 2.0f, loss = 0.0001297064\n",
      "epoch 41: w = 2.0f, loss = 6.7704947e-05\n",
      "epoch 43: w = 2.0f, loss = 3.5343608e-05\n",
      "epoch 45: w = 2.0f, loss = 1.8447146e-05\n",
      "epoch 47: w = 2.0f, loss = 9.6315316e-06\n",
      "epoch 49: w = 2.0f, loss = 5.0273838e-06\n"
     ]
    }
   ],
   "source": [
    "## Lets try doing it using pytoch - we replace gradient calculations\n",
    "import torch\n",
    "\n",
    "X = torch.tensor([1,2,3,4], dtype = torch.float32)\n",
    "Y = torch.tensor([2,4,6,8], dtype = torch.float32)\n",
    "w = torch.tensor(0.0, dtype=torch.float32, requires_grad = True)\n",
    "\n",
    "\n",
    "# model prediction\n",
    "def forward(x):\n",
    "    return w * x\n",
    "\n",
    "# loss = mse\n",
    "def loss(y, y_predicted):\n",
    "    return ((y - y_predicted)**2).mean()\n",
    "\n",
    "learning_rate = 0.01\n",
    "n_iters = 50\n",
    "\n",
    "for epoch in range(n_iters):\n",
    "    # prediction = forward pass\n",
    "    y_pred = forward(X)\n",
    "    \n",
    "    # loss\n",
    "    l = loss(Y, y_pred)\n",
    "    \n",
    "    #gradients = backward pass\n",
    "    #dw = gradient(X,Y, y_pred)\n",
    "    l.backward()  # dl/dw\n",
    "    \n",
    "    # update weights\n",
    "    #w = w - learning_rate * dw\n",
    "    with torch.no_grad():  \n",
    "        # torch.no_grad(): We use this as we want this operation not to be part of \n",
    "        # gradient tracking step\n",
    "        # dw = w.grad\n",
    "        # Note that w =  w - learning_rate * w.grad doesnt work\n",
    "        w -=  learning_rate * w.grad\n",
    "        \n",
    "    # zero gradients : to avoid accumulation of gradient to next pass\n",
    "    w.grad.zero_()\n",
    "    \n",
    "    # print info\n",
    "    if epoch %2 == 0: \n",
    "        print(f'epoch {epoch + 1}: w = {w:.3}f, loss = {l:.8}')\n",
    "        "
   ]
  },
  {
   "cell_type": "code",
   "execution_count": null,
   "metadata": {},
   "outputs": [],
   "source": []
  }
 ],
 "metadata": {
  "kernelspec": {
   "display_name": "Python 3",
   "language": "python",
   "name": "python3"
  },
  "language_info": {
   "codemirror_mode": {
    "name": "ipython",
    "version": 3
   },
   "file_extension": ".py",
   "mimetype": "text/x-python",
   "name": "python",
   "nbconvert_exporter": "python",
   "pygments_lexer": "ipython3",
   "version": "3.7.9"
  }
 },
 "nbformat": 4,
 "nbformat_minor": 4
}
