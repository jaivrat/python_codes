{
 "cells": [
  {
   "cell_type": "markdown",
   "metadata": {},
   "source": [
    "### PyTorch Tutorial 05 - Gradient Descent with Autograd and Backpropagation\n",
    "\n",
    "https://www.youtube.com/watch?v=E-I2DNVzQLg"
   ]
  },
  {
   "cell_type": "code",
   "execution_count": null,
   "metadata": {},
   "outputs": [],
   "source": [
    "import numpy as np\n",
    "\n",
    "# f = w * x\n",
    "# f = 2 * x\n",
    "\n",
    "X = np.array([1,2,3,4], np.float32)\n",
    "Y = np.array([2,4,6,8], np.float32)\n",
    "\n",
    "w = 0.0\n",
    "\n",
    "# model prediction\n",
    "def forward(x):\n",
    "    return w * x\n",
    "\n",
    "# loss = mse\n",
    "def loss(y, y_predicted):\n",
    "    return np.average((y - y_predicted)**2)\n",
    "\n",
    "\n",
    "# gradient\n",
    "# MSE = (1.0/N) (w*x - y)**2\n",
    "# dJ/dw = (1.0/N) * 2 * (w*x - y) * x\n",
    "#       = (1.0/N) * 2x * (w*x - y)\n",
    "\n",
    "def gradient(x,y, y_predicted):\n",
    "    return (np.dot(2 * x, y_predicted - y)).mean()\n",
    "\n",
    "    "
   ]
  },
  {
   "cell_type": "code",
   "execution_count": null,
   "metadata": {},
   "outputs": [],
   "source": [
    "## Prediction before training f(5) \n",
    "print(f'Prediction before training : f(5) {forward(5):.3f}')"
   ]
  },
  {
   "cell_type": "code",
   "execution_count": null,
   "metadata": {},
   "outputs": [],
   "source": [
    "# Training\n",
    "learning_rate = 0.01\n",
    "n_iters = 10\n",
    "\n",
    "\n",
    "for epoch in range(n_iters):\n",
    "    # prediction = forward pass\n",
    "    y_pred = forward(X)\n",
    "    \n",
    "    # loss\n",
    "    l = loss( Y, y_pred)\n",
    "    \n",
    "    #gradients\n",
    "    dw = gradient(X,Y, y_pred)\n",
    "    \n",
    "    # update weights\n",
    "    w = w - learning_rate * dw\n",
    "    \n",
    "    # print info\n",
    "    if epoch %1 == 0: \n",
    "        print(f'epoch {epoch + 1}: w = {w:.3}f, loss = {l:.8}')"
   ]
  },
  {
   "cell_type": "code",
   "execution_count": null,
   "metadata": {},
   "outputs": [],
   "source": [
    "print(f'Prediction before training : f(5) {forward(5):.3f}')"
   ]
  },
  {
   "cell_type": "code",
   "execution_count": 17,
   "metadata": {},
   "outputs": [
    {
     "name": "stdout",
     "output_type": "stream",
     "text": [
      "epoch 1: w = 0.3f, loss = 30.0\n",
      "epoch 2: w = 0.555f, loss = 21.674999\n",
      "epoch 3: w = 0.772f, loss = 15.660188\n",
      "epoch 4: w = 0.956f, loss = 11.314487\n",
      "epoch 5: w = 1.11f, loss = 8.1747169\n",
      "epoch 6: w = 1.25f, loss = 5.9062324\n",
      "epoch 7: w = 1.36f, loss = 4.2672529\n",
      "epoch 8: w = 1.46f, loss = 3.0830898\n",
      "epoch 9: w = 1.54f, loss = 2.2275321\n",
      "epoch 10: w = 1.61f, loss = 1.6093917\n"
     ]
    }
   ],
   "source": [
    "## Lets try doing it using pytoch - we replace gradient calculations\n",
    "import torch\n",
    "\n",
    "X = torch.tensor([1,2,3,4], dtype = torch.float32)\n",
    "Y = torch.tensor([2,4,6,8], dtype = torch.float32)\n",
    "w = torch.tensor(0.0, dtype=torch.float32, requires_grad = True)\n",
    "\n",
    "\n",
    "# model prediction\n",
    "def forward(x):\n",
    "    return w * x\n",
    "\n",
    "# loss = mse\n",
    "def loss(y, y_predicted):\n",
    "    return ((y - y_predicted)**2).mean()\n",
    "\n",
    "learning_rate = 0.01\n",
    "n_iters = 10\n",
    "\n",
    "for epoch in range(n_iters):\n",
    "    # prediction = forward pass\n",
    "    y_pred = forward(X)\n",
    "    \n",
    "    # loss\n",
    "    l = loss(Y, y_pred)\n",
    "    \n",
    "    #gradients = backward pass\n",
    "    #dw = gradient(X,Y, y_pred)\n",
    "    l.backward()  # dl/dw\n",
    "    \n",
    "    # update weights\n",
    "    #w = w - learning_rate * dw\n",
    "    with torch.no_grad():\n",
    "        #dw = w.grad\n",
    "        # Note that w =  w - learning_rate * w.grad doesnt work\n",
    "        w -=  learning_rate * w.grad\n",
    "        \n",
    "    # zero gradients : to avoid accumulation of gradient to next pass\n",
    "    w.grad.zero_()\n",
    "    \n",
    "    # print info\n",
    "    if epoch %1 == 0: \n",
    "        print(f'epoch {epoch + 1}: w = {w:.3}f, loss = {l:.8}')\n",
    "        "
   ]
  },
  {
   "cell_type": "code",
   "execution_count": null,
   "metadata": {},
   "outputs": [],
   "source": []
  }
 ],
 "metadata": {
  "kernelspec": {
   "display_name": "Python 3",
   "language": "python",
   "name": "python3"
  },
  "language_info": {
   "codemirror_mode": {
    "name": "ipython",
    "version": 3
   },
   "file_extension": ".py",
   "mimetype": "text/x-python",
   "name": "python",
   "nbconvert_exporter": "python",
   "pygments_lexer": "ipython3",
   "version": "3.7.9"
  }
 },
 "nbformat": 4,
 "nbformat_minor": 4
}
