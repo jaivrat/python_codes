{
 "cells": [
  {
   "cell_type": "code",
   "execution_count": 1,
   "metadata": {},
   "outputs": [],
   "source": [
    "# FROM https://www.youtube.com/watch?v=3Kb0QS6z7WA "
   ]
  },
  {
   "cell_type": "code",
   "execution_count": 2,
   "metadata": {},
   "outputs": [],
   "source": [
    "# Chain rule\n",
    "# x --> y = a(x) --> z = b(y)\n",
    "# miminize z\n",
    "# dz/dx=  (del_z/del_y) * (del_y/del_x)\n",
    "#\n",
    "# dz = (dz/dy)*dy\n",
    "#    = (del_z/del_y)*(dy = del_y/del_x  * dx)\n",
    "#    = (del_z/del_y) * del_y/del_x  * dx\n",
    "# dz/dx=  (del_z/del_y) * (del_y/del_x)\n"
   ]
  },
  {
   "cell_type": "code",
   "execution_count": 3,
   "metadata": {},
   "outputs": [],
   "source": [
    "# computation graph\n",
    "#\n",
    "# x\n",
    "#  \\\n",
    "#   (f = x * y) -> z --> () --> Loss\n",
    "#  /\n",
    "# y\n",
    "\n",
    "# we want del_Loss/del_x , del_Loss/del_y\n",
    "# del_Loss/del_x = del_Loss/del_z * del_z/delx\n",
    "# del_Loss/del_y = del_Loss/del_z * del_z/dely\n",
    "\n",
    "# Steps\n",
    "# 1. Forward pass/ : Compute loss\n",
    "# 2. Compute local gradients\n",
    "# 3. Backward pass : Compute dLoss/dWeights using chain rule\n"
   ]
  },
  {
   "cell_type": "markdown",
   "metadata": {},
   "source": [
    "<img src=\"images/dependency-graph.png\">"
   ]
  },
  {
   "cell_type": "code",
   "execution_count": 5,
   "metadata": {},
   "outputs": [
    {
     "name": "stdout",
     "output_type": "stream",
     "text": [
      "tensor(1., grad_fn=<PowBackward0>)\n"
     ]
    }
   ],
   "source": [
    "import torch\n",
    "x = torch.tensor(1.0)\n",
    "y = torch.tensor(2.0)\n",
    "\n",
    "# initial weight\n",
    "w = torch.tensor(1.0, requires_grad = True)\n",
    "\n",
    "#forward pass\n",
    "y_hat = w * x\n",
    "loss = (y_hat - y)**2\n",
    "\n",
    "print(loss)"
   ]
  },
  {
   "cell_type": "code",
   "execution_count": 6,
   "metadata": {},
   "outputs": [
    {
     "name": "stdout",
     "output_type": "stream",
     "text": [
      "tensor(-2.)\n"
     ]
    }
   ],
   "source": [
    "#backward pass: will compute local gradients automatically and computes backward pass\n",
    "loss.backward()\n",
    "\n",
    "# now w will have .grad attribute\n",
    "print(w.grad)"
   ]
  },
  {
   "cell_type": "code",
   "execution_count": null,
   "metadata": {},
   "outputs": [],
   "source": [
    "## update weights\n",
    "## next forward and backward pass and do our computations for couple of iterations"
   ]
  }
 ],
 "metadata": {
  "kernelspec": {
   "display_name": "Python 3",
   "language": "python",
   "name": "python3"
  },
  "language_info": {
   "codemirror_mode": {
    "name": "ipython",
    "version": 3
   },
   "file_extension": ".py",
   "mimetype": "text/x-python",
   "name": "python",
   "nbconvert_exporter": "python",
   "pygments_lexer": "ipython3",
   "version": "3.7.9"
  }
 },
 "nbformat": 4,
 "nbformat_minor": 4
}
