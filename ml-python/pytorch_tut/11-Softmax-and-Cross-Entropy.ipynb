{
 "cells": [
  {
   "cell_type": "markdown",
   "metadata": {},
   "source": [
    "## PyTorch Tutorial 11 - Softmax and Cross Entropy\n",
    "\n",
    "\n",
    "#### Softmax\n",
    "\n",
    "$S(y_i) = \\frac{e^{y_i}}{\\sum e^{y_i}}$\n",
    "\n",
    "\n",
    "<img src=\"images/Sofmax_Layer.png\">\n",
    "\n",
    "\n",
    "$y_i$ are raw scores/logits. Softmax makes them normalized $y_{pred}$"
   ]
  },
  {
   "cell_type": "code",
   "execution_count": 36,
   "metadata": {},
   "outputs": [
    {
     "data": {
      "text/plain": [
       "array([0.65900114, 0.24243297, 0.09856589])"
      ]
     },
     "execution_count": 36,
     "metadata": {},
     "output_type": "execute_result"
    }
   ],
   "source": [
    "import torch\n",
    "import torch.nn as nn\n",
    "import numpy as np\n",
    "\n",
    "\n",
    "def softmax(x):\n",
    "    return np.exp(x)/np.sum(np.exp(x), axis = 0, keepdims = True)\n",
    "\n",
    "x = np.array([2,1,0.1])\n",
    "\n",
    "softmax(x)"
   ]
  },
  {
   "cell_type": "markdown",
   "metadata": {},
   "source": [
    "We see that highest logit has the highest probability."
   ]
  },
  {
   "cell_type": "code",
   "execution_count": 37,
   "metadata": {},
   "outputs": [],
   "source": [
    "x = torch.tensor([2,1,0.1])\n",
    "outputs = torch.softmax(x, dim = 0)"
   ]
  },
  {
   "cell_type": "code",
   "execution_count": 39,
   "metadata": {},
   "outputs": [
    {
     "name": "stdout",
     "output_type": "stream",
     "text": [
      "tensor([0.6590, 0.2424, 0.0986])\n"
     ]
    }
   ],
   "source": [
    "print(outputs)"
   ]
  },
  {
   "cell_type": "markdown",
   "metadata": {},
   "source": [
    "We see results almost same\n",
    "\n",
    "\n",
    "## Cross-Entropy\n",
    "\n",
    "\n",
    "$ D(\\hat Y) = - \\frac{1}{N} \\sum Y_i * log(\\hat Y_i) $\n",
    "\n",
    "Y = [ 1, 0, 0] \n",
    "$\\hat Y = [0.7, 0.2, 0.1] \\implies   D(\\hat Y) = 0.35  $\n",
    "\n",
    "$\\hat Y = [0.1, 0.3, 0.6] \\implies   D(\\hat Y) = 2.30  $\n",
    "\n"
   ]
  },
  {
   "cell_type": "code",
   "execution_count": 68,
   "metadata": {},
   "outputs": [
    {
     "data": {
      "text/plain": [
       "0.35667494393873245"
      ]
     },
     "execution_count": 68,
     "metadata": {},
     "output_type": "execute_result"
    }
   ],
   "source": [
    "def cross_entropy(y,y_hat):\n",
    "    n = y_hat.shape[0]\n",
    "    return -np.sum(y * np.log(y_hat)) #/n - we do not do here deliberately\n",
    "\n",
    "y = np.array([1, 0, 0])\n",
    "y_hat = np.array([0.7, 0.2, 0.1])\n",
    "\n",
    "cross_entropy(y, y_hat)"
   ]
  },
  {
   "cell_type": "code",
   "execution_count": 70,
   "metadata": {},
   "outputs": [
    {
     "data": {
      "text/plain": [
       "2.3025850929940455"
      ]
     },
     "execution_count": 70,
     "metadata": {},
     "output_type": "execute_result"
    }
   ],
   "source": [
    "y_pred_bad = np.array([0.1, 0.3, 0.6])\n",
    "cross_entropy(y, y_pred_bad)"
   ]
  },
  {
   "cell_type": "code",
   "execution_count": 72,
   "metadata": {},
   "outputs": [],
   "source": [
    "#We can see that bad one has high loss as expected\n",
    "#bad gives high probability to one which is not 1 and gives low to one which actually 1\n"
   ]
  },
  {
   "cell_type": "code",
   "execution_count": 73,
   "metadata": {},
   "outputs": [
    {
     "data": {
      "text/plain": [
       "0.5145731728297583"
      ]
     },
     "execution_count": 73,
     "metadata": {},
     "output_type": "execute_result"
    }
   ],
   "source": [
    "-1 *np.sum(y * np.log2(y_hat))"
   ]
  },
  {
   "cell_type": "markdown",
   "metadata": {},
   "source": [
    "We can also do as in torch"
   ]
  },
  {
   "cell_type": "code",
   "execution_count": 89,
   "metadata": {},
   "outputs": [
    {
     "name": "stdout",
     "output_type": "stream",
     "text": [
      "0.4170299470424652\n",
      "1.840616226196289\n"
     ]
    }
   ],
   "source": [
    "loss = nn.CrossEntropyLoss()\n",
    "\n",
    "#Here we trat as if there are 3 classes and true value is the first class, ie index 0\n",
    "#If second class were true, then [1] and if the third class were true we would put [2]\n",
    "Y = torch.tensor([0])  \n",
    "\n",
    "# nsamples x nclasses = 1 x 3\n",
    "Y_pred_good = torch.tensor([[2.0,1.0, 0.1]])  #good because highest value to first\n",
    "Y_pred_bad  = torch.tensor([[0.5,2.0, 0.3]])  #bad because highest not to first\n",
    "\n",
    "l1 = loss(Y_pred_good, Y)\n",
    "l2 = loss(Y_pred_bad, Y)\n",
    "\n",
    "print(l1.item())\n",
    "print(l2.item())"
   ]
  },
  {
   "cell_type": "markdown",
   "metadata": {},
   "source": [
    "As expected, the bad prediction has highest cross entropy!"
   ]
  },
  {
   "cell_type": "code",
   "execution_count": 92,
   "metadata": {},
   "outputs": [
    {
     "name": "stdout",
     "output_type": "stream",
     "text": [
      "tensor([0])\n",
      "tensor([1])\n"
     ]
    }
   ],
   "source": [
    "_, predictions1 = torch.max(Y_pred_good, 1)\n",
    "_, predictions2 = torch.max(Y_pred_bad, 1)\n",
    "\n",
    "print(predictions1)\n",
    "print(predictions2)"
   ]
  },
  {
   "cell_type": "code",
   "execution_count": 95,
   "metadata": {},
   "outputs": [
    {
     "name": "stdout",
     "output_type": "stream",
     "text": [
      "0.3018244206905365\n",
      "1.6241613626480103\n"
     ]
    }
   ],
   "source": [
    "# Lets do three samples\n",
    "\n",
    "Y = torch.tensor([2,0,1])  \n",
    "\n",
    "# nsamples x nclasses = 1 x 3\n",
    "Y_pred_good = torch.tensor([[0.1,1.0, 2.1],\n",
    "                            [2.0,1.0, 0.1],\n",
    "                            [0.1,3.0, 0.1]])  #good because highest value according to Y\n",
    "\n",
    "Y_pred_bad  = torch.tensor([[2.1,1.0, 0.1],\n",
    "                            [0.1,1.0, 2.1],\n",
    "                            [0.1,3.0, 0.1]\n",
    "                           ])  #bad \n",
    "\n",
    "l1 = loss(Y_pred_good, Y)\n",
    "l2 = loss(Y_pred_bad, Y)\n",
    "\n",
    "print(l1.item())\n",
    "print(l2.item())\n"
   ]
  },
  {
   "cell_type": "markdown",
   "metadata": {},
   "source": [
    "<img src=\"images/NeuralNet-WithSoftmax.png\">\n",
    "(source : https://www.youtube.com/watch?v=7q7E91pHoW4)"
   ]
  },
  {
   "cell_type": "markdown",
   "metadata": {},
   "source": [
    "In pytorch we use Cross Entorpy Loss we should not define softmax layer ourselves - it does automatically."
   ]
  },
  {
   "cell_type": "code",
   "execution_count": 105,
   "metadata": {},
   "outputs": [],
   "source": [
    "# Multiclass Problem\n",
    "\n",
    "class NeuralNet2(nn.Module):\n",
    "    def __init__(self, input_size, hidden_size, num_classes):\n",
    "        super(NeuralNet2, self).__init__()\n",
    "        self.linear1 = nn.Linear(input_size, hidden_size)\n",
    "        self.relu = nn.ReLU()\n",
    "        self.linear2 = nn.Linear(hidden_size, num_classes)\n",
    "        \n",
    "    def forward(self, x):\n",
    "        out = self.linear1(x)\n",
    "        out = self.relu(out)\n",
    "        out = self.linear2(out)\n",
    "        # no softmax at the end\n",
    "        return out\n",
    "    \n",
    "model = NeuralNet2(input_size = 28*28, hidden_size = 5, num_classes=3)\n",
    "criterion = nn.CrossEntropyLoss()  #applies softmax\n"
   ]
  },
  {
   "cell_type": "markdown",
   "metadata": {},
   "source": [
    "<img src=\"images/NeuralNet-WithSigmoid.png\">\n",
    "(source : https://www.youtube.com/watch?v=7q7E91pHoW4)"
   ]
  },
  {
   "cell_type": "code",
   "execution_count": 107,
   "metadata": {},
   "outputs": [],
   "source": [
    "# Multiclass Problem\n",
    "\n",
    "class NeuralNet3(nn.Module):\n",
    "    def __init__(self, input_size, hidden_size):\n",
    "        super(NeuralNet3, self).__init__()\n",
    "        self.linear1 = nn.Linear(input_size, hidden_size)\n",
    "        self.relu = nn.ReLU()\n",
    "        self.linear2 = nn.Linear(hidden_size, 1)  #NOTE 1 - \n",
    "        \n",
    "    def forward(self, x):\n",
    "        out = self.linear1(x)\n",
    "        out = self.relu(out)\n",
    "        out = self.linear2(out)\n",
    "        # sigmoid at the end\n",
    "        y_pred = torch.sigmoid(out)\n",
    "        return y_pred\n",
    "    \n",
    "# Note we DO not have num classes as we are doing binary classification\n",
    "model3 = NeuralNet3(input_size= 28*28, hidden_size = 5) \n",
    "criterion3 = nn.BCELoss()  # binary cross entropy"
   ]
  },
  {
   "cell_type": "code",
   "execution_count": null,
   "metadata": {},
   "outputs": [],
   "source": []
  }
 ],
 "metadata": {
  "kernelspec": {
   "display_name": "Python 3",
   "language": "python",
   "name": "python3"
  },
  "language_info": {
   "codemirror_mode": {
    "name": "ipython",
    "version": 3
   },
   "file_extension": ".py",
   "mimetype": "text/x-python",
   "name": "python",
   "nbconvert_exporter": "python",
   "pygments_lexer": "ipython3",
   "version": "3.7.9"
  }
 },
 "nbformat": 4,
 "nbformat_minor": 4
}
