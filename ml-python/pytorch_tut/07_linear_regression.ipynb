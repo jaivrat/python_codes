{
 "cells": [
  {
   "cell_type": "markdown",
   "metadata": {},
   "source": [
    "## PyTorch Tutorial 07 - Linear Regression\n",
    "https://www.youtube.com/watch?v=YAJ5XBwlN4o"
   ]
  },
  {
   "cell_type": "code",
   "execution_count": 2,
   "metadata": {},
   "outputs": [],
   "source": [
    "# 1) Design model (input, output size, forward pass)\n",
    "# 2) Construct loss and optimizer\n",
    "# 3) Training Loop \n",
    "    #- forward pass: compute prediction\n",
    "    #- backward pass: gradients\n",
    "    #- update weights"
   ]
  },
  {
   "cell_type": "code",
   "execution_count": 3,
   "metadata": {},
   "outputs": [],
   "source": [
    "import torch\n",
    "import torch.nn as nn\n",
    "import numpy as np\n",
    "from sklearn import datasets\n",
    "import matplotlib.pyplot as plt\n",
    "\n",
    "# 0) prepare data\n",
    "\n",
    "# 1) model\n",
    "# 2) loss and optimizer\n",
    "# 3) training loop\n"
   ]
  },
  {
   "cell_type": "code",
   "execution_count": 13,
   "metadata": {},
   "outputs": [
    {
     "name": "stdout",
     "output_type": "stream",
     "text": [
      "epoch: 10, loss = 4287.3062\n",
      "epoch: 20, loss = 3200.5012\n",
      "epoch: 30, loss = 2414.2307\n",
      "epoch: 40, loss = 1844.7753\n",
      "epoch: 50, loss = 1431.9382\n",
      "epoch: 60, loss = 1132.3682\n",
      "epoch: 70, loss = 914.8035\n",
      "epoch: 80, loss = 756.6726\n",
      "epoch: 90, loss = 641.6561\n",
      "epoch: 100, loss = 557.9432\n"
     ]
    },
    {
     "data": {
      "image/png": "[encoded data removed]",
      "text/plain": [
       "<Figure size 432x288 with 1 Axes>"
      ]
     },
     "metadata": {
      "needs_background": "light"
     },
     "output_type": "display_data"
    }
   ],
   "source": [
    "# 0) prepare data\n",
    "\n",
    "X_numpy, y_numpy = datasets.make_regression(n_samples=100, n_features=1, \n",
    "                                            noise=20, random_state=1)\n",
    "\n",
    "X = torch.from_numpy(X_numpy.astype(np.float32))\n",
    "y = torch.from_numpy(y_numpy.astype(np.float32))\n",
    "# we ant to make it column vector\n",
    "y = y.view(y.shape[0], 1) # reshaping\n",
    "\n",
    "\n",
    "n_samples, n_features = X.shape\n",
    "learning_rate = 0.01\n",
    "\n",
    "# 1) model\n",
    "input_size = n_features\n",
    "output_size = 1 #one value for each sample\n",
    "model = nn.Linear(input_size, output_size)\n",
    "\n",
    "\n",
    "\n",
    "# 2) loss and optimizer\n",
    "criterion = nn.MSELoss()  #use inlbuilt loss function\n",
    "optimizer = torch.optim.SGD(model.parameters(), lr = learning_rate)\n",
    "\n",
    "# 3) training loop\n",
    "num_epochs = 100\n",
    "\n",
    "for epoch in range(num_epochs):\n",
    "    # forward pass\n",
    "    y_predicted = model(X)\n",
    "    loss = criterion(y_predicted, y)\n",
    "    \n",
    "    # backward pass\n",
    "    loss.backward()\n",
    "    \n",
    "    # update\n",
    "    optimizer.step()\n",
    "    \n",
    "    # empty the gradiets\n",
    "    optimizer.zero_grad()\n",
    "    \n",
    "    # print info\n",
    "    if (epoch + 1)%10 == 0:\n",
    "        print(f'epoch: {epoch + 1}, loss = {loss.item():.4f}')\n",
    "\n",
    "        \n",
    "# plot\n",
    "predicted = model(X).detach().numpy() # we want to detach from computational graph (because gradient is enabled)\n",
    "plt.plot(X_numpy, y_numpy, 'ro')\n",
    "plt.plot(X_numpy, predicted, 'b')\n",
    "plt.show()\n"
   ]
  },
  {
   "cell_type": "code",
   "execution_count": null,
   "metadata": {},
   "outputs": [],
   "source": []
  }
 ],
 "metadata": {
  "kernelspec": {
   "display_name": "Python 3",
   "language": "python",
   "name": "python3"
  },
  "language_info": {
   "codemirror_mode": {
    "name": "ipython",
    "version": 3
   },
   "file_extension": ".py",
   "mimetype": "text/x-python",
   "name": "python",
   "nbconvert_exporter": "python",
   "pygments_lexer": "ipython3",
   "version": "3.7.9"
  }
 },
 "nbformat": 4,
 "nbformat_minor": 4
}
