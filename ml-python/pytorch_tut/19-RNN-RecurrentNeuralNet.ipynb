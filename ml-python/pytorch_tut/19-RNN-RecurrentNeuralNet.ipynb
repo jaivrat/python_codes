{
 "cells": [
  {
   "cell_type": "markdown",
   "metadata": {},
   "source": [
    "## PyTorch RNN Tutorial - Name Classification Using A Recurrent Neural Net\n",
    "\n",
    "https://www.youtube.com/watch?v=WEV61GmmPrk\n",
    "\n",
    "<img src=\"images/rnn-first.png\">\n",
    "\n",
    "<img src=\"images/rnn-unfolded.png\">\n",
    "\n",
    "<img src=\"images/rnn-applications.png\">\n",
    "\n",
    "<img src=\"images/rnn-pros-cons.png\">\n",
    "\n",
    "<img src=\"images/rnn-one-hot.png\">\n",
    "\n",
    "<img src=\"images/rnn-name-classification.png\">\n",
    "\n",
    "Further readings:  \n",
    "\n",
    "https://karpathy.github.io/2015/05/21/rnn-effectiveness/\n",
    "\n",
    "https://stanford.edu/~shervine/teaching/cs-230/cheatsheet-recurrent-neural-networks#architecture\n",
    "\n",
    "https://pytorch.org/tutorials/intermediate/char_rnn_classification_tutorial.html\n",
    "\n",
    "\n",
    "**Note that pics and content taken from https://github.com/python-engineer/pytorch-examples just while learning the apis of pytorch myself** \n",
    "\n",
    "\n",
    "In our examples we will do name classification - data is from names of people from 18 different countries.\n",
    "\n",
    "Data taken from [here](https://download.pytorch.org/tutorial/data.zip)\n",
    "\n",
    "and stored here  /Users/jvsingh/work/github/python_codes/learn/data/rnn-data \n",
    "\n",
    "\n",
    "We will take whole name as a sequence and put in rnn as one input"
   ]
  },
  {
   "cell_type": "code",
   "execution_count": 25,
   "metadata": {},
   "outputs": [],
   "source": [
    "import io\n",
    "import os\n",
    "import unicodedata\n",
    "import string\n",
    "import glob\n",
    "\n",
    "import torch\n",
    "import random\n",
    "\n",
    "# alphabet small + capital letters + \" .,;'\"\n",
    "ALL_LETTERS = string.ascii_letters + \" .,;'\"\n",
    "N_LETTERS = len(ALL_LETTERS)\n",
    "\n",
    "# Turn a Unicode string to plain ASCII, thanks to https://stackoverflow.com/a/518232/2809427\n",
    "def unicode_to_ascii(s):\n",
    "    return ''.join(\n",
    "        c for c in unicodedata.normalize('NFD', s)\n",
    "        if unicodedata.category(c) != 'Mn'\n",
    "        and c in ALL_LETTERS\n",
    "    )\n",
    "\n",
    "def load_data():\n",
    "    # Build the category_lines dictionary, a list of names per language\n",
    "    category_lines = {}\n",
    "    all_categories = []\n",
    "    \n",
    "    def find_files(path):\n",
    "        return glob.glob(path)\n",
    "    \n",
    "    # Read a file and split into lines\n",
    "    def read_lines(filename):\n",
    "        lines = io.open(filename, encoding='utf-8').read().strip().split('\\n')\n",
    "        return [unicode_to_ascii(line) for line in lines]\n",
    "    \n",
    "    for filename in find_files('data/rnn-data/data/names/*.txt'):\n",
    "        #print(f\"Debug: filename: {filename}\")\n",
    "        category = os.path.splitext(os.path.basename(filename))[0]\n",
    "        all_categories.append(category)\n",
    "        \n",
    "        lines = read_lines(filename)\n",
    "        category_lines[category] = lines\n",
    "        \n",
    "    return category_lines, all_categories\n",
    "\n",
    "\n",
    "\n",
    "\"\"\"\n",
    "To represent a single letter, we use a “one-hot vector” of \n",
    "size <1 x n_letters>. A one-hot vector is filled with 0s\n",
    "except for a 1 at index of the current letter, e.g. \"b\" = <0 1 0 0 0 ...>.\n",
    "To make a word we join a bunch of those into a\n",
    "2D matrix <line_length x 1 x n_letters>.\n",
    "That extra 1 dimension is because PyTorch assumes\n",
    "everything is in batches - we’re just using a batch size of 1 here.\n",
    "\"\"\"\n",
    "\n",
    "# Find letter index from all_letters, e.g. \"a\" = 0\n",
    "def letter_to_index(letter):\n",
    "    return ALL_LETTERS.find(letter)\n",
    "\n",
    "# Just for demonstration, turn a letter into a <1 x n_letters> Tensor\n",
    "def letter_to_tensor(letter):\n",
    "    tensor = torch.zeros(1, N_LETTERS)\n",
    "    tensor[0][letter_to_index(letter)] = 1\n",
    "    return tensor\n",
    "\n",
    "# Turn a line into a <line_length x 1 x n_letters>,\n",
    "# or an array of one-hot letter vectors\n",
    "def line_to_tensor(line):\n",
    "    tensor = torch.zeros(len(line), 1, N_LETTERS)\n",
    "    for i, letter in enumerate(line):\n",
    "        tensor[i][0][letter_to_index(letter)] = 1\n",
    "    return tensor\n",
    "\n",
    "# This gives random choice from names and return correspoding country\n",
    "def random_training_example(category_lines, all_categories):\n",
    "    \n",
    "    def random_choice(a):\n",
    "        random_idx = random.randint(0, len(a) - 1)\n",
    "        return a[random_idx]\n",
    "    \n",
    "    category = random_choice(all_categories)\n",
    "    line = random_choice(category_lines[category])\n",
    "    category_tensor = torch.tensor([all_categories.index(category)], dtype=torch.long)\n",
    "    line_tensor = line_to_tensor(line)\n",
    "    return category, line, category_tensor, line_tensor"
   ]
  },
  {
   "cell_type": "code",
   "execution_count": 26,
   "metadata": {},
   "outputs": [
    {
     "name": "stdout",
     "output_type": "stream",
     "text": [
      "abcdefghijklmnopqrstuvwxyzABCDEFGHIJKLMNOPQRSTUVWXYZ .,;'\n",
      "Slusarski\n"
     ]
    }
   ],
   "source": [
    "print(ALL_LETTERS)\n",
    "# This leaves only\n",
    "print(unicode_to_ascii('Ślusàrski'))"
   ]
  },
  {
   "cell_type": "code",
   "execution_count": 28,
   "metadata": {},
   "outputs": [
    {
     "name": "stdout",
     "output_type": "stream",
     "text": [
      "tensor([[0., 0., 0., 0., 0., 0., 0., 0., 0., 0., 0., 0., 0., 0., 0., 0., 0., 0.,\n",
      "         0., 0., 0., 0., 0., 0., 0., 0., 0., 0., 0., 0., 0., 0., 0., 0., 0., 1.,\n",
      "         0., 0., 0., 0., 0., 0., 0., 0., 0., 0., 0., 0., 0., 0., 0., 0., 0., 0.,\n",
      "         0., 0., 0.]])\n"
     ]
    }
   ],
   "source": [
    "# We use one-hot encoding \n",
    "print(letter_to_tensor('J'))"
   ]
  },
  {
   "cell_type": "code",
   "execution_count": 32,
   "metadata": {},
   "outputs": [
    {
     "name": "stdout",
     "output_type": "stream",
     "text": [
      "torch.Size([5, 1, 57])\n"
     ]
    }
   ],
   "source": [
    "# each letter is 57-dim one-hot vector (1 x 57) \n",
    "# and 5 letter word => 5 x 1 x 57\n",
    "print(line_to_tensor('Jones').size())"
   ]
  },
  {
   "cell_type": "code",
   "execution_count": 31,
   "metadata": {},
   "outputs": [
    {
     "data": {
      "text/plain": [
       "['Abandonato', 'Abatangelo', 'Abatantuono', 'Abate', 'Abategiovanni']"
      ]
     },
     "execution_count": 31,
     "metadata": {},
     "output_type": "execute_result"
    }
   ],
   "source": [
    "# Loads data from /Users/jvsingh/work/github/python_codes/ml-python/pytorch_tut\n",
    "category_lines, all_categories = load_data()\n",
    "category_lines['Italian'][:5]"
   ]
  },
  {
   "cell_type": "markdown",
   "metadata": {},
   "source": [
    "##### NOTE\n",
    "**all_categories** => All countries ie the categories or classifications\n",
    "\n",
    "**category_lines** => Dictionary of country/category => list of names"
   ]
  },
  {
   "cell_type": "code",
   "execution_count": 35,
   "metadata": {},
   "outputs": [],
   "source": [
    "#all_categories\n",
    "#category_lines"
   ]
  },
  {
   "cell_type": "markdown",
   "metadata": {},
   "source": [
    "## WRITE RNN HERE\n",
    "\n",
    "<img src=\"images/rnn-name-classification.png\">"
   ]
  },
  {
   "cell_type": "code",
   "execution_count": 37,
   "metadata": {},
   "outputs": [],
   "source": [
    "import torch\n",
    "import torch.nn as nn \n",
    "import matplotlib.pyplot as plt\n",
    "\n",
    "# Not needed to import as we have defined in this notebook itself\n",
    "# from utils import ALL_LETTERS, N_LETTERS\n",
    "# from utils import load_data, letter_to_tensor, line_to_tensor, random_training_example\n",
    "\n",
    "\n",
    "\n",
    "class RNN(nn.Module):\n",
    "    # note that nn.RNN module avilable in python\n",
    "    # we are impmeenting from scratch for a better understanding\n",
    "    def __init__(self, input_size, hidden_size, output_size):\n",
    "        super(RNN, self).__init__()\n",
    "        self.hidden_size = hidden_size\n",
    "        # output two hidden layers : we combine them (is one layer with different array loc??)\n",
    "        # how does this combine work - may be python engineer tells later\n",
    "        self.i2h = nn.Linear(input_size + hidden_size, hidden_size) # U Arrow in pic\n",
    "        self.i2o = nn.Linear(input_size + hidden_size, output_size) # W Arrow in pic\n",
    "        # Softmax layer\n",
    "        self.softmax = nn.LogSoftmax(dim = 1)\n",
    "    \n",
    "    def forward(self, input_tensor, hidden_tensor):\n",
    "        combined = torch.cat((input_tensor, hidden_tensor), 1)\n",
    "        # then we apply our linear layer\n",
    "        hidden  = self.i2h(combined)\n",
    "        output  = self.i2o(combined)\n",
    "        output  = self.softmax(output)\n",
    "        return output, hidden\n",
    "    \n",
    "    def init_hidden(self):\n",
    "        return torch.zeros(1, self.hidden_size)\n"
   ]
  },
  {
   "cell_type": "markdown",
   "metadata": {},
   "source": [
    "Above is what we need for RNN implementation"
   ]
  },
  {
   "cell_type": "code",
   "execution_count": 38,
   "metadata": {},
   "outputs": [
    {
     "name": "stdout",
     "output_type": "stream",
     "text": [
      "n_categories: 18\n"
     ]
    }
   ],
   "source": [
    "# Load data \n",
    "# category_lines : dict of country name => names list\n",
    "# all_categories : list of names of all countries\n",
    "category_lines, all_categories = load_data()\n",
    "\n",
    "# Number of categories/countries\n",
    "n_categories = len(all_categories)\n",
    "print(f'n_categories: {n_categories}')"
   ]
  },
  {
   "cell_type": "markdown",
   "metadata": {},
   "source": [
    "We have 18 categories for 18 country files "
   ]
  },
  {
   "cell_type": "markdown",
   "metadata": {},
   "source": [
    "##### Just to check if this is working:"
   ]
  },
  {
   "cell_type": "code",
   "execution_count": 41,
   "metadata": {},
   "outputs": [
    {
     "name": "stdout",
     "output_type": "stream",
     "text": [
      "output.size(): torch.Size([1, 18])\n",
      "next_hidden.size(): torch.Size([1, 128])\n"
     ]
    }
   ],
   "source": [
    "# Hyper parameters. We can define anything - lets do 128 first\n",
    "n_hidden = 128\n",
    "\n",
    "# \n",
    "rnn = RNN(N_LETTERS, n_hidden, n_categories) # N_LETTERS = 57\n",
    "\n",
    "# one step\n",
    "input_tensor = letter_to_tensor('A')\n",
    "hidden_tensor = rnn.init_hidden()\n",
    "#print(f\"hidden_tensor: {hidden_tensor}\")\n",
    "\n",
    "# process this: forward pass\n",
    "output, next_hidden = rnn(input_tensor, hidden_tensor)\n",
    "print(f'output.size(): {output.size()}')\n",
    "print(f'next_hidden.size(): {next_hidden.size()}')\n"
   ]
  },
  {
   "cell_type": "markdown",
   "metadata": {},
   "source": [
    "We saw how it above for one character - now we do it for a sequence. Each character is one input. Then in the last we take the output and apply softmax, then chose one with highest probability \n",
    "\n",
    "<img src=\"images/rnn-unfolded.png\">"
   ]
  },
  {
   "cell_type": "code",
   "execution_count": 20,
   "metadata": {},
   "outputs": [
    {
     "name": "stdout",
     "output_type": "stream",
     "text": [
      "input_tensor.size(): torch.Size([6, 1, 57])\n",
      "hidden_tensor.size(): torch.Size([1, 128])\n",
      "output.size(): torch.Size([1, 18])\n",
      "next_hidden.size(): torch.Size([1, 128])\n"
     ]
    }
   ],
   "source": [
    "# whole sequence name\n",
    "input_tensor = line_to_tensor('Albert')\n",
    "hidden_tensor = rnn.init_hidden()\n",
    "print(f'input_tensor.size(): {input_tensor.size()}')\n",
    "print(f'hidden_tensor.size(): {hidden_tensor.size()}')\n",
    "\n",
    "# we have to repeatedly apply for each character\n",
    "output, next_hidden = rnn(input_tensor[0], hidden_tensor) #not this calls to forward\n",
    "print(f'output.size(): {output.size()}')\n",
    "print(f'next_hidden.size(): {next_hidden.size()}')"
   ]
  },
  {
   "cell_type": "code",
   "execution_count": 21,
   "metadata": {},
   "outputs": [
    {
     "name": "stdout",
     "output_type": "stream",
     "text": [
      "Scottish\n"
     ]
    }
   ],
   "source": [
    "\n",
    "def category_from_output(output):\n",
    "    # we want to return index of greatest value\n",
    "    category_idx = torch.argmax(output).item()\n",
    "    return all_categories[category_idx]\n",
    "\n",
    "print(category_from_output(output))"
   ]
  },
  {
   "cell_type": "code",
   "execution_count": 45,
   "metadata": {},
   "outputs": [
    {
     "name": "stdout",
     "output_type": "stream",
     "text": [
      "4999 4.999  1.6971 Song / Chinese  CORRECT\n",
      "9999 9.998999999999999  1.9713 Mclean / Irish  WRONG (Scottish)\n",
      "14999 14.999  4.4162 Maas / Vietnamese  WRONG (German)\n",
      "19999 19.999  4.3916 Turulo / Portuguese  WRONG (Russian)\n",
      "24999 24.999  1.7381 Zhou / Korean  WRONG (Chinese)\n",
      "29999 29.999  1.3806 D'cruz / Spanish  WRONG (Portuguese)\n",
      "34999 34.999  0.7649 Basurto / Portuguese  CORRECT\n",
      "39999 39.999  0.8123 Basara / Arabic  CORRECT\n",
      "44999 44.999  1.3020 Coiro / Portuguese  WRONG (Italian)\n",
      "49999 49.999  0.0487 O'Neill / Irish  CORRECT\n",
      "54999 54.998999999999995  1.3266 Zientek / Polish  CORRECT\n",
      "59999 59.999  0.6387 Hnizdil / Czech  CORRECT\n",
      "64999 64.999  0.9839 Marek / Polish  CORRECT\n",
      "69999 69.999  2.8306 Spoerl / Dutch  WRONG (Czech)\n",
      "74999 74.99900000000001  0.6490 Mei / Chinese  CORRECT\n",
      "79999 79.999  0.2884 Kuijpers / Dutch  CORRECT\n",
      "84999 84.999  0.7561 Sedmik / Czech  CORRECT\n",
      "89999 89.999  0.1856 Glynatsis / Greek  CORRECT\n",
      "94999 94.999  3.4561 Petit / French  WRONG (Spanish)\n",
      "99999 99.99900000000001  1.2599 Brown / Scottish  CORRECT\n"
     ]
    },
    {
     "data": {
      "image/png": "[encoded data removed]",
      "text/plain": [
       "<Figure size 432x288 with 1 Axes>"
      ]
     },
     "metadata": {
      "needs_background": "light"
     },
     "output_type": "display_data"
    }
   ],
   "source": [
    "\n",
    "#-------------- Training here ---------------#\n",
    "\n",
    "# 1. set up optimizer\n",
    "criterion = nn.NLLLoss() # negative log likelihood\n",
    "learning_rate = 0.005\n",
    "optimizer = torch.optim.SGD(rnn.parameters(), lr=learning_rate)\n",
    "\n",
    "# 2. Train for one word ie name/country\n",
    "def train(line_tensor, category_tensor):\n",
    "    hidden = rnn.init_hidden()\n",
    "    \n",
    "    # looping through all letters of name\n",
    "    for i in range(line_tensor.size()[0]): #line_tensor.size()[0]: length of name\n",
    "        output, hidden = rnn(line_tensor[i], hidden) # note this calls to forward\n",
    "        \n",
    "    # Loss will be only on final output - as we are \n",
    "    # doing many to 1(final country classification)    \n",
    "    loss = criterion(output, category_tensor)\n",
    "    \n",
    "    # gradient descent\n",
    "    optimizer.zero_grad()\n",
    "    loss.backward()\n",
    "    optimizer.step()\n",
    "    \n",
    "    # WHY are we returning output here? i think not needed\n",
    "    # output -> Just for printing later in diagnostics while training progress\n",
    "    return output, loss.item()  \n",
    "    \n",
    "\n",
    "    \n",
    "# 3. Train for many iterations (kind of epochs, but not in true sense as we \n",
    "#    are doing random selection of examples)\n",
    "current_loss = 0\n",
    "all_losses = []\n",
    "plot_steps, print_steps = 1000, 5000\n",
    "n_iters = 100000\n",
    "\n",
    "\n",
    "for i in range(n_iters):\n",
    "    category, line, category_tensor, line_tensor = random_training_example(category_lines, \n",
    "                                                                           all_categories)\n",
    "    \n",
    "    output, loss = train(line_tensor, category_tensor)\n",
    "    current_loss += loss\n",
    "    \n",
    "    if (i + 1) % plot_steps == 0:\n",
    "        all_losses.append(current_loss/plot_steps) # average loss\n",
    "        current_loss = 0\n",
    "    if (i + 1) % print_steps == 0:\n",
    "        guess = category_from_output(output)\n",
    "        correct = \"CORRECT\" if guess == category else f\"WRONG ({category})\"\n",
    "        print(f'{i} {i/n_iters*100}  {loss:.4f} {line} / {guess}  {correct}')\n",
    "        \n",
    "plt.figure()\n",
    "plt.plot(all_losses)\n",
    "plt.show()\n"
   ]
  },
  {
   "cell_type": "code",
   "execution_count": 46,
   "metadata": {},
   "outputs": [
    {
     "name": "stdout",
     "output_type": "stream",
     "text": [
      "Input: Mikhail\n",
      "\n",
      "> Mikhail\n",
      "Japanese\n",
      "Input: Recce\n",
      "\n",
      "> Recce\n",
      "German\n",
      "Input: Alexander\n",
      "\n",
      "> Alexander\n",
      "German\n",
      "Input: quit\n"
     ]
    }
   ],
   "source": [
    "def predict(input_line):\n",
    "    print(f\"\\n> {input_line}\")\n",
    "    with torch.no_grad():\n",
    "        line_tensor = line_to_tensor(input_line)\n",
    "        hidden = rnn.init_hidden()\n",
    "        \n",
    "        for i in range(line_tensor.size()[0]):\n",
    "            output, hidden = rnn(line_tensor[i], hidden)\n",
    "            \n",
    "        guess = category_from_output(output)\n",
    "        print(guess)\n",
    "        \n",
    "while True:\n",
    "    sentence = input(\"Input: \")\n",
    "    if sentence == \"quit\":\n",
    "        break\n",
    "    \n",
    "    predict(sentence)"
   ]
  },
  {
   "cell_type": "markdown",
   "metadata": {},
   "source": [
    " Pretty bad :( \n",
    " \n",
    " but i learned how to do :)"
   ]
  },
  {
   "cell_type": "code",
   "execution_count": null,
   "metadata": {},
   "outputs": [],
   "source": []
  }
 ],
 "metadata": {
  "kernelspec": {
   "display_name": "Python 3",
   "language": "python",
   "name": "python3"
  },
  "language_info": {
   "codemirror_mode": {
    "name": "ipython",
    "version": 3
   },
   "file_extension": ".py",
   "mimetype": "text/x-python",
   "name": "python",
   "nbconvert_exporter": "python",
   "pygments_lexer": "ipython3",
   "version": "3.7.9"
  }
 },
 "nbformat": 4,
 "nbformat_minor": 4
}
