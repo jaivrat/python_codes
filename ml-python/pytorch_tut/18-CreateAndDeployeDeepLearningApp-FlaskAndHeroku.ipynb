{
 "cells": [
  {
   "cell_type": "markdown",
   "metadata": {},
   "source": [
    "### Create & Deploy A Deep Learning App - PyTorch Model Deployment With Flask & Heroku\n",
    "https://www.youtube.com/watch?v=bA7-DEtYCNM\n",
    "\n",
    "\n",
    "Create a new directory called pytorch-flask"
   ]
  },
  {
   "cell_type": "code",
   "execution_count": 2,
   "metadata": {},
   "outputs": [
    {
     "name": "stdout",
     "output_type": "stream",
     "text": [
      "/Users/jvsingh/work/github/python_codes/ml-python/pytorch_tut\r\n"
     ]
    }
   ],
   "source": [
    "!pwd"
   ]
  },
  {
   "cell_type": "code",
   "execution_count": 4,
   "metadata": {},
   "outputs": [],
   "source": [
    "!mkdir pytorch-flask-tutorial"
   ]
  },
  {
   "cell_type": "markdown",
   "metadata": {},
   "source": [
    "```unix\n",
    "> mkdir pytorch-flask-tutorial\n",
    "> cd pytorch-flask-tutorial\n",
    "> python3 -m venv venv\n",
    "> . venv/bin/activate\n",
    "> pip install Flask\n",
    "> pip install torch torchvision\n",
    "> mkdir app\n",
    "# Open editor\n",
    "> code .\n",
    "\n",
    "```\n",
    "\n",
    "This is more of hands on have a look at tutorial directly. I am checking in the folder structure. After the codes, run the flask server after setting up environment\n",
    "\n",
    "```unix\n",
    "(venv) (base) jvsingh: ~/work/github/python_codes/ml-python/pytorch_tut/pytorch-flask-tutorial/app  -> export FLASK_APP=main.py\n",
    "(venv) (base) jvsingh: ~/work/github/python_codes/ml-python/pytorch_tut/pytorch-flask-tutorial/app  -> export FLASK_ENV=development\n",
    "(venv) (base) jvsingh: ~/work/github/python_codes/ml-python/pytorch_tut/pytorch-flask-tutorial/app  -> flask run\n",
    "```\n",
    "\n",
    "Then save few test images from internet or yourself and send to flask for processing from the test.py. You will see responses like this\n",
    "```unix\n",
    "(base) jvsingh: ~/work/github/python_codes/ml-python/pytorch_tut/pytorch-flask-tutorial/test  -> python test.py \n",
    "Sending image sample_image_seven.png to server\n",
    "{\n",
    "  \"class_name\": \"7\", \n",
    "  \"prediction\": 7\n",
    "}\n",
    "\n",
    "Sending image my_image_five_test.png to server\n",
    "{\n",
    "  \"class_name\": \"5\", \n",
    "  \"prediction\": 5\n",
    "}\n",
    "\n",
    "Sending image my_image_3_test.png to server\n",
    "{\n",
    "  \"class_name\": \"3\", \n",
    "  \"prediction\": 3\n",
    "}\n",
    "\n",
    "(base) jvsingh: ~/work/github/python_codes/ml-python/pytorch_tut/pytorch-flask-tutorial/test  ->\n",
    "```\n"
   ]
  },
  {
   "cell_type": "code",
   "execution_count": null,
   "metadata": {},
   "outputs": [],
   "source": []
  }
 ],
 "metadata": {
  "kernelspec": {
   "display_name": "Python 3",
   "language": "python",
   "name": "python3"
  },
  "language_info": {
   "codemirror_mode": {
    "name": "ipython",
    "version": 3
   },
   "file_extension": ".py",
   "mimetype": "text/x-python",
   "name": "python",
   "nbconvert_exporter": "python",
   "pygments_lexer": "ipython3",
   "version": "3.7.9"
  }
 },
 "nbformat": 4,
 "nbformat_minor": 4
}
