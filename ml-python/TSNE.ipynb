{
 "cells": [
  {
   "cell_type": "code",
   "execution_count": 1,
   "metadata": {
    "collapsed": true
   },
   "outputs": [],
   "source": [
    "#TSNE\n",
    "#import sklearn\n",
    "from sklearn.manifold import TSNE\n",
    "import numpy as np"
   ]
  },
  {
   "cell_type": "code",
   "execution_count": 2,
   "metadata": {},
   "outputs": [
    {
     "data": {
      "image/png": "[encoded data removed]",
      "text/plain": [
       "<matplotlib.figure.Figure at 0x10c8b18d0>"
      ]
     },
     "metadata": {},
     "output_type": "display_data"
    }
   ],
   "source": [
    "#Generate some Multivariate Gaussian datapoints with a given mean and covariance matrix\n",
    "mean1 = [0, 0]\n",
    "cov1 = [[2, 0.8], [0.8, 2]]  # diagonal covariance\n",
    "import matplotlib.pyplot as plt\n",
    "%matplotlib inline  \n",
    "x, y = np.random.multivariate_normal(mean1, cov1, 5000).T\n",
    "plt.plot(x, y, 'x')\n",
    "plt.axis('equal')\n",
    "plt.show()"
   ]
  },
  {
   "cell_type": "code",
   "execution_count": 3,
   "metadata": {},
   "outputs": [
    {
     "name": "stdout",
     "output_type": "stream",
     "text": [
      "Cluser 0\n",
      "[[ 0.33073234  0.06312357  0.0114616 ]\n",
      " [ 0.06312357  0.79445483 -0.00980406]\n",
      " [ 0.0114616  -0.00980406  0.04376553]]\n",
      "Cluser 1\n",
      "[[  3.37041581e-01  -7.14497990e-02   3.28849637e-02]\n",
      " [ -7.14497990e-02   3.03772532e-02   2.31867128e-05]\n",
      " [  3.28849637e-02   2.31867128e-05   3.12115286e-02]]\n",
      "Cluser 2\n",
      "[[ 0.30786854 -0.24325983  0.22860698]\n",
      " [-0.24325983  0.3749658  -0.07361447]\n",
      " [ 0.22860698 -0.07361447  0.57407839]]\n",
      "Cluser 3\n",
      "[[ 0.02782419  0.02270489 -0.01205019]\n",
      " [ 0.02270489  0.11858371  0.00867588]\n",
      " [-0.01205019  0.00867588  0.13035479]]\n",
      "Cluser 4\n",
      "[[ 0.21926064  0.0247874  -0.36389771]\n",
      " [ 0.0247874   0.059442    0.13394041]\n",
      " [-0.36389771  0.13394041  0.87205602]]\n",
      "Cluser 5\n",
      "[[ 0.00430238 -0.0100016  -0.00594731]\n",
      " [-0.0100016   0.11805486  0.07317793]\n",
      " [-0.00594731  0.07317793  0.12548812]]\n",
      "Cluser 6\n",
      "[[ 0.00554738 -0.01543382 -0.05043842]\n",
      " [-0.01543382  0.95772768 -0.55852147]\n",
      " [-0.05043842 -0.55852147  0.97762664]]\n",
      "Cluser 7\n",
      "[[ 0.82698881  0.17493386  0.02483425]\n",
      " [ 0.17493386  0.4634202   0.115941  ]\n",
      " [ 0.02483425  0.115941    0.0940834 ]]\n",
      "Cluser 8\n",
      "[[ 0.16371169 -0.08157704  0.07281597]\n",
      " [-0.08157704  0.10923248  0.0121036 ]\n",
      " [ 0.07281597  0.0121036   0.91913656]]\n",
      "Cluser 9\n",
      "[[  7.70669932e-01  -7.00608342e-02  -3.22704547e-03]\n",
      " [ -7.00608342e-02   2.40547022e-01  -7.19062773e-04]\n",
      " [ -3.22704547e-03  -7.19062773e-04   1.09536411e-04]]\n"
     ]
    },
    {
     "name": "stderr",
     "output_type": "stream",
     "text": [
      "/Users/jvsingh/anaconda2/envs/py36/lib/python3.6/site-packages/ipykernel_launcher.py:19: RuntimeWarning: covariance is not positive-semidefinite.\n"
     ]
    }
   ],
   "source": [
    "DIM = 3\n",
    "SCALE = 1\n",
    "NUMPTSPERCLUSTER=300\n",
    "numClusters = 10\n",
    "\n",
    "np.random.seed(100)\n",
    "\n",
    "X_final = None\n",
    "labels  = None\n",
    "for cl in range(0,numClusters):\n",
    "    corr = np.random.uniform(-1,1,size=(DIM,DIM))\n",
    "    corr = (corr + corr.T)/2\n",
    "    np.fill_diagonal(corr, np.ones(DIM))\n",
    "    sig = np.diag(np.random.uniform(low=0.0, high=1.0, size=DIM) * SCALE)\n",
    "    mu  = np.ones(DIM)*cl*10\n",
    "    cov = np.matmul(np.matmul(sig, corr),sig)\n",
    "    print(\"Cluser %s\" % cl)\n",
    "    print(cov)\n",
    "    X   = np.random.multivariate_normal(mu, cov, NUMPTSPERCLUSTER)\n",
    "    if(X_final is None):\n",
    "        X_final = X\n",
    "        labels  = np.ones(NUMPTSPERCLUSTER) * cl\n",
    "    else:\n",
    "        X_final = np.vstack((X_final, X))\n",
    "        labels  = np.append(labels, np.ones(NUMPTSPERCLUSTER)* cl)"
   ]
  },
  {
   "cell_type": "code",
   "execution_count": 4,
   "metadata": {},
   "outputs": [
    {
     "name": "stdout",
     "output_type": "stream",
     "text": [
      "(3000, 3)\n",
      "(3000,)\n",
      "[ 0.  0.  0.  0.  0.  0.  0.  0.  0.  0.]\n"
     ]
    }
   ],
   "source": [
    "print(X_final.shape)\n",
    "print(labels.shape)\n",
    "print(labels[0:10])"
   ]
  },
  {
   "cell_type": "code",
   "execution_count": 5,
   "metadata": {},
   "outputs": [
    {
     "name": "stdout",
     "output_type": "stream",
     "text": [
      "CPU times: user 1min 1s, sys: 5.95 s, total: 1min 7s\n",
      "Wall time: 1min 7s\n"
     ]
    }
   ],
   "source": [
    "model = TSNE(n_components=2, random_state=0, perplexity = 30)\n",
    "#configuring the parameters\n",
    "# the number of components = 2\n",
    "# Default perplexity  = 30 \n",
    "# default learning rate = 200\n",
    "# default Maximum number of iterations for the optimization = 1000\n",
    "\n",
    "%time tsne_data = model.fit_transform(X_final)\n",
    "# 50 * 10 => 5.64s\n",
    "#100 * 10 => 12.3s\n",
    "#200 * 10 => 28.6s\n"
   ]
  },
  {
   "cell_type": "code",
   "execution_count": 13,
   "metadata": {},
   "outputs": [
    {
     "data": {
      "text/plain": [
       "numpy.ndarray"
      ]
     },
     "execution_count": 13,
     "metadata": {},
     "output_type": "execute_result"
    }
   ],
   "source": [
    "type(tsne_data)"
   ]
  },
  {
   "cell_type": "code",
   "execution_count": 6,
   "metadata": {
    "collapsed": true
   },
   "outputs": [],
   "source": [
    "#Creating a new data frame which help us in plotting the result data\n",
    "import pandas as pd\n",
    "tsne_data_stack = np.append(tsne_data, np.array([labels]).T, axis=1)\n",
    "tsne_df = pd.DataFrame(data= tsne_data_stack, columns = (\"Dim_1\", \"Dim_2\", \"label\"))"
   ]
  },
  {
   "cell_type": "code",
   "execution_count": 7,
   "metadata": {},
   "outputs": [
    {
     "data": {
      "text/plain": [
       "(3000, 1)"
      ]
     },
     "execution_count": 7,
     "metadata": {},
     "output_type": "execute_result"
    }
   ],
   "source": [
    "np.array([labels]).T.shape"
   ]
  },
  {
   "cell_type": "code",
   "execution_count": 8,
   "metadata": {},
   "outputs": [
    {
     "name": "stdout",
     "output_type": "stream",
     "text": [
      "<class 'numpy.ndarray'>\n"
     ]
    },
    {
     "data": {
      "text/plain": [
       "(3000, 2)"
      ]
     },
     "execution_count": 8,
     "metadata": {},
     "output_type": "execute_result"
    }
   ],
   "source": [
    "print(type(tsne_data))\n",
    "tsne_data.shape"
   ]
  },
  {
   "cell_type": "code",
   "execution_count": 9,
   "metadata": {},
   "outputs": [
    {
     "data": {
      "text/plain": [
       "(3000,)"
      ]
     },
     "execution_count": 9,
     "metadata": {},
     "output_type": "execute_result"
    }
   ],
   "source": [
    "type(labels)\n",
    "labels.shape"
   ]
  },
  {
   "cell_type": "code",
   "execution_count": 10,
   "metadata": {},
   "outputs": [
    {
     "data": {
      "image/png": "[encoded data removed]",
      "text/plain": [
       "<matplotlib.figure.Figure at 0x1a1818dcf8>"
      ]
     },
     "metadata": {},
     "output_type": "display_data"
    }
   ],
   "source": [
    "import seaborn as sn\n",
    "import matplotlib.pyplot as plt\n",
    "%matplotlib inline  \n",
    "sn.FacetGrid(tsne_df, hue=\"label\", size=6).map(plt.scatter, \"Dim_1\", \"Dim_2\")\n",
    "plt.show()"
   ]
  },
  {
   "cell_type": "code",
   "execution_count": 11,
   "metadata": {
    "collapsed": true
   },
   "outputs": [],
   "source": [
    "?TSNE"
   ]
  },
  {
   "cell_type": "code",
   "execution_count": null,
   "metadata": {
    "collapsed": true
   },
   "outputs": [],
   "source": []
  }
 ],
 "metadata": {
  "kernelspec": {
   "display_name": "Python 3",
   "language": "python",
   "name": "python3"
  },
  "language_info": {
   "codemirror_mode": {
    "name": "ipython",
    "version": 3
   },
   "file_extension": ".py",
   "mimetype": "text/x-python",
   "name": "python",
   "nbconvert_exporter": "python",
   "pygments_lexer": "ipython3",
   "version": "3.6.3"
  }
 },
 "nbformat": 4,
 "nbformat_minor": 2
}
