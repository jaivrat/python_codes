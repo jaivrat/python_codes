{
 "cells": [
  {
   "cell_type": "markdown",
   "metadata": {},
   "source": [
    "Take out the root stem of the word"
   ]
  },
  {
   "cell_type": "code",
   "execution_count": 1,
   "metadata": {
    "collapsed": true
   },
   "outputs": [],
   "source": [
    "# I was riding in the car\n",
    "# I was taking a ride in the car"
   ]
  },
  {
   "cell_type": "code",
   "execution_count": 3,
   "metadata": {
    "collapsed": true
   },
   "outputs": [],
   "source": [
    "from nltk.stem import PorterStemmer\n",
    "from nltk.tokenize import word_tokenize"
   ]
  },
  {
   "cell_type": "code",
   "execution_count": 4,
   "metadata": {
    "collapsed": true
   },
   "outputs": [],
   "source": [
    "ps = PorterStemmer()\n",
    "\n",
    "exmple_words = [\"python\", \"pythoner\", \"Pythoning\", 'Pythoned', 'pythonly']"
   ]
  },
  {
   "cell_type": "code",
   "execution_count": 8,
   "metadata": {
    "collapsed": false
   },
   "outputs": [
    {
     "name": "stdout",
     "output_type": "stream",
     "text": [
      "python\n",
      "python\n",
      "python\n",
      "python\n",
      "pythonli\n"
     ]
    }
   ],
   "source": [
    "for w in exmple_words:\n",
    "    print (ps.stem(w.lower()))"
   ]
  },
  {
   "cell_type": "code",
   "execution_count": 9,
   "metadata": {
    "collapsed": false
   },
   "outputs": [
    {
     "data": {
      "text/plain": [
       "[u'python', u'python', u'python', u'python', u'pythonli']"
      ]
     },
     "execution_count": 9,
     "metadata": {},
     "output_type": "execute_result"
    }
   ],
   "source": [
    "[ ps.stem(w.lower()) for w in exmple_words]"
   ]
  },
  {
   "cell_type": "code",
   "execution_count": 15,
   "metadata": {
    "collapsed": true
   },
   "outputs": [],
   "source": [
    "new_text = \"It is very important to be pythonly while you\\\n",
    "            are pythoning with python. All pythoners have \\\n",
    "            pythoned poorly at least once. Can you import something nice?\""
   ]
  },
  {
   "cell_type": "code",
   "execution_count": 16,
   "metadata": {
    "collapsed": false
   },
   "outputs": [
    {
     "data": {
      "text/plain": [
       "['It',\n",
       " 'is',\n",
       " 'very',\n",
       " 'important',\n",
       " 'to',\n",
       " 'be',\n",
       " 'pythonly',\n",
       " 'while',\n",
       " 'you',\n",
       " 'are',\n",
       " 'pythoning',\n",
       " 'with',\n",
       " 'python',\n",
       " '.',\n",
       " 'All',\n",
       " 'pythoners',\n",
       " 'have',\n",
       " 'pythoned',\n",
       " 'poorly',\n",
       " 'at',\n",
       " 'least',\n",
       " 'once',\n",
       " '.',\n",
       " 'Can',\n",
       " 'you',\n",
       " 'import',\n",
       " 'something',\n",
       " 'nice',\n",
       " '?']"
      ]
     },
     "execution_count": 16,
     "metadata": {},
     "output_type": "execute_result"
    }
   ],
   "source": [
    "words = word_tokenize(new_text)\n",
    "words"
   ]
  },
  {
   "cell_type": "code",
   "execution_count": 17,
   "metadata": {
    "collapsed": false
   },
   "outputs": [
    {
     "data": {
      "text/plain": [
       "[u'It',\n",
       " u'is',\n",
       " u'veri',\n",
       " u'import',\n",
       " u'to',\n",
       " u'be',\n",
       " u'pythonli',\n",
       " u'while',\n",
       " u'you',\n",
       " u'are',\n",
       " u'python',\n",
       " u'with',\n",
       " u'python',\n",
       " u'.',\n",
       " u'All',\n",
       " u'python',\n",
       " u'have',\n",
       " u'python',\n",
       " u'poorli',\n",
       " u'at',\n",
       " u'least',\n",
       " u'onc',\n",
       " u'.',\n",
       " u'Can',\n",
       " u'you',\n",
       " u'import',\n",
       " u'someth',\n",
       " u'nice',\n",
       " u'?']"
      ]
     },
     "execution_count": 17,
     "metadata": {},
     "output_type": "execute_result"
    }
   ],
   "source": [
    "[ps.stem(w) for w in words]"
   ]
  },
  {
   "cell_type": "code",
   "execution_count": 18,
   "metadata": {
    "collapsed": false
   },
   "outputs": [
    {
     "data": {
      "text/plain": [
       "[('It', u'It'),\n",
       " ('is', u'is'),\n",
       " ('very', u'veri'),\n",
       " ('important', u'import'),\n",
       " ('to', u'to'),\n",
       " ('be', u'be'),\n",
       " ('pythonly', u'pythonli'),\n",
       " ('while', u'while'),\n",
       " ('you', u'you'),\n",
       " ('are', u'are'),\n",
       " ('pythoning', u'python'),\n",
       " ('with', u'with'),\n",
       " ('python', u'python'),\n",
       " ('.', u'.'),\n",
       " ('All', u'All'),\n",
       " ('pythoners', u'python'),\n",
       " ('have', u'have'),\n",
       " ('pythoned', u'python'),\n",
       " ('poorly', u'poorli'),\n",
       " ('at', u'at'),\n",
       " ('least', u'least'),\n",
       " ('once', u'onc'),\n",
       " ('.', u'.'),\n",
       " ('Can', u'Can'),\n",
       " ('you', u'you'),\n",
       " ('import', u'import'),\n",
       " ('something', u'someth'),\n",
       " ('nice', u'nice'),\n",
       " ('?', u'?')]"
      ]
     },
     "execution_count": 18,
     "metadata": {},
     "output_type": "execute_result"
    }
   ],
   "source": [
    "[(w, ps.stem(w)) for w in words]"
   ]
  },
  {
   "cell_type": "code",
   "execution_count": null,
   "metadata": {
    "collapsed": true
   },
   "outputs": [],
   "source": []
  }
 ],
 "metadata": {
  "anaconda-cloud": {},
  "kernelspec": {
   "display_name": "Python [conda root]",
   "language": "python",
   "name": "conda-root-py"
  },
  "language_info": {
   "codemirror_mode": {
    "name": "ipython",
    "version": 2
   },
   "file_extension": ".py",
   "mimetype": "text/x-python",
   "name": "python",
   "nbconvert_exporter": "python",
   "pygments_lexer": "ipython2",
   "version": "2.7.12"
  }
 },
 "nbformat": 4,
 "nbformat_minor": 1
}
