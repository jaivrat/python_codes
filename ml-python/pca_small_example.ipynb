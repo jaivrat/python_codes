{
 "cells": [
  {
   "cell_type": "code",
   "execution_count": 1,
   "metadata": {},
   "outputs": [
    {
     "name": "stdout",
     "output_type": "stream",
     "text": [
      "Explained Variance Ratios:\n",
      "[0.99244289 0.00755711]\n",
      "Singular Values:\n",
      "[6.30061232 0.54980396]\n",
      "Components:\n",
      "[[-0.83849224 -0.54491354]\n",
      " [ 0.54491354 -0.83849224]]\n",
      "Expect orthogonal components give identity matrix:\n",
      "[[ 1.00000000e+00 -3.40594983e-18]\n",
      " [-3.40594983e-18  1.00000000e+00]]\n",
      "degree of first:33.018755512710904\n",
      "degree of second:-56.981244487289096\n"
     ]
    }
   ],
   "source": [
    "### example from sklearn documentation\n",
    "import numpy as np\n",
    "from sklearn.decomposition import PCA\n",
    "X = np.array([[-1, -1], [-2, -1], [-3, -2], [1, 1], [2, 1], [3, 2]])\n",
    "pca = PCA(n_components=2)\n",
    "pca.fit(X)\n",
    "\n",
    "print(\"Explained Variance Ratios:\")\n",
    "print(pca.explained_variance_ratio_)\n",
    "\n",
    "print(\"Singular Values:\")\n",
    "print(pca.singular_values_)\n",
    "\n",
    "print(\"Components:\")\n",
    "print(pca.components_)\n",
    "\n",
    "\n",
    "print(\"Expect orthogonal components give identity matrix:\")\n",
    "print(pca.components_.dot(pca.components_.T))\n",
    "\n",
    "#Lets geometrically see orientation of vectors\n",
    "import math\n",
    "print(\"degree of first:\" + str(math.atan(pca.components_[0,1]/pca.components_[0,0]) * (180.0/math.pi)))\n",
    "print(\"degree of second:\" + str(math.atan(pca.components_[1,1]/pca.components_[1,0]) * (180.0/math.pi)))\n"
   ]
  },
  {
   "cell_type": "code",
   "execution_count": 2,
   "metadata": {},
   "outputs": [
    {
     "data": {
      "text/plain": [
       "90.0"
      ]
     },
     "execution_count": 2,
     "metadata": {},
     "output_type": "execute_result"
    }
   ],
   "source": [
    "np.abs(math.atan(pca.components_[0,1]/pca.components_[0,0]) * (180.0/math.pi)) + \\\n",
    "np.abs(math.atan(pca.components_[1,1]/pca.components_[1,0]) * (180.0/math.pi))"
   ]
  },
  {
   "cell_type": "code",
   "execution_count": 3,
   "metadata": {},
   "outputs": [
    {
     "data": {
      "image/png": "[encoded data removed]",
      "text/plain": [
       "<Figure size 432x288 with 1 Axes>"
      ]
     },
     "metadata": {},
     "output_type": "display_data"
    }
   ],
   "source": [
    "%matplotlib inline\n",
    "import matplotlib.pyplot as plt\n",
    "plt.style.use('seaborn-whitegrid')\n",
    "import numpy as np\n",
    "\n",
    "plt.plot(X[:,0], X[:,1], 'o', color='black');"
   ]
  }
 ],
 "metadata": {
  "kernelspec": {
   "display_name": "Python 3",
   "language": "python",
   "name": "python3"
  },
  "language_info": {
   "codemirror_mode": {
    "name": "ipython",
    "version": 3
   },
   "file_extension": ".py",
   "mimetype": "text/x-python",
   "name": "python",
   "nbconvert_exporter": "python",
   "pygments_lexer": "ipython3",
   "version": "3.7.9"
  }
 },
 "nbformat": 4,
 "nbformat_minor": 4
}
