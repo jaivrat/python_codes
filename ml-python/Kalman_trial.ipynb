{
 "cells": [
  {
   "cell_type": "markdown",
   "id": "dac79435",
   "metadata": {},
   "source": [
    "Price and returns using Kalman Filter.\n",
    "\n",
    "Generate prices based on some assumed price dynamics and then try uncover the patterns of speed. acceleration and variances.\n",
    "\n",
    "$$\n",
    "\\Large\n",
    "\\begin{align}\n",
    "P_{t+\\delta} &= P_{t}  + \\mu_t \\delta + 0.5* a_t * \\delta^2 + \\epsilon_1\\\\\n",
    "\\mu_{t+\\delta} &= \\mu_t + a_t \\delta + \\epsilon_2\\\\\n",
    "a_{t+\\delta} &= a_t + \\epsilon_3\n",
    "\\end{align}\n",
    "$$"
   ]
  },
  {
   "cell_type": "code",
   "execution_count": null,
   "id": "cddbc289",
   "metadata": {},
   "outputs": [],
   "source": [
    "import numpy as np\n",
    "import plotly.express as px\n",
    "import plotly.graph_objects as go\n",
    "import pandas as pd"
   ]
  },
  {
   "cell_type": "code",
   "execution_count": null,
   "id": "31a0b6fb",
   "metadata": {},
   "outputs": [],
   "source": [
    "#! pip install filterpy"
   ]
  },
  {
   "cell_type": "code",
   "execution_count": null,
   "id": "e1b4345a",
   "metadata": {},
   "outputs": [],
   "source": [
    "np.random.seed(144)\n",
    "\n",
    "N = 200\n",
    "a0 = 0.001\n",
    "a_vals = [a0]\n",
    "eps_3 = np.random.randn(N-1)/1000\n",
    "\n",
    "a_vals = [a0]\n",
    "for i in range(N-1):\n",
    "    a_vals.append(a_vals[-1] +  eps_3[i])\n",
    "\n",
    "a_vals = np.array(a_vals)\n",
    "print(f\"Length of avals = {len(a_vals)}\")\n",
    "a_vals[0:10]"
   ]
  },
  {
   "cell_type": "code",
   "execution_count": null,
   "id": "f4135f95",
   "metadata": {},
   "outputs": [],
   "source": [
    "window_size = \n",
    "weights = np.ones(window_size) / window_size\n"
   ]
  },
  {
   "cell_type": "code",
   "execution_count": null,
   "id": "016245b1",
   "metadata": {},
   "outputs": [],
   "source": [
    "import plotly.express as px\n",
    "import plotly.graph_objects as go\n",
    "\n",
    "fig = go.Figure()\n",
    "fig.add_trace(go.Scatter( \n",
    "                 x=np.array(range(N)),\n",
    "                 y=a_vals,\n",
    "                 name = \"acceleration\"))\n",
    "fig.show()"
   ]
  },
  {
   "cell_type": "markdown",
   "id": "e0a85075",
   "metadata": {},
   "source": [
    "##### DRIFT term\n",
    "\n",
    "$$\n",
    "\\mu_{t+\\delta} = \\mu_t + a_t \\delta + \\epsilon_2\n",
    "$$\n"
   ]
  },
  {
   "cell_type": "code",
   "execution_count": null,
   "id": "e1cc8fbb",
   "metadata": {},
   "outputs": [],
   "source": [
    "eps_2 = np.random.randn(N)/10000\n",
    "\n",
    "delta = 1/260\n",
    "\n",
    "mu_0 = 0.10 * delta\n",
    "\n",
    "\n",
    "mu_s = [mu_0]\n",
    "for i in range(N):\n",
    "    mu_s.append(mu_s[-1] + a_vals[i]*delta + eps_2[i])\n",
    "    "
   ]
  },
  {
   "cell_type": "code",
   "execution_count": null,
   "id": "11383bdb",
   "metadata": {},
   "outputs": [],
   "source": [
    "fig = go.Figure()\n",
    "fig.add_trace(go.Scatter( \n",
    "                 x=np.array(range(N)),\n",
    "                 y=mu_s,\n",
    "                 name = \"mu values\"))\n",
    "fig.show()"
   ]
  },
  {
   "cell_type": "markdown",
   "id": "cb1b0ed8",
   "metadata": {},
   "source": [
    "#### prices as GBM (so that it remains non negative)\n",
    "\n",
    "$$\n",
    "\\Large\n",
    "\\begin{align}\n",
    "S_{t+\\delta} &= S_t \\cdot e^{( (\\mu - 0.5\\sigma^2))\\delta + \\sigma (B(t+\\delta) - B(t))}\\\\\n",
    "&=S_t \\cdot e^{( (\\mu - 0.5\\sigma^2))\\delta + \\sigma z \\sqrt \\delta }\n",
    "\\end{align}\n",
    "$$\n",
    "\n",
    "above mu is yearly drift rate in theory, and $\\mu \\delta$ is daily drift or  $\\mu_t$ by our definition. Also we keep $\\sigma$ as annual volatility , lets say 20%\n",
    "\n",
    "So price evolution becomes \n",
    "$$\n",
    "\\Large\n",
    "\\begin{align}\n",
    "S_{t+\\delta} &= S_t \\cdot e^{( (\\mu - 0.5\\sigma^2))\\delta + \\sigma (B(t+\\delta) - B(t))}\\\\\n",
    "&=S_t \\cdot e^{( (\\mu - 0.5\\sigma^2))\\delta + \\sigma z \\sqrt \\delta }\\\\\n",
    "&=S_t \\cdot e^{( (\\mu \\delta - 0.5 \\sigma^2 \\delta )) + \\sigma z \\sqrt \\delta }\\\\\n",
    "&=S_t \\cdot e^{( (\\mu_t - 0.5 \\sigma^2 \\delta )) + \\sigma z \\sqrt \\delta }\n",
    "\\end{align}\n",
    "$$\n"
   ]
  },
  {
   "cell_type": "code",
   "execution_count": null,
   "id": "7496fdee",
   "metadata": {},
   "outputs": [],
   "source": [
    "price_0 = 10.0\n",
    "vol      = 0.10\n",
    "\n",
    "zs = np.random.randn(N)\n",
    "\n",
    "prices = [price_0]\n",
    "for i in range(N):\n",
    "    exp_term = np.exp(mu_s[i] - 0.5 *vol * vol *delta  + vol * np.sqrt(delta) *zs[i])\n",
    "    prices.append(prices[-1] * exp_term)\n"
   ]
  },
  {
   "cell_type": "code",
   "execution_count": null,
   "id": "2498abd2",
   "metadata": {},
   "outputs": [],
   "source": [
    "fig = go.Figure()\n",
    "fig.add_trace(go.Scatter( \n",
    "                 x=np.array(range(N)),\n",
    "                 y=prices,\n",
    "                 name = \"Prices\"))\n",
    "fig.show()"
   ]
  },
  {
   "cell_type": "markdown",
   "id": "40634e37",
   "metadata": {},
   "source": [
    "#### We have data now - we need to fit Kalman using our model\n",
    "\n",
    "\n",
    "$$\n",
    "\\Large\n",
    "\\begin{align}\n",
    "P_{t+\\delta} &= P_{t}  + \\mu_t \\delta + 0.5* a_t * \\delta^2 + \\epsilon_1\\\\\n",
    "\\mu_{t+\\delta} &= \\mu_t + a_t \\delta + \\epsilon_2\\\\\n",
    "a_{t+\\delta} &= a_t + \\epsilon_3\n",
    "\\end{align}\n",
    "$$\n",
    "\n",
    "We remodel this as change in prices $\\Delta P_t = P_{t+\\delta} -  P_{t}$\n",
    "\n",
    "$$\n",
    "\\Large\n",
    "\\begin{align}\n",
    "\\Delta P_t &= \\mu_t \\delta + 0.5* a_t * \\delta^2 + \\epsilon_1\\\\\n",
    "\\mu_{t+\\delta} &= \\mu_t + a_t \\delta + \\epsilon_2\\\\\n",
    "a_{t+\\delta} &= a_t + \\epsilon_3\n",
    "\\end{align}\n",
    "$$\n",
    "\n",
    "\n",
    "\n"
   ]
  },
  {
   "cell_type": "markdown",
   "id": "52cb421f",
   "metadata": {},
   "source": [
    "Writing as measurement and transition equations:\n",
    "\n",
    "$$\n",
    "\\Large\n",
    "\\begin{align}\n",
    "\\Delta P_t &= \\begin{bmatrix}\n",
    "                \\delta & 0.5\\delta^2\n",
    "              \\end{bmatrix} \\begin{bmatrix} \\mu_t \\\\ a_t \\end{bmatrix} + \\epsilon_1\\\\\n",
    "\\begin{bmatrix} \\mu_t \\\\ a_t \\end{bmatrix} &=  \\begin{bmatrix}\n",
    "                                                    1 & \\delta\\\\\n",
    "                                                    0 & 1\n",
    "                                                \\end{bmatrix} \\begin{bmatrix} \\mu_{t-1} \\\\ a_{t-1} \\end{bmatrix}   +  \\epsilon  \n",
    "\\end{align}\n",
    "$$"
   ]
  },
  {
   "cell_type": "markdown",
   "id": "e2fe9e7c",
   "metadata": {},
   "source": [
    "Assume We dont know $\\mu_t, a_t$ and these are the hidden states we need to find out so that we can do predict and check. "
   ]
  },
  {
   "cell_type": "code",
   "execution_count": null,
   "id": "38a7c412",
   "metadata": {},
   "outputs": [],
   "source": [
    "prices = np.array(prices)\n",
    "delta_prices = (prices - np.roll(prices, 1))[1:]\n",
    "#print(delta_prices[0:10])\n",
    "#print(prices[0:10])"
   ]
  },
  {
   "cell_type": "code",
   "execution_count": null,
   "id": "fcc05207",
   "metadata": {},
   "outputs": [],
   "source": [
    "#1. start with theta0 as \n",
    "mu_guess = 0.0\n",
    "acc_guess = 0.0\n",
    "\n",
    "# How to estimate W, V ? using some MLE - \n",
    "W_t = np.diag([0.0001,0.0001])\n",
    "V_t = vol * 1/delta\n",
    "F_t = np.matrix([delta , 0.5 *delta *delta]).reshape(-1,2)\n",
    "\n",
    "m0 = np.matrix([mu_guess,acc_guess]).reshape(2,-1)\n",
    "m_prev = m0\n",
    "\n",
    "#100 mean low confidence\n",
    "C0 = np.matrix([[100, 0], [0, 100]])\n",
    "C_prev = C0\n",
    "G = np.matrix([[1.0, delta], [0, 1.0]])\n",
    "\n",
    "posterior_states = []\n",
    "\n",
    "for t in range(N-1):\n",
    "    #2. One step forecast for the state\n",
    "    #print(f\"G: {G.shape} m_prev: {m_prev.shape}\")\n",
    "    a_t = G @ m_prev\n",
    "    R_t = G @ C_prev @ G.T + W_t\n",
    "\n",
    "    #3. One step forecast for the observation\n",
    "    f_t = F_t@a_t\n",
    "    Q_t = F_t @ R_t @ F_t.T + V_t\n",
    "\n",
    "    #4. Compute Posterior\n",
    "    y_t = delta_prices[t]\n",
    "    #print(f\"a_t: {a_t.shape} R_t: {R_t.shape} f_t:{f_t.shape} \")\n",
    "    Q_t_inv = np.linalg.inv(Q_t)\n",
    "    m_t = a_t + R_t @ (F_t.T) @ Q_t_inv * (y_t - f_t)\n",
    "    C_t = R_t - R_t @ (F_t.T) @ Q_t_inv @ F_t @ R_t\n",
    "    m_prev = m_t\n",
    "    C_prev = C_t\n",
    "    posterior_states.append(np.ravel(m_t))"
   ]
  },
  {
   "cell_type": "code",
   "execution_count": null,
   "id": "41d51362",
   "metadata": {},
   "outputs": [],
   "source": [
    "\n"
   ]
  },
  {
   "cell_type": "code",
   "execution_count": null,
   "id": "a72f952e",
   "metadata": {},
   "outputs": [],
   "source": [
    "posterior_mu = [m0[0,0]]\n",
    "posterior_mu.extend([x[0] for x in posterior_states])\n",
    "posterior_a = [m0[1,0]]\n",
    "posterior_a.extend([x[1] for x in posterior_states])"
   ]
  },
  {
   "cell_type": "code",
   "execution_count": null,
   "id": "0fa697e9",
   "metadata": {},
   "outputs": [],
   "source": [
    "len(posterior_mu)"
   ]
  },
  {
   "cell_type": "code",
   "execution_count": null,
   "id": "c2b3a781",
   "metadata": {},
   "outputs": [],
   "source": [
    "fig = go.Figure()\n",
    "fig.add_trace(go.Scatter(x = np.array(range(N)), y = mu_s, name = \"mu_s\"))\n",
    "fig.add_trace(go.Scatter(x = np.array(range(N)), y = posterior_mu, name = \"posterior_mu_s\"))\n",
    "fig.show()"
   ]
  },
  {
   "cell_type": "code",
   "execution_count": null,
   "id": "3f17d468",
   "metadata": {},
   "outputs": [],
   "source": [
    "fig = go.Figure()\n",
    "fig.add_trace(go.Scatter(x = np.array(range(N)), y = a_vals, name = \"a_vals\"))\n",
    "fig.add_trace(go.Scatter(x = np.array(range(N)), y = posterior_a, name = \"posterior_a\"))\n",
    "fig.show()"
   ]
  }
 ],
 "metadata": {
  "kernelspec": {
   "display_name": "strat",
   "language": "python",
   "name": "strat"
  },
  "language_info": {
   "codemirror_mode": {
    "name": "ipython",
    "version": 3
   },
   "file_extension": ".py",
   "mimetype": "text/x-python",
   "name": "python",
   "nbconvert_exporter": "python",
   "pygments_lexer": "ipython3",
   "version": "3.8.20"
  },
  "varInspector": {
   "cols": {
    "lenName": 16,
    "lenType": 16,
    "lenVar": 40
   },
   "kernels_config": {
    "python": {
     "delete_cmd_postfix": "",
     "delete_cmd_prefix": "del ",
     "library": "var_list.py",
     "varRefreshCmd": "print(var_dic_list())"
    },
    "r": {
     "delete_cmd_postfix": ") ",
     "delete_cmd_prefix": "rm(",
     "library": "var_list.r",
     "varRefreshCmd": "cat(var_dic_list()) "
    }
   },
   "types_to_exclude": [
    "module",
    "function",
    "builtin_function_or_method",
    "instance",
    "_Feature"
   ],
   "window_display": false
  }
 },
 "nbformat": 4,
 "nbformat_minor": 5
}
