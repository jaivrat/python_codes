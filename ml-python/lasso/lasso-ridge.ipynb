{
 "cells": [
  {
   "cell_type": "markdown",
   "metadata": {},
   "source": [
    "Data used in this example can be downloaded from kaggle: https://www.kaggle.com/c/boston-housing\n",
    "\n",
    "For myself, I have temporarily saved it into /Users/jvsingh/.kaggle/competitions/boston-housing using the kaggle api."
   ]
  },
  {
   "cell_type": "markdown",
   "metadata": {},
   "source": [
    "## Ridge Regression"
   ]
  },
  {
   "cell_type": "code",
   "execution_count": 1,
   "metadata": {},
   "outputs": [],
   "source": [
    "from pandas import read_csv\n",
    "from sklearn.model_selection import KFold\n",
    "from sklearn.model_selection import cross_val_score\n",
    "from sklearn.linear_model import Ridge\n",
    "\n",
    "import numpy as np\n",
    "import pandas as pd"
   ]
  },
  {
   "cell_type": "code",
   "execution_count": 2,
   "metadata": {},
   "outputs": [],
   "source": [
    "filename=\"/Users/jvsingh/.kaggle/competitions/boston-housing/train.csv\""
   ]
  },
  {
   "cell_type": "code",
   "execution_count": 3,
   "metadata": {},
   "outputs": [
    {
     "data": {
      "text/html": [
       "<div>\n",
       "<style scoped>\n",
       "    .dataframe tbody tr th:only-of-type {\n",
       "        vertical-align: middle;\n",
       "    }\n",
       "\n",
       "    .dataframe tbody tr th {\n",
       "        vertical-align: top;\n",
       "    }\n",
       "\n",
       "    .dataframe thead th {\n",
       "        text-align: right;\n",
       "    }\n",
       "</style>\n",
       "<table border=\"1\" class=\"dataframe\">\n",
       "  <thead>\n",
       "    <tr style=\"text-align: right;\">\n",
       "      <th></th>\n",
       "      <th>ID</th>\n",
       "      <th>CRIM</th>\n",
       "      <th>ZN</th>\n",
       "      <th>INDUS</th>\n",
       "      <th>CHAS</th>\n",
       "      <th>NOX</th>\n",
       "      <th>RM</th>\n",
       "      <th>AGE</th>\n",
       "      <th>DIS</th>\n",
       "      <th>RAD</th>\n",
       "      <th>TAX</th>\n",
       "      <th>PTRATIO</th>\n",
       "      <th>BLACK</th>\n",
       "      <th>LSTAT</th>\n",
       "      <th>MEDV</th>\n",
       "    </tr>\n",
       "  </thead>\n",
       "  <tbody>\n",
       "    <tr>\n",
       "      <th>0</th>\n",
       "      <td>1</td>\n",
       "      <td>0.00632</td>\n",
       "      <td>18.0</td>\n",
       "      <td>2.31</td>\n",
       "      <td>0</td>\n",
       "      <td>0.538</td>\n",
       "      <td>6.575</td>\n",
       "      <td>65.2</td>\n",
       "      <td>4.0900</td>\n",
       "      <td>1</td>\n",
       "      <td>296</td>\n",
       "      <td>15.3</td>\n",
       "      <td>396.90</td>\n",
       "      <td>4.98</td>\n",
       "      <td>24.0</td>\n",
       "    </tr>\n",
       "    <tr>\n",
       "      <th>1</th>\n",
       "      <td>2</td>\n",
       "      <td>0.02731</td>\n",
       "      <td>0.0</td>\n",
       "      <td>7.07</td>\n",
       "      <td>0</td>\n",
       "      <td>0.469</td>\n",
       "      <td>6.421</td>\n",
       "      <td>78.9</td>\n",
       "      <td>4.9671</td>\n",
       "      <td>2</td>\n",
       "      <td>242</td>\n",
       "      <td>17.8</td>\n",
       "      <td>396.90</td>\n",
       "      <td>9.14</td>\n",
       "      <td>21.6</td>\n",
       "    </tr>\n",
       "    <tr>\n",
       "      <th>2</th>\n",
       "      <td>4</td>\n",
       "      <td>0.03237</td>\n",
       "      <td>0.0</td>\n",
       "      <td>2.18</td>\n",
       "      <td>0</td>\n",
       "      <td>0.458</td>\n",
       "      <td>6.998</td>\n",
       "      <td>45.8</td>\n",
       "      <td>6.0622</td>\n",
       "      <td>3</td>\n",
       "      <td>222</td>\n",
       "      <td>18.7</td>\n",
       "      <td>394.63</td>\n",
       "      <td>2.94</td>\n",
       "      <td>33.4</td>\n",
       "    </tr>\n",
       "    <tr>\n",
       "      <th>3</th>\n",
       "      <td>5</td>\n",
       "      <td>0.06905</td>\n",
       "      <td>0.0</td>\n",
       "      <td>2.18</td>\n",
       "      <td>0</td>\n",
       "      <td>0.458</td>\n",
       "      <td>7.147</td>\n",
       "      <td>54.2</td>\n",
       "      <td>6.0622</td>\n",
       "      <td>3</td>\n",
       "      <td>222</td>\n",
       "      <td>18.7</td>\n",
       "      <td>396.90</td>\n",
       "      <td>5.33</td>\n",
       "      <td>36.2</td>\n",
       "    </tr>\n",
       "    <tr>\n",
       "      <th>4</th>\n",
       "      <td>7</td>\n",
       "      <td>0.08829</td>\n",
       "      <td>12.5</td>\n",
       "      <td>7.87</td>\n",
       "      <td>0</td>\n",
       "      <td>0.524</td>\n",
       "      <td>6.012</td>\n",
       "      <td>66.6</td>\n",
       "      <td>5.5605</td>\n",
       "      <td>5</td>\n",
       "      <td>311</td>\n",
       "      <td>15.2</td>\n",
       "      <td>395.60</td>\n",
       "      <td>12.43</td>\n",
       "      <td>22.9</td>\n",
       "    </tr>\n",
       "  </tbody>\n",
       "</table>\n",
       "</div>"
      ],
      "text/plain": [
       "   ID     CRIM    ZN  INDUS  CHAS    NOX     RM   AGE     DIS  RAD  TAX  \\\n",
       "0   1  0.00632  18.0   2.31     0  0.538  6.575  65.2  4.0900    1  296   \n",
       "1   2  0.02731   0.0   7.07     0  0.469  6.421  78.9  4.9671    2  242   \n",
       "2   4  0.03237   0.0   2.18     0  0.458  6.998  45.8  6.0622    3  222   \n",
       "3   5  0.06905   0.0   2.18     0  0.458  7.147  54.2  6.0622    3  222   \n",
       "4   7  0.08829  12.5   7.87     0  0.524  6.012  66.6  5.5605    5  311   \n",
       "\n",
       "   PTRATIO   BLACK  LSTAT  MEDV  \n",
       "0     15.3  396.90   4.98  24.0  \n",
       "1     17.8  396.90   9.14  21.6  \n",
       "2     18.7  394.63   2.94  33.4  \n",
       "3     18.7  396.90   5.33  36.2  \n",
       "4     15.2  395.60  12.43  22.9  "
      ]
     },
     "execution_count": 3,
     "metadata": {},
     "output_type": "execute_result"
    }
   ],
   "source": [
    "dataframe = read_csv(filename)\n",
    "dataframe.columns = [x.upper() for x in dataframe.columns]\n",
    "dataframe.head()"
   ]
  },
  {
   "cell_type": "code",
   "execution_count": 4,
   "metadata": {},
   "outputs": [
    {
     "name": "stdout",
     "output_type": "stream",
     "text": [
      "(333, 14)\n"
     ]
    },
    {
     "data": {
      "text/html": [
       "<div>\n",
       "<style scoped>\n",
       "    .dataframe tbody tr th:only-of-type {\n",
       "        vertical-align: middle;\n",
       "    }\n",
       "\n",
       "    .dataframe tbody tr th {\n",
       "        vertical-align: top;\n",
       "    }\n",
       "\n",
       "    .dataframe thead th {\n",
       "        text-align: right;\n",
       "    }\n",
       "</style>\n",
       "<table border=\"1\" class=\"dataframe\">\n",
       "  <thead>\n",
       "    <tr style=\"text-align: right;\">\n",
       "      <th></th>\n",
       "      <th>CRIM</th>\n",
       "      <th>ZN</th>\n",
       "      <th>INDUS</th>\n",
       "      <th>CHAS</th>\n",
       "      <th>NOX</th>\n",
       "      <th>RM</th>\n",
       "      <th>AGE</th>\n",
       "      <th>DIS</th>\n",
       "      <th>RAD</th>\n",
       "      <th>TAX</th>\n",
       "      <th>PTRATIO</th>\n",
       "      <th>BLACK</th>\n",
       "      <th>LSTAT</th>\n",
       "      <th>MEDV</th>\n",
       "    </tr>\n",
       "  </thead>\n",
       "  <tbody>\n",
       "    <tr>\n",
       "      <th>0</th>\n",
       "      <td>0.00632</td>\n",
       "      <td>18.0</td>\n",
       "      <td>2.31</td>\n",
       "      <td>0</td>\n",
       "      <td>0.538</td>\n",
       "      <td>6.575</td>\n",
       "      <td>65.2</td>\n",
       "      <td>4.0900</td>\n",
       "      <td>1</td>\n",
       "      <td>296</td>\n",
       "      <td>15.3</td>\n",
       "      <td>396.90</td>\n",
       "      <td>4.98</td>\n",
       "      <td>24.0</td>\n",
       "    </tr>\n",
       "    <tr>\n",
       "      <th>1</th>\n",
       "      <td>0.02731</td>\n",
       "      <td>0.0</td>\n",
       "      <td>7.07</td>\n",
       "      <td>0</td>\n",
       "      <td>0.469</td>\n",
       "      <td>6.421</td>\n",
       "      <td>78.9</td>\n",
       "      <td>4.9671</td>\n",
       "      <td>2</td>\n",
       "      <td>242</td>\n",
       "      <td>17.8</td>\n",
       "      <td>396.90</td>\n",
       "      <td>9.14</td>\n",
       "      <td>21.6</td>\n",
       "    </tr>\n",
       "    <tr>\n",
       "      <th>2</th>\n",
       "      <td>0.03237</td>\n",
       "      <td>0.0</td>\n",
       "      <td>2.18</td>\n",
       "      <td>0</td>\n",
       "      <td>0.458</td>\n",
       "      <td>6.998</td>\n",
       "      <td>45.8</td>\n",
       "      <td>6.0622</td>\n",
       "      <td>3</td>\n",
       "      <td>222</td>\n",
       "      <td>18.7</td>\n",
       "      <td>394.63</td>\n",
       "      <td>2.94</td>\n",
       "      <td>33.4</td>\n",
       "    </tr>\n",
       "    <tr>\n",
       "      <th>3</th>\n",
       "      <td>0.06905</td>\n",
       "      <td>0.0</td>\n",
       "      <td>2.18</td>\n",
       "      <td>0</td>\n",
       "      <td>0.458</td>\n",
       "      <td>7.147</td>\n",
       "      <td>54.2</td>\n",
       "      <td>6.0622</td>\n",
       "      <td>3</td>\n",
       "      <td>222</td>\n",
       "      <td>18.7</td>\n",
       "      <td>396.90</td>\n",
       "      <td>5.33</td>\n",
       "      <td>36.2</td>\n",
       "    </tr>\n",
       "    <tr>\n",
       "      <th>4</th>\n",
       "      <td>0.08829</td>\n",
       "      <td>12.5</td>\n",
       "      <td>7.87</td>\n",
       "      <td>0</td>\n",
       "      <td>0.524</td>\n",
       "      <td>6.012</td>\n",
       "      <td>66.6</td>\n",
       "      <td>5.5605</td>\n",
       "      <td>5</td>\n",
       "      <td>311</td>\n",
       "      <td>15.2</td>\n",
       "      <td>395.60</td>\n",
       "      <td>12.43</td>\n",
       "      <td>22.9</td>\n",
       "    </tr>\n",
       "  </tbody>\n",
       "</table>\n",
       "</div>"
      ],
      "text/plain": [
       "      CRIM    ZN  INDUS  CHAS    NOX     RM   AGE     DIS  RAD  TAX  PTRATIO  \\\n",
       "0  0.00632  18.0   2.31     0  0.538  6.575  65.2  4.0900    1  296     15.3   \n",
       "1  0.02731   0.0   7.07     0  0.469  6.421  78.9  4.9671    2  242     17.8   \n",
       "2  0.03237   0.0   2.18     0  0.458  6.998  45.8  6.0622    3  222     18.7   \n",
       "3  0.06905   0.0   2.18     0  0.458  7.147  54.2  6.0622    3  222     18.7   \n",
       "4  0.08829  12.5   7.87     0  0.524  6.012  66.6  5.5605    5  311     15.2   \n",
       "\n",
       "    BLACK  LSTAT  MEDV  \n",
       "0  396.90   4.98  24.0  \n",
       "1  396.90   9.14  21.6  \n",
       "2  394.63   2.94  33.4  \n",
       "3  396.90   5.33  36.2  \n",
       "4  395.60  12.43  22.9  "
      ]
     },
     "execution_count": 4,
     "metadata": {},
     "output_type": "execute_result"
    }
   ],
   "source": [
    "#we do not need ID\n",
    "dataframe = dataframe.drop(['ID'], axis=1)\n",
    "print(dataframe.shape)\n",
    "dataframe.head()"
   ]
  },
  {
   "cell_type": "code",
   "execution_count": 5,
   "metadata": {},
   "outputs": [
    {
     "name": "stdout",
     "output_type": "stream",
     "text": [
      "X: [[  6.32000000e-03   1.80000000e+01   2.31000000e+00 ...,   1.53000000e+01\n",
      "    3.96900000e+02   4.98000000e+00]\n",
      " [  2.73100000e-02   0.00000000e+00   7.07000000e+00 ...,   1.78000000e+01\n",
      "    3.96900000e+02   9.14000000e+00]\n",
      " [  3.23700000e-02   0.00000000e+00   2.18000000e+00 ...,   1.87000000e+01\n",
      "    3.94630000e+02   2.94000000e+00]\n",
      " ..., \n",
      " [  4.52700000e-02   0.00000000e+00   1.19300000e+01 ...,   2.10000000e+01\n",
      "    3.96900000e+02   9.08000000e+00]\n",
      " [  6.07600000e-02   0.00000000e+00   1.19300000e+01 ...,   2.10000000e+01\n",
      "    3.96900000e+02   5.64000000e+00]\n",
      " [  4.74100000e-02   0.00000000e+00   1.19300000e+01 ...,   2.10000000e+01\n",
      "    3.96900000e+02   7.88000000e+00]]\n",
      "Y: [ 24.   21.6  33.4  36.2  22.9  15.   18.9  21.7  20.4  18.2  19.9  23.1\n",
      "  20.2  13.6  19.6  15.2  14.5  14.8  12.7  14.5  13.5  24.7  30.8  34.9\n",
      "  25.3  24.7  21.2  19.3  20.   16.6  19.4  19.7  20.5  23.4  18.9  35.4\n",
      "  24.7  31.6  23.3  18.7  16.   25.   33.   23.5  19.4  22.   17.4  24.2\n",
      "  22.8  23.4  24.1  21.4  20.   20.8  28.   23.9  22.9  23.9  26.6  22.5\n",
      "  22.2  23.6  28.7  22.6  25.   20.6  21.4  27.5  26.5  18.6  19.3  19.5\n",
      "  20.4  19.8  19.4  22.8  18.5  21.2  19.2  20.4  19.3  22.   20.3  20.5\n",
      "  17.3  18.8  15.7  16.2  18.   19.6  18.4  15.6  17.4  17.1  13.3  17.8\n",
      "  14.4  13.4  13.8  14.6  17.8  15.4  21.5  19.4  17.   13.1  24.3  23.3\n",
      "  27.   50.   50.   22.7  25.   50.   23.8  22.3  17.4  19.1  23.1  23.6\n",
      "  22.6  29.4  23.2  24.6  29.9  37.2  39.8  36.2  37.9  32.5  50.   32.\n",
      "  34.9  37.   30.5  36.4  31.1  29.1  30.3  32.9  24.1  48.5  50.   22.6\n",
      "  24.4  24.4  19.3  28.1  23.7  23.3  21.7  27.5  30.1  44.8  50.   37.6\n",
      "  31.6  31.5  24.3  41.7  48.3  29.   24.   25.1  22.   22.2  23.7  17.6\n",
      "  24.3  24.5  26.2  24.4  24.8  42.8  33.8  43.1  48.8  31.   36.5  22.8\n",
      "  30.7  43.5  25.2  24.4  35.2  32.4  35.1  35.4  46.   50.   32.2  22.\n",
      "  20.1  22.3  28.5  27.9  23.9  27.1  20.3  22.   26.4  33.1  36.1  28.4\n",
      "  33.4  22.8  20.3  16.1  22.1  19.4  16.2  17.8  19.8  23.1  23.8  25.\n",
      "  24.6  22.2  19.3  19.8  22.2  20.7  19.5  20.6  19.   18.7  32.7  16.5\n",
      "  23.9  31.2  23.1  24.5  26.6  18.6  17.8  21.7  22.7  22.6  25.   20.8\n",
      "  27.5  21.9  23.1  50.   50.   50.   50.   13.8  13.8  13.9  13.3  11.3\n",
      "  12.3   8.8  10.5   7.4  11.5  23.2   9.7  12.7  12.5   5.    5.6   7.2\n",
      "   8.3  27.9  17.2  16.3   7.    7.2  10.4   8.8   8.4  11.7   8.3  10.9\n",
      "  11.    9.5  14.1  16.1  14.3  11.7   8.7  12.8  10.5  17.1  18.4  15.4\n",
      "  10.8  11.8  12.6  14.1  15.2  16.1  17.8  14.1  13.5  14.9  20.   16.4\n",
      "  17.7  19.5  20.2  21.4  19.9  19.   19.1  19.1  20.1  19.6  23.2  13.8\n",
      "  16.7  12.   14.6  21.4  23.   23.7  21.8  20.6  19.1  20.6  15.2   8.1\n",
      "  13.6  20.1  21.8  18.3  17.5  22.4  20.6  23.9  11.9]\n"
     ]
    }
   ],
   "source": [
    "X = dataframe.values[:,0:-1]\n",
    "Y = dataframe.values[:,-1]\n",
    "print(\"X:\", X)\n",
    "print(\"Y:\",Y)"
   ]
  },
  {
   "cell_type": "code",
   "execution_count": 6,
   "metadata": {},
   "outputs": [],
   "source": [
    "model_ridge = Ridge(alpha=0.1, random_state=0)"
   ]
  },
  {
   "cell_type": "code",
   "execution_count": 7,
   "metadata": {},
   "outputs": [
    {
     "name": "stdout",
     "output_type": "stream",
     "text": [
      "Coefficients: [ -5.14275441e-02   4.77340132e-02   4.83844881e-02   3.75224190e+00\n",
      "  -1.42937029e+01   3.77476435e+00  -5.89921209e-03  -1.52738682e+00\n",
      "   3.24907138e-01  -1.29661653e-02  -8.40697761e-01   1.17559549e-02\n",
      "  -6.02684069e-01]\n",
      "Model Intercept: 33.0439261504\n"
     ]
    }
   ],
   "source": [
    "model_ridge.fit(X, Y) \n",
    "print(\"Coefficients:\", model_ridge.coef_)\n",
    "print(\"Model Intercept:\", model_ridge.intercept_)"
   ]
  },
  {
   "cell_type": "code",
   "execution_count": 8,
   "metadata": {},
   "outputs": [
    {
     "data": {
      "text/plain": [
       "array([ 29.80082255,  24.57147255,  28.73006224,  27.82733347,\n",
       "        22.30765281,  17.44444252,  20.69015373,  20.13653518,\n",
       "        19.96883598,  19.36071006])"
      ]
     },
     "execution_count": 8,
     "metadata": {},
     "output_type": "execute_result"
    }
   ],
   "source": [
    "predictions = model_ridge.predict(X=X)\n",
    "predictions[0:10]"
   ]
  },
  {
   "cell_type": "code",
   "execution_count": 9,
   "metadata": {},
   "outputs": [
    {
     "data": {
      "text/plain": [
       "array([[ 29.80082255],\n",
       "       [ 24.57147255],\n",
       "       [ 28.73006224],\n",
       "       [ 27.82733347],\n",
       "       [ 22.30765281],\n",
       "       [ 17.44444252],\n",
       "       [ 20.69015373],\n",
       "       [ 20.13653518],\n",
       "       [ 19.96883598],\n",
       "       [ 19.36071006]])"
      ]
     },
     "execution_count": 9,
     "metadata": {},
     "output_type": "execute_result"
    }
   ],
   "source": [
    "#You can also do the same predictions manually using the \n",
    "#bias term and the calculated coefficients\n",
    "bias_and_X = np.hstack([np.ones((X.shape[0],1)), X])\n",
    "thetas     = np.concatenate((model_ridge.intercept_.reshape(-1,1), \n",
    "                             model_ridge.coef_.reshape(-1,1)))\n",
    "predvals   = np.matmul(bias_and_X, thetas)\n",
    "predvals[0:10]"
   ]
  },
  {
   "cell_type": "code",
   "execution_count": 10,
   "metadata": {},
   "outputs": [],
   "source": [
    "#These predicted values must be same\n",
    "assert(sum([np.round(np.abs(p1-p2),10) for p1,p2 in zip(predictions, predvals)]) == 0.0 )"
   ]
  },
  {
   "cell_type": "code",
   "execution_count": 11,
   "metadata": {},
   "outputs": [],
   "source": [
    "#Let us analyze errors\n",
    "errors = Y - predictions"
   ]
  },
  {
   "cell_type": "code",
   "execution_count": 12,
   "metadata": {},
   "outputs": [
    {
     "data": {
      "text/plain": [
       "<matplotlib.axes._subplots.AxesSubplot at 0x1a1e5834e0>"
      ]
     },
     "execution_count": 12,
     "metadata": {},
     "output_type": "execute_result"
    },
    {
     "data": {
      "image/png": "[encoded data removed]",
      "text/plain": [
       "<matplotlib.figure.Figure at 0x1a10ceb320>"
      ]
     },
     "metadata": {},
     "output_type": "display_data"
    }
   ],
   "source": [
    "# Import the libraries\n",
    "import matplotlib.pyplot as plt\n",
    "import seaborn as sns\n",
    "\n",
    "%matplotlib inline\n",
    "# Density Plot and Histogram\n",
    "sns.distplot(errors, hist=True, kde=True, \n",
    "             bins=int(180/5), color = 'darkblue', \n",
    "             hist_kws={'edgecolor':'black'},\n",
    "             kde_kws={'linewidth': 4})"
   ]
  },
  {
   "cell_type": "code",
   "execution_count": 13,
   "metadata": {},
   "outputs": [
    {
     "name": "stdout",
     "output_type": "stream",
     "text": [
      "p = 3.60027e-28\n",
      "The null hypothesis can be rejected\n"
     ]
    }
   ],
   "source": [
    "import scipy\n",
    "from scipy import stats\n",
    "k2, p = stats.normaltest(errors)\n",
    "alpha = 0.025\n",
    "print(\"p = {:g}\".format(p))\n",
    "if p < alpha:  # null hypothesis: x comes from a normal distribution\n",
    "    print(\"The null hypothesis can be rejected\")\n",
    "else:\n",
    "    print(\"The null hypothesis cannot be rejected\")"
   ]
  },
  {
   "cell_type": "markdown",
   "metadata": {},
   "source": [
    "Errors are not normally distributed - possibly regularization plays a role. Let us make alpha=0, it should be normal"
   ]
  },
  {
   "cell_type": "code",
   "execution_count": 14,
   "metadata": {},
   "outputs": [
    {
     "name": "stdout",
     "output_type": "stream",
     "text": [
      "Coefficients: [ -5.24893379e-02   4.74448677e-02   5.38552422e-02   3.78486439e+00\n",
      "  -1.57396571e+01   3.76883175e+00  -4.62660241e-03  -1.54882312e+00\n",
      "   3.28967093e-01  -1.28664959e-02  -8.56975746e-01   1.16659048e-02\n",
      "  -6.00315456e-01]\n",
      "Model Intercept: 34.0454377635\n"
     ]
    },
    {
     "data": {
      "text/plain": [
       "<matplotlib.axes._subplots.AxesSubplot at 0x1a10cd1ba8>"
      ]
     },
     "execution_count": 14,
     "metadata": {},
     "output_type": "execute_result"
    },
    {
     "data": {
      "image/png": "[encoded data removed]",
      "text/plain": [
       "<matplotlib.figure.Figure at 0x1a1e5aa940>"
      ]
     },
     "metadata": {},
     "output_type": "display_data"
    }
   ],
   "source": [
    "model_ridge = Ridge(alpha=0, random_state=0)\n",
    "model_ridge.fit(X, Y) \n",
    "print(\"Coefficients:\", model_ridge.coef_)\n",
    "print(\"Model Intercept:\", model_ridge.intercept_)\n",
    "predictions = model_ridge.predict(X=X)\n",
    "\n",
    "errors = Y - predictions\n",
    "\n",
    "%matplotlib inline\n",
    "# Density Plot and Histogram\n",
    "sns.distplot(errors, hist=True, kde=True, \n",
    "             bins=int(180/5), color = 'darkblue', \n",
    "             hist_kws={'edgecolor':'black'},\n",
    "             kde_kws={'linewidth': 4})\n"
   ]
  },
  {
   "cell_type": "code",
   "execution_count": 15,
   "metadata": {},
   "outputs": [
    {
     "name": "stdout",
     "output_type": "stream",
     "text": [
      "[-10.          -9.38775539  -8.77550983  -8.16326523  -7.55102062\n",
      "  -6.93877554  -6.32653046  -5.71428585  -5.10204077  -4.48979568\n",
      "  -3.87755108  -3.26530623  -2.65306115  -2.04081631  -1.42857146\n",
      "  -0.81632656  -0.20408164   0.40816328   1.02040815   1.63265312\n",
      "   2.24489784   2.85714293   3.46938777   4.08163261   4.6938777\n",
      "   5.3061223    5.91836739   6.53061247   7.14285707   7.75510216\n",
      "   8.36734676   8.97959137   9.59183693  10.20408154  10.81632614\n",
      "  11.4285717   12.04081631  12.65306091  13.26530647  13.87755108\n",
      "  14.48979568  15.10204124  15.71428585  16.32653046  16.93877602\n",
      "  17.55101967  18.16326523  18.77551079  19.38775444  20.        ]\n",
      "[  4.53999310e-05   8.37432162e-05   1.54470123e-04   2.84930517e-04\n",
      "   5.25573443e-04   9.69455927e-04   1.78822735e-03   3.29850521e-03\n",
      "   6.08431734e-03   1.12229362e-02   2.07014587e-02   3.81852388e-02\n",
      "   7.04352707e-02   1.29922614e-01   2.39651024e-01   4.42052543e-01\n",
      "   8.15395772e-01   1.50405276e+00   2.77432680e+00   5.11743402e+00\n",
      "   9.43945122e+00   1.74117088e+01   3.21170731e+01   5.92421112e+01\n",
      "   1.09276100e+02   2.01567093e+02   3.71804199e+02   6.85818115e+02\n",
      "   1.26503760e+03   2.33344775e+03   4.30420068e+03   7.93938721e+03\n",
      "   1.46447461e+04   2.70132168e+04   4.98276914e+04   9.19106016e+04\n",
      "   1.69535281e+05   3.12719188e+05   5.76832062e+05   1.06400550e+06\n",
      "   1.96262950e+06   3.62020500e+06   6.67771100e+06   1.23174860e+07\n",
      "   2.27204520e+07   4.19093560e+07   7.73046960e+07   1.42593824e+08\n",
      "   2.63023632e+08   4.85165184e+08]\n"
     ]
    },
    {
     "data": {
      "text/html": [
       "<div>\n",
       "<style scoped>\n",
       "    .dataframe tbody tr th:only-of-type {\n",
       "        vertical-align: middle;\n",
       "    }\n",
       "\n",
       "    .dataframe tbody tr th {\n",
       "        vertical-align: top;\n",
       "    }\n",
       "\n",
       "    .dataframe thead th {\n",
       "        text-align: right;\n",
       "    }\n",
       "</style>\n",
       "<table border=\"1\" class=\"dataframe\">\n",
       "  <thead>\n",
       "    <tr style=\"text-align: right;\">\n",
       "      <th></th>\n",
       "      <th>bias</th>\n",
       "      <th>CRIM</th>\n",
       "      <th>ZN</th>\n",
       "      <th>INDUS</th>\n",
       "      <th>CHAS</th>\n",
       "      <th>NOX</th>\n",
       "      <th>RM</th>\n",
       "      <th>AGE</th>\n",
       "      <th>DIS</th>\n",
       "      <th>RAD</th>\n",
       "      <th>TAX</th>\n",
       "      <th>PTRATIO</th>\n",
       "      <th>BLACK</th>\n",
       "      <th>LSTAT</th>\n",
       "      <th>logalphas</th>\n",
       "    </tr>\n",
       "  </thead>\n",
       "  <tbody>\n",
       "    <tr>\n",
       "      <th>0</th>\n",
       "      <td>34.044936</td>\n",
       "      <td>-0.052489</td>\n",
       "      <td>0.047445</td>\n",
       "      <td>0.053853</td>\n",
       "      <td>3.784849</td>\n",
       "      <td>-15.738934</td>\n",
       "      <td>3.768835</td>\n",
       "      <td>-0.004627</td>\n",
       "      <td>-1.548812</td>\n",
       "      <td>0.328965</td>\n",
       "      <td>-0.012867</td>\n",
       "      <td>-0.856968</td>\n",
       "      <td>0.011666</td>\n",
       "      <td>-0.600317</td>\n",
       "      <td>-10.000000</td>\n",
       "    </tr>\n",
       "    <tr>\n",
       "      <th>1</th>\n",
       "      <td>34.044512</td>\n",
       "      <td>-0.052488</td>\n",
       "      <td>0.047445</td>\n",
       "      <td>0.053850</td>\n",
       "      <td>3.784836</td>\n",
       "      <td>-15.738324</td>\n",
       "      <td>3.768838</td>\n",
       "      <td>-0.004628</td>\n",
       "      <td>-1.548803</td>\n",
       "      <td>0.328963</td>\n",
       "      <td>-0.012867</td>\n",
       "      <td>-0.856961</td>\n",
       "      <td>0.011666</td>\n",
       "      <td>-0.600318</td>\n",
       "      <td>-9.387755</td>\n",
       "    </tr>\n",
       "    <tr>\n",
       "      <th>2</th>\n",
       "      <td>34.043730</td>\n",
       "      <td>-0.052488</td>\n",
       "      <td>0.047445</td>\n",
       "      <td>0.053846</td>\n",
       "      <td>3.784812</td>\n",
       "      <td>-15.737198</td>\n",
       "      <td>3.768842</td>\n",
       "      <td>-0.004629</td>\n",
       "      <td>-1.548787</td>\n",
       "      <td>0.328960</td>\n",
       "      <td>-0.012867</td>\n",
       "      <td>-0.856948</td>\n",
       "      <td>0.011666</td>\n",
       "      <td>-0.600319</td>\n",
       "      <td>-8.775510</td>\n",
       "    </tr>\n",
       "    <tr>\n",
       "      <th>3</th>\n",
       "      <td>34.042287</td>\n",
       "      <td>-0.052486</td>\n",
       "      <td>0.047446</td>\n",
       "      <td>0.053838</td>\n",
       "      <td>3.784767</td>\n",
       "      <td>-15.735123</td>\n",
       "      <td>3.768851</td>\n",
       "      <td>-0.004631</td>\n",
       "      <td>-1.548756</td>\n",
       "      <td>0.328954</td>\n",
       "      <td>-0.012867</td>\n",
       "      <td>-0.856925</td>\n",
       "      <td>0.011666</td>\n",
       "      <td>-0.600323</td>\n",
       "      <td>-8.163265</td>\n",
       "    </tr>\n",
       "    <tr>\n",
       "      <th>4</th>\n",
       "      <td>34.039628</td>\n",
       "      <td>-0.052483</td>\n",
       "      <td>0.047447</td>\n",
       "      <td>0.053824</td>\n",
       "      <td>3.784686</td>\n",
       "      <td>-15.731295</td>\n",
       "      <td>3.768868</td>\n",
       "      <td>-0.004634</td>\n",
       "      <td>-1.548699</td>\n",
       "      <td>0.328943</td>\n",
       "      <td>-0.012867</td>\n",
       "      <td>-0.856881</td>\n",
       "      <td>0.011666</td>\n",
       "      <td>-0.600329</td>\n",
       "      <td>-7.551021</td>\n",
       "    </tr>\n",
       "  </tbody>\n",
       "</table>\n",
       "</div>"
      ],
      "text/plain": [
       "        bias      CRIM        ZN     INDUS      CHAS        NOX        RM  \\\n",
       "0  34.044936 -0.052489  0.047445  0.053853  3.784849 -15.738934  3.768835   \n",
       "1  34.044512 -0.052488  0.047445  0.053850  3.784836 -15.738324  3.768838   \n",
       "2  34.043730 -0.052488  0.047445  0.053846  3.784812 -15.737198  3.768842   \n",
       "3  34.042287 -0.052486  0.047446  0.053838  3.784767 -15.735123  3.768851   \n",
       "4  34.039628 -0.052483  0.047447  0.053824  3.784686 -15.731295  3.768868   \n",
       "\n",
       "        AGE       DIS       RAD       TAX   PTRATIO     BLACK     LSTAT  \\\n",
       "0 -0.004627 -1.548812  0.328965 -0.012867 -0.856968  0.011666 -0.600317   \n",
       "1 -0.004628 -1.548803  0.328963 -0.012867 -0.856961  0.011666 -0.600318   \n",
       "2 -0.004629 -1.548787  0.328960 -0.012867 -0.856948  0.011666 -0.600319   \n",
       "3 -0.004631 -1.548756  0.328954 -0.012867 -0.856925  0.011666 -0.600323   \n",
       "4 -0.004634 -1.548699  0.328943 -0.012867 -0.856881  0.011666 -0.600329   \n",
       "\n",
       "   logalphas  \n",
       "0 -10.000000  \n",
       "1  -9.387755  \n",
       "2  -8.775510  \n",
       "3  -8.163265  \n",
       "4  -7.551021  "
      ]
     },
     "execution_count": 15,
     "metadata": {},
     "output_type": "execute_result"
    }
   ],
   "source": [
    "#Let us produce ridge coefficients with different alphas\n",
    "#logalphas = np.linspace()\n",
    "logalphas = np.linspace(start = -10, stop=+20, num=50, dtype=np.float32)\n",
    "print(logalphas)\n",
    "alphas    = np.exp(logalphas)\n",
    "print(alphas)\n",
    "\n",
    "def RidgeCoeffs(alpha):\n",
    "    model_ridge = Ridge(alpha=alpha, random_state=0)\n",
    "    model_ridge.fit(X, Y) \n",
    "    thetas     = np.concatenate((model_ridge.intercept_.reshape(-1,1), \n",
    "                             model_ridge.coef_.reshape(-1,1)))\n",
    "    return(thetas.flatten().tolist())\n",
    "\n",
    "coeffsList = [RidgeCoeffs(alpha) for alpha in alphas]\n",
    "coeffsDF = pd.DataFrame.from_records(coeffsList)\n",
    "\n",
    "#prepare column names\n",
    "cols = dataframe.columns[0:-1].tolist()\n",
    "cols.insert(0,\"bias\")\n",
    "\n",
    "coeffsDF.columns = cols\n",
    "\n",
    "coeffsDF[\"logalphas\"] = logalphas\n",
    "coeffsDF.head()\n",
    "#tt.flatten()\n",
    "#?np.linspace"
   ]
  },
  {
   "cell_type": "code",
   "execution_count": 16,
   "metadata": {},
   "outputs": [
    {
     "name": "stderr",
     "output_type": "stream",
     "text": [
      "/Users/jvsingh/anaconda/envs/py35/lib/python3.5/site-packages/pandas/plotting/_core.py:1716: UserWarning: Pandas doesn't allow columns to be created via a new attribute name - see https://pandas.pydata.org/pandas-docs/stable/indexing.html#attribute-access\n",
      "  series.name = label\n"
     ]
    },
    {
     "data": {
      "text/plain": [
       "<matplotlib.axes._subplots.AxesSubplot at 0x1a1e64a828>"
      ]
     },
     "execution_count": 16,
     "metadata": {},
     "output_type": "execute_result"
    },
    {
     "data": {
      "image/png": "[encoded data removed]",
      "text/plain": [
       "<matplotlib.figure.Figure at 0x1a10cc1b00>"
      ]
     },
     "metadata": {},
     "output_type": "display_data"
    }
   ],
   "source": [
    "# Import the libraries\n",
    "import matplotlib.pyplot as plt\n",
    "import seaborn as sns\n",
    "\n",
    "%matplotlib inline\n",
    "\n",
    "coeffsDF.plot(x='logalphas', \n",
    "              y=coeffsDF.columns[1:-1], \n",
    "              figsize=(10,5), \n",
    "              grid=True,\n",
    "              title = \"Ridge\")\n"
   ]
  },
  {
   "cell_type": "markdown",
   "metadata": {},
   "source": [
    "### LASSO Regression"
   ]
  },
  {
   "cell_type": "code",
   "execution_count": 17,
   "metadata": {},
   "outputs": [],
   "source": [
    "from sklearn.linear_model import Lasso"
   ]
  },
  {
   "cell_type": "code",
   "execution_count": 18,
   "metadata": {},
   "outputs": [
    {
     "data": {
      "text/html": [
       "<div>\n",
       "<style scoped>\n",
       "    .dataframe tbody tr th:only-of-type {\n",
       "        vertical-align: middle;\n",
       "    }\n",
       "\n",
       "    .dataframe tbody tr th {\n",
       "        vertical-align: top;\n",
       "    }\n",
       "\n",
       "    .dataframe thead th {\n",
       "        text-align: right;\n",
       "    }\n",
       "</style>\n",
       "<table border=\"1\" class=\"dataframe\">\n",
       "  <thead>\n",
       "    <tr style=\"text-align: right;\">\n",
       "      <th></th>\n",
       "      <th>bias</th>\n",
       "      <th>CRIM</th>\n",
       "      <th>ZN</th>\n",
       "      <th>INDUS</th>\n",
       "      <th>CHAS</th>\n",
       "      <th>NOX</th>\n",
       "      <th>RM</th>\n",
       "      <th>AGE</th>\n",
       "      <th>DIS</th>\n",
       "      <th>RAD</th>\n",
       "      <th>TAX</th>\n",
       "      <th>PTRATIO</th>\n",
       "      <th>BLACK</th>\n",
       "      <th>LSTAT</th>\n",
       "      <th>logalphas</th>\n",
       "    </tr>\n",
       "  </thead>\n",
       "  <tbody>\n",
       "    <tr>\n",
       "      <th>0</th>\n",
       "      <td>34.035019</td>\n",
       "      <td>-0.052476</td>\n",
       "      <td>0.047448</td>\n",
       "      <td>0.053795</td>\n",
       "      <td>3.783935</td>\n",
       "      <td>-15.723901</td>\n",
       "      <td>3.768809</td>\n",
       "      <td>-0.004638</td>\n",
       "      <td>-1.548565</td>\n",
       "      <td>0.328924</td>\n",
       "      <td>-0.012868</td>\n",
       "      <td>-0.856802</td>\n",
       "      <td>0.011667</td>\n",
       "      <td>-0.600348</td>\n",
       "      <td>-10.000000</td>\n",
       "    </tr>\n",
       "    <tr>\n",
       "      <th>1</th>\n",
       "      <td>34.026220</td>\n",
       "      <td>-0.052465</td>\n",
       "      <td>0.047450</td>\n",
       "      <td>0.053745</td>\n",
       "      <td>3.783150</td>\n",
       "      <td>-15.710594</td>\n",
       "      <td>3.768790</td>\n",
       "      <td>-0.004648</td>\n",
       "      <td>-1.548347</td>\n",
       "      <td>0.328887</td>\n",
       "      <td>-0.012869</td>\n",
       "      <td>-0.856655</td>\n",
       "      <td>0.011668</td>\n",
       "      <td>-0.600376</td>\n",
       "      <td>-9.387755</td>\n",
       "    </tr>\n",
       "    <tr>\n",
       "      <th>2</th>\n",
       "      <td>34.009989</td>\n",
       "      <td>-0.052445</td>\n",
       "      <td>0.047455</td>\n",
       "      <td>0.053651</td>\n",
       "      <td>3.781701</td>\n",
       "      <td>-15.686048</td>\n",
       "      <td>3.768754</td>\n",
       "      <td>-0.004666</td>\n",
       "      <td>-1.547944</td>\n",
       "      <td>0.328819</td>\n",
       "      <td>-0.012870</td>\n",
       "      <td>-0.856385</td>\n",
       "      <td>0.011669</td>\n",
       "      <td>-0.600427</td>\n",
       "      <td>-8.775510</td>\n",
       "    </tr>\n",
       "    <tr>\n",
       "      <th>3</th>\n",
       "      <td>33.980049</td>\n",
       "      <td>-0.052408</td>\n",
       "      <td>0.047463</td>\n",
       "      <td>0.053479</td>\n",
       "      <td>3.779030</td>\n",
       "      <td>-15.640768</td>\n",
       "      <td>3.768688</td>\n",
       "      <td>-0.004700</td>\n",
       "      <td>-1.547202</td>\n",
       "      <td>0.328694</td>\n",
       "      <td>-0.012874</td>\n",
       "      <td>-0.855886</td>\n",
       "      <td>0.011672</td>\n",
       "      <td>-0.600522</td>\n",
       "      <td>-8.163265</td>\n",
       "    </tr>\n",
       "    <tr>\n",
       "      <th>4</th>\n",
       "      <td>33.924777</td>\n",
       "      <td>-0.052339</td>\n",
       "      <td>0.047478</td>\n",
       "      <td>0.053161</td>\n",
       "      <td>3.774103</td>\n",
       "      <td>-15.557213</td>\n",
       "      <td>3.768569</td>\n",
       "      <td>-0.004761</td>\n",
       "      <td>-1.545832</td>\n",
       "      <td>0.328462</td>\n",
       "      <td>-0.012880</td>\n",
       "      <td>-0.854964</td>\n",
       "      <td>0.011678</td>\n",
       "      <td>-0.600696</td>\n",
       "      <td>-7.551021</td>\n",
       "    </tr>\n",
       "  </tbody>\n",
       "</table>\n",
       "</div>"
      ],
      "text/plain": [
       "        bias      CRIM        ZN     INDUS      CHAS        NOX        RM  \\\n",
       "0  34.035019 -0.052476  0.047448  0.053795  3.783935 -15.723901  3.768809   \n",
       "1  34.026220 -0.052465  0.047450  0.053745  3.783150 -15.710594  3.768790   \n",
       "2  34.009989 -0.052445  0.047455  0.053651  3.781701 -15.686048  3.768754   \n",
       "3  33.980049 -0.052408  0.047463  0.053479  3.779030 -15.640768  3.768688   \n",
       "4  33.924777 -0.052339  0.047478  0.053161  3.774103 -15.557213  3.768569   \n",
       "\n",
       "        AGE       DIS       RAD       TAX   PTRATIO     BLACK     LSTAT  \\\n",
       "0 -0.004638 -1.548565  0.328924 -0.012868 -0.856802  0.011667 -0.600348   \n",
       "1 -0.004648 -1.548347  0.328887 -0.012869 -0.856655  0.011668 -0.600376   \n",
       "2 -0.004666 -1.547944  0.328819 -0.012870 -0.856385  0.011669 -0.600427   \n",
       "3 -0.004700 -1.547202  0.328694 -0.012874 -0.855886  0.011672 -0.600522   \n",
       "4 -0.004761 -1.545832  0.328462 -0.012880 -0.854964  0.011678 -0.600696   \n",
       "\n",
       "   logalphas  \n",
       "0 -10.000000  \n",
       "1  -9.387755  \n",
       "2  -8.775510  \n",
       "3  -8.163265  \n",
       "4  -7.551021  "
      ]
     },
     "execution_count": 18,
     "metadata": {},
     "output_type": "execute_result"
    }
   ],
   "source": [
    "#Let us produce ridge coefficients with different alphas\n",
    "logalphas = np.linspace(start = -10, stop=+20, num=50, dtype=np.float32)\n",
    "#print(logalphas)\n",
    "alphas    = np.exp(logalphas)\n",
    "#print(alphas)\n",
    "\n",
    "def LassoCoeffs(alpha):\n",
    "    model = Lasso(alpha=alpha, random_state=0)\n",
    "    model.fit(X, Y) \n",
    "    thetas     = np.concatenate((model.intercept_.reshape(-1,1), \n",
    "                             model.coef_.reshape(-1,1)))\n",
    "    return(thetas.flatten().tolist())\n",
    "\n",
    "coeffsList = [LassoCoeffs(alpha) for alpha in alphas]\n",
    "#import pandas as pd\n",
    "coeffsDF = pd.DataFrame.from_records(coeffsList)\n",
    "\n",
    "#prepare column names\n",
    "cols = dataframe.columns[0:-1].tolist()\n",
    "cols.insert(0,\"bias\")\n",
    "coeffsDF.columns = cols\n",
    "\n",
    "coeffsDF[\"logalphas\"] = logalphas\n",
    "coeffsDF.head()"
   ]
  },
  {
   "cell_type": "code",
   "execution_count": 19,
   "metadata": {},
   "outputs": [
    {
     "name": "stderr",
     "output_type": "stream",
     "text": [
      "/Users/jvsingh/anaconda/envs/py35/lib/python3.5/site-packages/pandas/plotting/_core.py:1716: UserWarning: Pandas doesn't allow columns to be created via a new attribute name - see https://pandas.pydata.org/pandas-docs/stable/indexing.html#attribute-access\n",
      "  series.name = label\n"
     ]
    },
    {
     "data": {
      "text/plain": [
       "<matplotlib.axes._subplots.AxesSubplot at 0x1a1ebf4550>"
      ]
     },
     "execution_count": 19,
     "metadata": {},
     "output_type": "execute_result"
    },
    {
     "data": {
      "image/png": "[encoded data removed]",
      "text/plain": [
       "<matplotlib.figure.Figure at 0x1a1ec4eeb8>"
      ]
     },
     "metadata": {},
     "output_type": "display_data"
    }
   ],
   "source": [
    "# Import the libraries\n",
    "import matplotlib.pyplot as plt\n",
    "import seaborn as sns\n",
    "\n",
    "%matplotlib inline\n",
    "\n",
    "coeffsDF.plot(x = 'logalphas', \n",
    "              y = coeffsDF.columns[1:-1], \n",
    "              figsize=(10,5), \n",
    "              grid=True,\n",
    "              title = \"Lasso\")"
   ]
  },
  {
   "cell_type": "markdown",
   "metadata": {},
   "source": [
    "As we see above, the Lasso converges faster to zero as expected"
   ]
  },
  {
   "cell_type": "markdown",
   "metadata": {},
   "source": [
    "As seen below, both **ridge** and **lasso** have same estimates and equal to that of Linear Regression if we use the regularization paramater 0, i.e **alpha=0**"
   ]
  },
  {
   "cell_type": "code",
   "execution_count": 20,
   "metadata": {},
   "outputs": [
    {
     "data": {
      "text/plain": [
       "array([  3.40454378e+01,  -5.24893379e-02,   4.74448677e-02,\n",
       "         5.38552422e-02,   3.78486439e+00,  -1.57396571e+01,\n",
       "         3.76883175e+00,  -4.62660241e-03,  -1.54882312e+00,\n",
       "         3.28967093e-01,  -1.28664959e-02,  -8.56975746e-01,\n",
       "         1.16659048e-02,  -6.00315456e-01])"
      ]
     },
     "execution_count": 20,
     "metadata": {},
     "output_type": "execute_result"
    }
   ],
   "source": [
    "from sklearn import linear_model\n",
    "lm = linear_model.LinearRegression()\n",
    "model = lm.fit(X,Y)\n",
    "np.concatenate((model.intercept_.reshape(-1,1), model.coef_.reshape(-1,1))).flatten()"
   ]
  },
  {
   "cell_type": "code",
   "execution_count": 21,
   "metadata": {},
   "outputs": [
    {
     "name": "stderr",
     "output_type": "stream",
     "text": [
      "/Users/jvsingh/anaconda/envs/py35/lib/python3.5/site-packages/ipykernel_launcher.py:2: UserWarning: With alpha=0, this algorithm does not converge well. You are advised to use the LinearRegression estimator\n",
      "  \n",
      "/Users/jvsingh/anaconda/envs/py35/lib/python3.5/site-packages/sklearn/linear_model/coordinate_descent.py:477: UserWarning: Coordinate descent with no regularization may lead to unexpected results and is discouraged.\n",
      "  positive)\n",
      "/Users/jvsingh/anaconda/envs/py35/lib/python3.5/site-packages/sklearn/linear_model/coordinate_descent.py:491: ConvergenceWarning: Objective did not converge. You might want to increase the number of iterations. Fitting data with very small alpha may cause precision problems.\n",
      "  ConvergenceWarning)\n"
     ]
    },
    {
     "data": {
      "text/plain": [
       "array([  3.40454378e+01,  -5.24893379e-02,   4.74448677e-02,\n",
       "         5.38552422e-02,   3.78486439e+00,  -1.57396571e+01,\n",
       "         3.76883175e+00,  -4.62660241e-03,  -1.54882312e+00,\n",
       "         3.28967093e-01,  -1.28664959e-02,  -8.56975746e-01,\n",
       "         1.16659048e-02,  -6.00315456e-01])"
      ]
     },
     "execution_count": 21,
     "metadata": {},
     "output_type": "execute_result"
    }
   ],
   "source": [
    "model = Lasso(alpha=0, random_state=0)\n",
    "model.fit(X, Y) \n",
    "np.concatenate((model.intercept_.reshape(-1,1), model.coef_.reshape(-1,1))).flatten()"
   ]
  },
  {
   "cell_type": "code",
   "execution_count": 22,
   "metadata": {},
   "outputs": [
    {
     "data": {
      "text/plain": [
       "array([  3.40454378e+01,  -5.24893379e-02,   4.74448677e-02,\n",
       "         5.38552422e-02,   3.78486439e+00,  -1.57396571e+01,\n",
       "         3.76883175e+00,  -4.62660241e-03,  -1.54882312e+00,\n",
       "         3.28967093e-01,  -1.28664959e-02,  -8.56975746e-01,\n",
       "         1.16659048e-02,  -6.00315456e-01])"
      ]
     },
     "execution_count": 22,
     "metadata": {},
     "output_type": "execute_result"
    }
   ],
   "source": [
    "model = Ridge(alpha=0, random_state=0)\n",
    "model.fit(X, Y) \n",
    "np.concatenate((model.intercept_.reshape(-1,1), model.coef_.reshape(-1,1))).flatten()"
   ]
  }
 ],
 "metadata": {
  "kernelspec": {
   "display_name": "Python 3",
   "language": "python",
   "name": "python3"
  },
  "language_info": {
   "codemirror_mode": {
    "name": "ipython",
    "version": 3
   },
   "file_extension": ".py",
   "mimetype": "text/x-python",
   "name": "python",
   "nbconvert_exporter": "python",
   "pygments_lexer": "ipython3",
   "version": "3.5.4"
  }
 },
 "nbformat": 4,
 "nbformat_minor": 2
}
