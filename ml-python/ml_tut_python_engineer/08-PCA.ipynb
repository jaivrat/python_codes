{
 "cells": [
  {
   "cell_type": "markdown",
   "metadata": {},
   "source": [
    "#### Principal component analysis\n",
    "\n",
    "https://www.youtube.com/watch?v=52d7ha-GdV8\n",
    "\n",
    "Most material from \"Python Engineer's\" content - i am just trying out few things on my own,\n",
    "    "
   ]
  },
  {
   "cell_type": "markdown",
   "metadata": {},
   "source": [
    "#### PCA\n",
    "\n",
    "PCA find a new set of othogonal dimsneions, ranked by variance of data along that dimension\n",
    "\n",
    "\n",
    "* The transformed features are linearly independent\n",
    "\n",
    "* Dimensionality can be reduced by taking only the dimensions with the highest importance.\n",
    "\n",
    "* Those newly found dimensions should minimize the projection error.\n",
    "\n",
    "* The projected points should have maximum spread, ie maximum variance\n",
    "\n",
    "#### Variance\n",
    "\n",
    "Variation $\\begin{align} \\sigma ^2 (x) = \\frac{1}{n}\\sum (X_i - \\bar X)^2 \\end{align}$\n",
    "\n",
    "#### Covariance Matrix\n",
    "\n",
    "$\\begin{align} Cov(X,Y) = \\frac{1}{n}\\sum (X_i - \\bar X)(Y_i - \\bar Y)^T \\end{align}$\n",
    "\n",
    "#### Eigenvector, Eigenvalues\n",
    "\n",
    "The eigenvectors point in the direction of the maximum variance, and the corresponding eignevalues indicates the importance of its corresponding eigenvector.\n",
    "\n",
    "$A \\vec{v} = \\lambda \\vec{v}$\n",
    "\n",
    "\n",
    "#### Approach\n",
    "\n",
    "* subtract the mean from X.\n",
    "* Calculate cov(X,X).\n",
    "* Calculate eigenvectors and eigenvalues of covariance matrix.\n",
    "* Sort the eigenvectors according to the eignevalues in decreasing order.\n",
    "* Choose first k eigenvectors and that will be the new k dimensions.\n",
    "* Transform the originl n dimensinal data points "
   ]
  },
  {
   "cell_type": "code",
   "execution_count": null,
   "metadata": {},
   "outputs": [],
   "source": []
  }
 ],
 "metadata": {
  "kernelspec": {
   "display_name": "Python 3",
   "language": "python",
   "name": "python3"
  },
  "language_info": {
   "codemirror_mode": {
    "name": "ipython",
    "version": 3
   },
   "file_extension": ".py",
   "mimetype": "text/x-python",
   "name": "python",
   "nbconvert_exporter": "python",
   "pygments_lexer": "ipython3",
   "version": "3.7.9"
  }
 },
 "nbformat": 4,
 "nbformat_minor": 4
}
