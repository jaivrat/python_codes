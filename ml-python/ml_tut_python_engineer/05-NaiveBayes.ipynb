{
 "cells": [
  {
   "cell_type": "markdown",
   "metadata": {},
   "source": [
    "## Naive Bayes\n",
    "\n",
    "\n",
    "https://www.youtube.com/watch?v=BqUmKsfSWho"
   ]
  },
  {
   "cell_type": "markdown",
   "metadata": {},
   "source": [
    "\n",
    "\n",
    "$P(A|B) = \\frac{P(B|A) P(A)}{P(B)}$\n",
    "\n",
    "### In our case\n",
    "\n",
    "\n",
    "$P(y|X) = \\frac{P(X|y) P(y)}{P(X)}$\n",
    "\n",
    "### with feature vector X\n",
    "\n",
    "$X = (x_1, x_2, ..., x_n)$\n",
    "\n",
    "\n",
    "### Assume that all features are mutually independent\n",
    "\n",
    "$P(y|X) = \\frac{P(x_1|y) \\dot P(x2|y) \\cdots P(x_n|y) \\dot P(y)}{P(X)}$\n",
    "\n",
    "### Select class with highest probability\n",
    "$\\hat y = \\underset{y}{\\operatorname{argmax}} \\frac{P(x_1|y) \\dot P(x2|y) \\cdots P(x_n|y) \\dot P(y)}{P(X)}$\n",
    "$\\hat y = \\underset{y}{\\operatorname{argmax}} P(x_1|y) P(x2|y) \\cdots P(x_n|y)  P(y)$\n",
    "\n",
    "Since probabilities are very small number and multiplying them can be overflow problem, so we use **log**\n",
    "\n",
    "$\\hat y = \\underset{y}{\\operatorname{argmax}} log(P(x_1|y)) + log( P(x2|y)) \\cdots log(P(x_n|y)) + log(P(y))$\n",
    "\n",
    "$P(y)$ : Prior probability\n",
    "\n",
    "\n",
    "In many cases we model \n",
    "\n",
    "$P(x_i|y) = \\frac{1}{\\sqrt {2 \\pi \\sigma_y^{2}}} exp\\left( - \\frac{(x_i-\\mu_y)^2}{2 \\sigma_y^2} \\right)$\n"
   ]
  },
  {
   "cell_type": "code",
   "execution_count": 1,
   "metadata": {},
   "outputs": [],
   "source": [
    "import numpy as np\n",
    "\n",
    "\n",
    "class NaiveBayes:\n",
    "    # We do not need init\n",
    "    \n",
    "    def fit(self, X, y):\n",
    "        # We need priors\n",
    "        n_samples, n_features  = X.shape\n",
    "        self._classes = np.unique(y)\n",
    "        n_classes = len(self._classes)\n",
    "        \n",
    "        # init mean, var , priors\n",
    "        # for each class we need means of all features\n",
    "        self._mean = np.zeros((n_classes, n_features), dtype=np.float64)\n",
    "        self._var = np.zeros((n_classes, n_features), dtype=np.float64)\n",
    "        self._priors = np.zeros((n_classes, 1),dtype=np.float64)\n",
    "        \n",
    "        for c in self._classes:\n",
    "            X_c = X[c==y]\n",
    "            self._mean[c, :] = X_c.mean(axis=0)\n",
    "            self._var[c, :]  = X_c.var(axis=0)\n",
    "            #print(f'X_c.shape {X_c.shape[0]}')\n",
    "            self._priors[c, :]  = X_c.shape[0]/float(n_samples)\n",
    "        \n",
    "        pass\n",
    "    \n",
    "    # precicts for all samples in X\n",
    "    def predict(self, X):\n",
    "        y_pred = [self._predict(x) for x in X]\n",
    "        return y_pred\n",
    "    \n",
    "    # predict method for one sample\n",
    "    def _predict(self, X):\n",
    "        posteriors = []\n",
    "        for idx, c in enumerate(self._classes):\n",
    "            prior = np.log(self._priors[idx])\n",
    "            class_conditiona = np.sum(np.log(self._pdf(idx, X)))\n",
    "            posterior = prior + class_conditiona\n",
    "            posteriors.append(posterior)\n",
    "        \n",
    "        return self._classes[np.argmax(posteriors)]\n",
    "            \n",
    "            \n",
    "    def _pdf(self, class_idx, x):\n",
    "        mu = self._mean[class_idx]\n",
    "        var = self._var[class_idx]\n",
    "        numer  = np.exp((- (x - mu)**2)/(2 * var))\n",
    "        denom = np.sqrt(2 * np.pi * var)\n",
    "        return numer/denom"
   ]
  },
  {
   "cell_type": "code",
   "execution_count": 2,
   "metadata": {},
   "outputs": [],
   "source": [
    "import numpy as np\n",
    "import sklearn\n",
    "from sklearn.model_selection import train_test_split\n",
    "from sklearn import datasets"
   ]
  },
  {
   "cell_type": "code",
   "execution_count": 3,
   "metadata": {},
   "outputs": [
    {
     "name": "stdout",
     "output_type": "stream",
     "text": [
      "Accuracy: 0.965\n"
     ]
    }
   ],
   "source": [
    "X, y = datasets.make_classification(n_samples = 1000, n_features = 10, n_classes = 2,\n",
    "                                    random_state = 123)\n",
    "\n",
    "X_train, X_test, y_train, y_test = train_test_split(X, y, test_size=0.2, random_state=123)\n",
    "\n",
    "\n",
    "# fit the model\n",
    "nb = NaiveBayes()\n",
    "nb.fit(X_train, y_train)\n",
    "predictions = nb.predict(X_test)\n",
    "\n",
    "\n",
    "def accuracy(y_true, y_pred):\n",
    "    accuracy = np.sum( y_true == y_pred)/len(y_true)\n",
    "    return accuracy\n",
    "\n",
    "print(f\"Accuracy: {accuracy(y_test, predictions)}\")"
   ]
  }
 ],
 "metadata": {
  "kernelspec": {
   "display_name": "Python 3",
   "language": "python",
   "name": "python3"
  },
  "language_info": {
   "codemirror_mode": {
    "name": "ipython",
    "version": 3
   },
   "file_extension": ".py",
   "mimetype": "text/x-python",
   "name": "python",
   "nbconvert_exporter": "python",
   "pygments_lexer": "ipython3",
   "version": "3.7.9"
  }
 },
 "nbformat": 4,
 "nbformat_minor": 4
}
