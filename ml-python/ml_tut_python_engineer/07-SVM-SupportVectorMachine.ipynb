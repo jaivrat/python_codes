{
 "cells": [
  {
   "cell_type": "markdown",
   "metadata": {},
   "source": [
    "#### SVM (Support Vector Machine) in Python - Machine Learning From Scratch 07 - Python Tutorial\n",
    "\n",
    "Note that Screen shots and most of material from this video - so thanks to the creator \"Python Engineer\" for all this!!\n",
    "\n",
    "https://www.youtube.com/watch?v=UX0f9BNBcsY\n",
    "\n",
    "<img src=\"images/svm.png\">"
   ]
  },
  {
   "cell_type": "markdown",
   "metadata": {},
   "source": [
    "- Follows linear model and tries to find linear decision boundary\n",
    "- This boundary is called hyperplane, that best separates the two classes . so that distance betwen nearest datapoints is maximized\n",
    "\n",
    "Blue => Class +1\n",
    "\n",
    "Green => Class -1\n"
   ]
  },
  {
   "cell_type": "markdown",
   "metadata": {},
   "source": [
    "#### Linear Model\n",
    "\n",
    "\n",
    "Separating line : $w \\cdot x - b = 0$\n",
    "\n",
    "\n",
    "$w \\cdot x - b \\ge 1$ for $y_i =  +1$\n",
    "\n",
    "$w \\cdot x - b \\le -1$ for $y_i =  -1$\n",
    "\n",
    "\n",
    "#### I am trying to recall my Twelth Class:\n",
    "\n",
    "Recall plane of equations:\n",
    "\n",
    "If x,y,z be points on a plane with is at distance d from the origin, and direction cosines of the normal unit vector be a,b,c (so $\\sqrt{a^2 + b^2 + c^2} = 1$) , then\n",
    "\n",
    "ax + by +cz = d \n",
    "\n",
    "Above can be drivied from the fact that any position vector from origin to point on place has same component $=d$ on the normal vector and value is distance $d$.\n",
    "\n",
    "That is why we write in vector form as $w \\cdot x - b = 0$, where w is direction  vector of normal to plane.  On normalizing it to direction cosines, we have $ \\frac{w}{\\|w\\|} \\cdot x - \\frac{b}{\\|w\\|} = 0 $ \n",
    "\n",
    "Now $\\frac{b}{\\|w\\|}$ is distance from origin and $ \\frac{w}{\\|w\\|} $ is the $\\hat n$ vector. Indeed we already know $\\hat n \\cdot x = d $ where $d$ is perpendicular distance for plane from origin.\n",
    "\n",
    "\n",
    "#### Coming back to Linear model\n",
    "\n",
    "Separating line : $w \\cdot x - b = 0$\n",
    "\n",
    "We want:\n",
    "\n",
    "$w \\cdot x - b \\ge 1$ for $y_i =  +1$\n",
    "\n",
    "$w \\cdot x - b \\le -1$ for $y_i =  -1$\n",
    "\n",
    "Above is equivalent saying perpidicular distance of class +1 space points to be more than plane's distance from origin so that point is on other side of seperating place. We could have done $w \\cdot x \\ge b $, but to **force extra separation** we want $w \\cdot x \\ge b + 1$, ie $w \\cdot x - b \\ge 1$   \n",
    "\n",
    "we can commbine into one as:\n",
    "\n",
    "$y_i ( w \\cdot x - b) \\ge 1$\n",
    "\n",
    "#### Cost Function\n",
    "\n",
    "##### Hinge Loss\n",
    "\n",
    "$ l = max(0, 1 - y_i (w \\cdot x_i - b))$\n",
    "\n",
    "Above function penalizes mistakes heavily. \n",
    "<img src=\"images/svm_cost_andrew_ng.png\">\n",
    "\n",
    "(Above from andrew ng's coursera slides)\n",
    "\n",
    "\n",
    "$$ l = max(0, 1 - y_i (w \\cdot x_i - b))$$\n",
    "\n",
    "$$\n",
    "\\begin{equation}\n",
    "l =\n",
    "\\begin{cases}\n",
    "  0, & \\text{if }\n",
    "       \\begin{aligned}[t]\n",
    "       y \\cdot f(x) & >= 0\n",
    "       \\end{aligned}\n",
    "\\\\\n",
    "  1 - y \\cdot f(x), & \\text{otherwise}\n",
    "\\end{cases}\n",
    "\\end{equation}\n",
    "$$\n",
    "\n",
    "\n",
    "Additionally we can also simply interpret as let $wx_i -b = z$\n",
    "\n",
    "$$\n",
    "\\begin{equation}\n",
    "l =\n",
    "\\begin{cases}\n",
    "  1-z , &\n",
    "       \\begin{aligned}[t]\n",
    "        y & = +1\n",
    "       \\end{aligned}\\\\\n",
    "  1 + z & \\begin{aligned}[t]\n",
    "        y & = -1\n",
    "       \\end{aligned}\n",
    "\\end{cases}\n",
    "\\end{equation}\n",
    "$$\n",
    "\n"
   ]
  },
  {
   "cell_type": "markdown",
   "metadata": {},
   "source": [
    "#### ADD Regularization\n",
    "\n",
    "$$\n",
    "\\begin{align}\n",
    "J = \\lambda {\\lVert}w{\\rVert}^2 + (1/n) \\sum_{i=1}^n max(0, 1 - y_i (w \\cdot x_i - b)) \n",
    "\\end{align}\n",
    "$$\n",
    "\n",
    "if $ y_i \\cdot f(x) \\ge 1$ :\n",
    "$$\n",
    "\\begin{align}\n",
    "J_i = \\lambda {\\lVert}w{\\rVert}^2 \n",
    "\\end{align}\n",
    "$$\n",
    "else :\n",
    "$$\n",
    "\\begin{align}\n",
    "J_i = \\lambda {\\lVert}w{\\rVert}^2  + 1 -  y_i(w.x_i - b)\n",
    "\\end{align}\n",
    "$$\n"
   ]
  },
  {
   "cell_type": "markdown",
   "metadata": {},
   "source": [
    "#### Gradients\n",
    "\n",
    "if $y_i \\cdot f(x_i) >= 1$:\n",
    "\n",
    "$\n",
    "\\begin{align}\n",
    "\\frac{\\partial J_i}{\\partial w_K} &= 2 \\lambda w_k \\\\\n",
    "\\frac{\\partial J_i}{\\partial b} &= 0\n",
    "\\end{align}\n",
    "$\n",
    "\n",
    "\n",
    "else:\n",
    "\n",
    "$\n",
    "\\begin{align}\n",
    "\\frac{\\partial J_i}{\\partial w_K} &= 2 \\lambda w_k - y_i x_i \\\\\n",
    "\\frac{\\partial J_i}{\\partial b} &= y_i\n",
    "\\end{align}\n",
    "$\n",
    "\n",
    "**Shouldn't it be ??**\n",
    "$\n",
    "\\begin{align}\n",
    "\\frac{\\partial J_i}{\\partial w_K} &= 2 \\lambda w_k - y_i x_{ik} \\\\\n",
    "\\frac{\\partial J_i}{\\partial b} &= y_i\n",
    "\\end{align}\n",
    "$\n",
    "\n"
   ]
  },
  {
   "cell_type": "markdown",
   "metadata": {},
   "source": [
    "#### Update Rule"
   ]
  },
  {
   "cell_type": "markdown",
   "metadata": {},
   "source": [
    "$w = w - \\alpha \\cdot dw$\n",
    "\n",
    "$b = b - \\alpha \\cdot db$"
   ]
  },
  {
   "cell_type": "code",
   "execution_count": 10,
   "metadata": {},
   "outputs": [],
   "source": [
    "import numpy as np\n",
    "\n",
    "class SVM:\n",
    "    def __init__(self, learning_rate = 0.0001, lambda_param = 0.01, n_iters = 1000):\n",
    "        self.lr = learning_rate\n",
    "        self.lambda_param = lambda_param\n",
    "        self.n_iters = n_iters\n",
    "        self.w = None\n",
    "        self.b = None\n",
    "        \n",
    "    def fit(self, X, y):\n",
    "        # sometimes y are in 0 and one\n",
    "        y_ = np.where(y <= 0, -1, +1)\n",
    "        n_samples, n_features = X.shape\n",
    "        \n",
    "        # intialize w and b\n",
    "        self.w = np.zeros(n_features)\n",
    "        self.b = 0.0\n",
    "        \n",
    "        # Gradient descent\n",
    "        for _ in range(self.n_iters):\n",
    "            for idx, x_i in enumerate(X):\n",
    "                condition = y_[idx] * ( np.dot(x_i, self.w) - self.b) >= 1\n",
    "                if condition:\n",
    "                    self.w = self.w - self.lr * ( 2 * self.lambda_param * self.w)\n",
    "                else:\n",
    "                    self.w = self.w - self.lr * ( 2 * self.lambda_param * self.w - np.dot(x_i, y_[idx]))\n",
    "                    self.b = self.b - self.lr * y_[idx] \n",
    "        pass\n",
    "    \n",
    "    \n",
    "    def predict(self, X):\n",
    "        linear_output  = np.dot(X, self.w) - b\n",
    "        return np.sign(linear_output)"
   ]
  },
  {
   "cell_type": "code",
   "execution_count": 11,
   "metadata": {},
   "outputs": [],
   "source": [
    "#### Let us test\n",
    "from sklearn.model_selection import train_test_split\n",
    "from sklearn import datasets\n",
    "\n",
    "def accuracy(y_true, y_pred):\n",
    "    accuracy = np.sum(y_true == y_pred) / len(y_true)\n",
    "    return accuracy\n",
    "\n",
    "X, y = datasets.make_blobs(n_samples=50,\n",
    "                           n_features=2,\n",
    "                           centers=2,\n",
    "                           cluster_std=1.05,random_state=40)\n",
    "y = np.where(y==0, -1, 1)"
   ]
  },
  {
   "cell_type": "code",
   "execution_count": 12,
   "metadata": {},
   "outputs": [],
   "source": [
    "clf = SVM()\n",
    "clf.fit(X, y)"
   ]
  },
  {
   "cell_type": "code",
   "execution_count": 13,
   "metadata": {},
   "outputs": [
    {
     "name": "stdout",
     "output_type": "stream",
     "text": [
      "[0.56830015 0.16476888] -0.059100000000000666\n"
     ]
    }
   ],
   "source": [
    "print(clf.w, clf.b)"
   ]
  },
  {
   "cell_type": "code",
   "execution_count": 17,
   "metadata": {},
   "outputs": [
    {
     "data": {
      "image/png": "[encoded data removed]",
      "text/plain": [
       "<Figure size 432x288 with 1 Axes>"
      ]
     },
     "metadata": {
      "needs_background": "light"
     },
     "output_type": "display_data"
    }
   ],
   "source": [
    "import matplotlib.pyplot as plt\n",
    "\n",
    "def visualize_svm():\n",
    "    def get_hyperplane_value(x, w, b, offset):\n",
    "        return (-w[0] * x + b + offset) / w[1]\n",
    "\n",
    "    fig = plt.figure()\n",
    "    ax = fig.add_subplot(1,1,1)\n",
    "    plt.scatter(X[:,0], X[:,1], marker='o',c=y)\n",
    "\n",
    "    x0_1 = np.amin(X[:,0])\n",
    "    x0_2 = np.amax(X[:,0])\n",
    "\n",
    "    x1_1 = get_hyperplane_value(x0_1, clf.w, clf.b, 0)\n",
    "    x1_2 = get_hyperplane_value(x0_2, clf.w, clf.b, 0)\n",
    "\n",
    "    x1_1_m = get_hyperplane_value(x0_1, clf.w, clf.b, -1)\n",
    "    x1_2_m = get_hyperplane_value(x0_2, clf.w, clf.b, -1)\n",
    "\n",
    "    x1_1_p = get_hyperplane_value(x0_1, clf.w, clf.b, 1)\n",
    "    x1_2_p = get_hyperplane_value(x0_2, clf.w, clf.b, 1)\n",
    "\n",
    "    ax.plot([x0_1, x0_2],[x1_1, x1_2], 'y--')\n",
    "    ax.plot([x0_1, x0_2],[x1_1_m, x1_2_m], 'k')\n",
    "    ax.plot([x0_1, x0_2],[x1_1_p, x1_2_p], 'k')\n",
    "\n",
    "    x1_min = np.amin(X[:,1])\n",
    "    x1_max = np.amax(X[:,1])\n",
    "    ax.set_ylim([x1_min-3,x1_max+3])\n",
    "\n",
    "    plt.show()\n",
    "    \n",
    "visualize_svm()"
   ]
  },
  {
   "cell_type": "code",
   "execution_count": null,
   "metadata": {},
   "outputs": [],
   "source": []
  }
 ],
 "metadata": {
  "kernelspec": {
   "display_name": "Python 3",
   "language": "python",
   "name": "python3"
  },
  "language_info": {
   "codemirror_mode": {
    "name": "ipython",
    "version": 3
   },
   "file_extension": ".py",
   "mimetype": "text/x-python",
   "name": "python",
   "nbconvert_exporter": "python",
   "pygments_lexer": "ipython3",
   "version": "3.7.9"
  }
 },
 "nbformat": 4,
 "nbformat_minor": 4
}
