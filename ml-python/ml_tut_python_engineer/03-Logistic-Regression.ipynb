{
 "cells": [
  {
   "cell_type": "markdown",
   "metadata": {},
   "source": [
    "### Logistic Regression in Python - Machine Learning From Scratch 03 - Python Tutorial\n",
    "https://www.youtube.com/watch?v=JDU3AzH3WKg\n",
    "\n",
    "\n",
    "##### Approximation\n",
    "\n",
    "$f(w,b) = wx + b$\n",
    "\n",
    "\n",
    "$\\hat y = h_{\\theta}(x) = \\frac{1}{1+e^{-wx + b}}$\n",
    "\n",
    "\n",
    "##### Sigmoid Function\n",
    "\n",
    "$s(x) = \\frac{1}{1+e^{-x}}$\n",
    "\n",
    "\n",
    "##### Cost function\n",
    "\n",
    "Cross entropy\n",
    "\n",
    "$J(w,b) = \\frac{1}{N} \\sum_i^N \\{ y_i log(h_{\\theta}(x)) + ( 1 - y_i) log(1 - h_{\\theta}(x))\\}$\n",
    "\n",
    "\n",
    "##### Gradient Descent\n",
    "\n",
    "\n",
    "Update rules\n",
    "\n",
    "$w = w - \\alpha * dw$\n",
    "\n",
    "$b = b - \\alpha * db$\n",
    "\n",
    "$$\n",
    "\\begin{align}\n",
    "J & = \\begin{bmatrix}\n",
    "                  \\frac{dJ}{dw}\\\\\n",
    "                  \\frac{dJ}{db}\n",
    "      \\end{bmatrix} \\\\\n",
    "  & = \\begin{bmatrix}\n",
    "          \\frac{1}{N} \\sum 2x_i(\\hat y - y_i)\\\\\n",
    "          \\frac{1}{N} \\sum 2(\\hat y - y_i)\n",
    "      \\end{bmatrix}  \n",
    "\\end{align}            \n",
    "$$\n",
    "\n",
    "\n"
   ]
  },
  {
   "cell_type": "code",
   "execution_count": 9,
   "metadata": {},
   "outputs": [],
   "source": [
    "import numpy as np\n",
    "\n",
    "\n",
    "class LogisticRegression():\n",
    "    def __init__(self, lr=0.1, n_iters = 10000):\n",
    "        self.lr = lr\n",
    "        self.n_iters = n_iters\n",
    "        self.weights = None\n",
    "        self.bias = None\n",
    "\n",
    "    def fit(self, X, y):\n",
    "        # we implemet gradient descent method\n",
    "        # 1. Init parametrs\n",
    "        n_samples, n_features = X.shape\n",
    "        self.weights = np.zeros(n_features)\n",
    "        self.bias = 0\n",
    "        for _ in range(self.n_iters):\n",
    "            #firs we calculate gradients, ie J\n",
    "            y_predicted = self._sigmoid(X)\n",
    "            dw = (1.0/n_samples) * 2 * np.dot(X.T, y_predicted - y)\n",
    "            db = (1.0/n_samples) * 2 * np.sum(y_predicted - y)\n",
    "            self.weights = self.weights - self.lr * dw\n",
    "            self.bias = self.bias - self.lr * db\n",
    "\n",
    "    def predict(self, X):\n",
    "        y_predicted = self._sigmoid(X)\n",
    "        return [1 if pred > 0.5 else 0 for pred in  y_predicted]\n",
    "    \n",
    "    def _sigmoid(self, X):\n",
    "        z = np.dot(X, self.weights) + self.bias\n",
    "        return 1/(1 + np.exp(-z))\n"
   ]
  },
  {
   "cell_type": "code",
   "execution_count": 10,
   "metadata": {},
   "outputs": [],
   "source": [
    "import numpy as np\n",
    "import sklearn\n",
    "from sklearn.model_selection import train_test_split\n",
    "from sklearn import datasets\n",
    "import matplotlib.pyplot as plt"
   ]
  },
  {
   "cell_type": "code",
   "execution_count": 11,
   "metadata": {},
   "outputs": [],
   "source": [
    "bc = datasets.load_breast_cancer()\n",
    "X, y = bc.data, bc.target\n",
    "\n",
    "\n",
    "X_train, X_test, y_train, y_test = train_test_split(X, y, test_size = 0.2, random_state = 1234)"
   ]
  },
  {
   "cell_type": "code",
   "execution_count": 14,
   "metadata": {},
   "outputs": [],
   "source": [
    "def accuracy(y_true, y_pred):\n",
    "    accuracy = np.sum(y_true == y_pred)/len(y_true)\n",
    "    return accuracy"
   ]
  },
  {
   "cell_type": "code",
   "execution_count": 15,
   "metadata": {},
   "outputs": [
    {
     "name": "stderr",
     "output_type": "stream",
     "text": [
      "/Users/jvsingh/anaconda3/lib/python3.7/site-packages/ipykernel_launcher.py:31: RuntimeWarning: overflow encountered in exp\n"
     ]
    },
    {
     "name": "stdout",
     "output_type": "stream",
     "text": [
      "regressor.weights: [ 1.35240354e+02 -8.21283483e+01  5.83984779e+02  8.79782379e+01\n",
      " -3.33619347e-01 -6.73126056e+00 -1.08114107e+01 -4.23428640e+00\n",
      " -1.02263340e-01  2.66907015e-01  2.32474488e+00 -1.85712901e+00\n",
      " -2.38926407e+01 -1.98806108e+02 -1.43291354e-01 -1.76920140e+00\n",
      " -2.34158341e+00 -5.38917046e-01 -1.17972744e-01 -1.46685485e-01\n",
      "  1.42840049e+02 -2.17373737e+02  3.64795286e+02 -1.56221029e+02\n",
      " -1.50025544e+00 -2.43298231e+01 -3.13947815e+01 -8.12155457e+00\n",
      " -2.99758860e+00 -1.61352362e+00], bias 17.903900011155166\n",
      "accuracy:0.8989010989010989\n"
     ]
    }
   ],
   "source": [
    "\n",
    "regressor = LogisticRegression()\n",
    "regressor.fit(X_train, y_train)\n",
    "print(f\"regressor.weights: {regressor.weights}, bias {regressor.bias}\")\n",
    "predictions= regressor.predict(X_train)\n",
    "print(f\"accuracy:{accuracy(y_train, predictions)}\")"
   ]
  },
  {
   "cell_type": "code",
   "execution_count": null,
   "metadata": {},
   "outputs": [],
   "source": []
  }
 ],
 "metadata": {
  "kernelspec": {
   "display_name": "Python 3",
   "language": "python",
   "name": "python3"
  },
  "language_info": {
   "codemirror_mode": {
    "name": "ipython",
    "version": 3
   },
   "file_extension": ".py",
   "mimetype": "text/x-python",
   "name": "python",
   "nbconvert_exporter": "python",
   "pygments_lexer": "ipython3",
   "version": "3.7.9"
  }
 },
 "nbformat": 4,
 "nbformat_minor": 2
}
