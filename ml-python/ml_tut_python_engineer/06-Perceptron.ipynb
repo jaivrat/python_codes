{
 "cells": [
  {
   "cell_type": "markdown",
   "metadata": {},
   "source": [
    "### Perceptron in Python - Machine Learning From Scratch 06\n",
    "\n",
    "https://www.youtube.com/watch?v=t2ym2a3pb_Y\n",
    "\n",
    "<img src=\"images/perceptron.png\">"
   ]
  },
  {
   "cell_type": "markdown",
   "metadata": {},
   "source": [
    "#### Linear model\n",
    "\n",
    "$f(w,b) = w^T + b$\n",
    "\n",
    "\n",
    "#### Activation Function\n",
    "\n",
    "Unit Step function\n",
    "\n",
    "$$\n",
    "\\begin{equation}\n",
    "g(z) =\n",
    "\\begin{cases}\n",
    "  1, & \\text{if }\n",
    "       \\begin{aligned}[t]\n",
    "       z& >= 0\n",
    "       \\end{aligned}\n",
    "\\\\\n",
    "  0, & \\text{otherwise}\n",
    "\\end{cases}\n",
    "\\end{equation}\n",
    "$$\n",
    "<img src=\"images/step.png\">\n",
    "\n",
    "#### Approximation\n",
    "\n",
    "$\\hat y = g(f(w,b)) = g(w^Tx + b)$\n",
    "\n",
    "\n",
    "#### Perceptron update rule\n",
    "for each training sample $x_i$ :\n",
    "\n",
    "$w = w + \\Delta w$\n",
    "\n",
    "$\\Delta w = \\alpha \\cdot (y_i - \\hat y_i)$\n",
    "\n",
    "$\\alpha$ : learning rate in $(0,1)$\n",
    "\n",
    "\n"
   ]
  },
  {
   "cell_type": "markdown",
   "metadata": {},
   "source": [
    "\n",
    "#### When I derive - I get completely different weights (though proportional)\n",
    "\n",
    "$\n",
    " cost = J = (1/m) \\cdot \\sum_k^m -y_k log(\\hat y_k) - (1-y_k) log(1- \\hat y_k)\n",
    "$\n",
    "\n",
    "$\n",
    "\\begin{align}\n",
    "    \\frac{\\partial J}{\\partial w_i} \n",
    "      & = (1/m) \\cdot \\sum_{k=1}^m - \\frac{y_k }{\\hat y_k} \\frac{\\partial \\hat y_k}{\\partial w_i}\n",
    "      + \\frac{1 - y_k }{1 - \\hat y_k} \\frac{\\partial \\hat y_k}{\\partial w_i} \\\\\n",
    "      & = (1/m) \\cdot\\sum_{k=1}^m \\left( - \\frac{y_k }{\\hat y_k} \n",
    "      + \\frac{1 - y_k }{1 - \\hat y_k} \\right) \\frac{\\partial \\hat y_k}{\\partial w_i} \\\\\n",
    "      & = (1/m) \\cdot\\sum_{k=1}^m \\left(  \\frac{\\hat y_k  - y_k}{\\hat y_k(1- \\hat y_k)} \n",
    "       \\right) \\frac{\\partial \\hat y_k}{\\partial w_i} \n",
    "\\end{align}\n",
    "$\n",
    "\n",
    "similar should be\n",
    "\n",
    "$\n",
    "\\begin{align}\n",
    "\\frac{\\partial J}{\\partial b} & = (1/m) \\cdot\\sum_{k=1}^m \\left(  \\frac{\\hat y_k  - y_k}{\\hat y_k (1- \\hat y_k)} \n",
    "       \\right) \\frac{\\partial \\hat y_k}{\\partial b} \n",
    "\\end{align}\n",
    "$\n",
    "\n",
    "where $\\hat y = g(f(w,b)) = g(w^Tx + b)$\n",
    "\n",
    "$\n",
    "\\begin{align}\n",
    "    \\frac{\\partial \\hat y_k}{\\partial w_i} & = \\frac{\\partial \\hat y_k}{\\partial f}\\frac{\\partial  f}{\\partial w_i}\n",
    "\\end{align}\n",
    "$\n",
    "\n",
    "and\n",
    "\n",
    "$\n",
    "\\begin{align}\n",
    "    \\frac{\\partial \\hat y_k}{\\partial b} & = \\frac{\\partial \\hat y_k}{\\partial f}\\frac{\\partial  f}{\\partial b}\n",
    "\\end{align}\n",
    "$\n",
    "\n",
    "\n",
    "\n"
   ]
  },
  {
   "cell_type": "markdown",
   "metadata": {},
   "source": [
    "\n",
    "**In case of step activation function:**\n",
    "\n",
    "$\\begin{align} \\frac{\\partial \\hat y_k}{\\partial f} = 1 \\end{align}$\n",
    "\n",
    "\n",
    "$\n",
    "\\implies \n",
    "\\begin{align}\n",
    "    \\frac{\\partial \\hat y_k}{\\partial w_i} & = 1 \\cdot \\frac{\\partial  f}{\\partial w_i} &= x_i\\\\\n",
    "    \\frac{\\partial \\hat y_k}{\\partial b} & = 1 \\cdot \\frac{\\partial  f}{\\partial b} &= 1\n",
    "\\end{align}\n",
    "$\n",
    "\n",
    "\n",
    "$\n",
    "\\begin{align}\n",
    "\\frac{\\partial J}{\\partial w_i} & =  (1/m) \\cdot\\sum_{k=1}^m \\left(  \\frac{\\hat y_k  - y_k}{\\hat y_k(1- \\hat y_k)} \\right) \\frac{\\partial \\hat y_k}{\\partial w_i} \n",
    "& =  (1/m) \\cdot\\sum_{k=1}^m \\left(  \\frac{\\hat y_k  - y_k}{\\hat y_k(1- \\hat y_k)} \\right) x_i\n",
    "\\end{align}\n",
    "$ \n",
    "\n",
    "$\n",
    "\\begin{align}\n",
    "\\frac{\\partial J}{\\partial b} & =  (1/m) \\cdot\\sum_{k=1}^m \\left(  \\frac{\\hat y_k  - y_k}{\\hat y_k(1- \\hat y_k)} \\right) \\frac{\\partial \\hat y_k}{\\partial b} \n",
    "& =  (1/m) \\cdot\\sum_{k=1}^m \\left(  \\frac{\\hat y_k  - y_k}{\\hat y_k(1- \\hat y_k)} \\right) \\cdot 1\n",
    "\\end{align}\n",
    "$    \n",
    "\n",
    "But note that this does not hold when activation is  unit step function, because makes denominators 0 when $\\hat y_k = y_k$."
   ]
  },
  {
   "cell_type": "markdown",
   "metadata": {},
   "source": [
    "\n",
    "**In case of sigmoid activation function:**\n",
    "\n",
    "\n",
    "$\\hat y =  g(f) = \\sigma(f) = \\frac{1}{1+e^{-f}}$ \n",
    "\n",
    "$\\begin{align} \\frac{\\partial \\hat y_k}{\\partial f} = \\sigma(f) \\cdot ( 1- \\sigma(f)) \\end{align} $\n",
    "\n",
    "\n",
    "\n",
    "\n",
    "$\n",
    "\\implies \n",
    "\\begin{align}\n",
    "    \\frac{\\partial \\hat y_k}{\\partial w_i} & = \\frac{\\partial \\hat y_k}{\\partial f} \\cdot \\frac{\\partial  f}{\\partial w_i} &=  \\sigma(f) \\cdot ( 1- \\sigma(f)) \\cdot x_i\\\\\n",
    "    \\frac{\\partial \\hat y_k}{\\partial b} & = \\frac{\\partial \\hat y_k}{\\partial f} \\cdot \\frac{\\partial  f}{\\partial b} &=  \\sigma(f) \\cdot ( 1- \\sigma(f)) \\cdot 1\n",
    "\\end{align}\n",
    "$\n",
    "\n",
    "\n",
    "$\n",
    "\\begin{align}\n",
    "    \\frac{\\partial J}{\\partial w_i} \n",
    "      & = (1/m) \\cdot\\sum_{k=1}^m \\left(  \\frac{\\hat y_k  - y_k}{\\hat y_k(1- \\hat y_k)} \n",
    "       \\right) \\frac{\\partial \\hat y_k}{\\partial w_i} \n",
    "      & = (1/m) \\cdot\\sum_{k=1}^m \\left(  \\frac{\\hat y_k  - y_k}{\\hat y_k(1- \\hat y_k)} \n",
    "       \\right) \\sigma(f) \\cdot ( 1- \\sigma(f))\n",
    "\\end{align}\n",
    "$\n",
    "\n",
    "\n",
    "$\n",
    "\\begin{align}\n",
    "    \\frac{\\partial J}{\\partial b} \n",
    "      & = (1/m) \\cdot\\sum_{k=1}^m \\left(  \\frac{\\hat y_k  - y_k}{\\hat y_k(1- \\hat y_k)} \n",
    "       \\right) \\frac{\\partial \\hat y_k}{\\partial b} \n",
    "      & = (1/m) \\cdot\\sum_{k=1}^m \\left(  \\frac{\\hat y_k  - y_k}{\\hat y_k(1- \\hat y_k)} \n",
    "       \\right) \\sigma(f) \\cdot ( 1- \\sigma(f)) \\cdot x_i\n",
    "\\end{align}\n",
    "$\n"
   ]
  },
  {
   "cell_type": "code",
   "execution_count": 1,
   "metadata": {},
   "outputs": [],
   "source": [
    "import numpy as np\n",
    "\n",
    "\n",
    "class Perceptron:\n",
    "    def __init__(self, learning_rate = 0.01, n_iters = 1000):\n",
    "        self.lr = learning_rate\n",
    "        self.n_iters = n_iters\n",
    "        self.activation_func =self._unit_step_func\n",
    "        self.weights = None\n",
    "        self.bias = None\n",
    "        \n",
    "        \n",
    "    # it works for one samle as well as multiple sample\n",
    "    def _unit_step_func(self, x):\n",
    "        return np.where(x >= 0, 1, 0)\n",
    "    \n",
    "    def fit(self, X, y):\n",
    "        # X is ndarray n x m\n",
    "        n_samples, n_features = X.shape\n",
    "        # init weights\n",
    "        self.weights = np.zeros(n_features)\n",
    "        self.bias = 0.0\n",
    "        \n",
    "        # y should be only 0/1\n",
    "        y_ = [1 if i > 0 else 0 for i in y]\n",
    "        \n",
    "        for _ in range(self.n_iters):\n",
    "            for idx, x_i in enumerate(X):\n",
    "                linear_output = np.dot(x_i, self.weights) + self.bias\n",
    "                y_predicted = self.activation_func(linear_output)\n",
    "                update = self.lr * ( y[idx] - y_predicted)\n",
    "                self.weights += update * x_i\n",
    "                self.bias += update\n",
    "        pass\n",
    "    \n",
    "    def predict(self, X):\n",
    "        linear_output = np.dot(X, self.weights) + self.bias\n",
    "        # activation\n",
    "        y_pred = self.activation_func(linear_output)\n",
    "        return y_pred\n",
    "    \n",
    "    \n",
    "        "
   ]
  },
  {
   "cell_type": "code",
   "execution_count": 2,
   "metadata": {},
   "outputs": [],
   "source": [
    "#### Let us test\n",
    "from sklearn.model_selection import train_test_split\n",
    "from sklearn import datasets\n",
    "\n",
    "def accuracy(y_true, y_pred):\n",
    "    accuracy = np.sum(y_true == y_pred) / len(y_true)\n",
    "    return accuracy\n",
    "\n",
    "X, y = datasets.make_blobs(n_samples=150,\n",
    "                           n_features=2,\n",
    "                           centers=2,\n",
    "                           cluster_std=1.05,random_state=2)\n",
    "X_train, X_test, y_train, y_test = train_test_split(X, y, test_size=0.2, random_state=123)\n"
   ]
  },
  {
   "cell_type": "code",
   "execution_count": 3,
   "metadata": {},
   "outputs": [],
   "source": [
    "p = Perceptron(learning_rate=0.001, n_iters=1000)\n",
    "p.fit(X_train, y_train)\n",
    "predictions = p.predict(X_test)"
   ]
  },
  {
   "cell_type": "code",
   "execution_count": 4,
   "metadata": {},
   "outputs": [
    {
     "name": "stdout",
     "output_type": "stream",
     "text": [
      "Perceptron classification accuracy 1.0\n"
     ]
    }
   ],
   "source": [
    "print(\"Perceptron classification accuracy\", accuracy(y_test, predictions))\n"
   ]
  },
  {
   "cell_type": "code",
   "execution_count": 5,
   "metadata": {},
   "outputs": [
    {
     "data": {
      "image/png": "[encoded data removed]",
      "text/plain": [
       "<Figure size 432x288 with 1 Axes>"
      ]
     },
     "metadata": {
      "needs_background": "light"
     },
     "output_type": "display_data"
    }
   ],
   "source": [
    "import matplotlib.pyplot as plt\n",
    "fig = plt.figure()\n",
    "ax = fig.add_subplot(1,1,1)\n",
    "plt.scatter(X_train[:,0], X_train[:,1],marker='o',c=y_train)\n",
    "\n",
    "x0_1 = np.amin(X_train[:,0])\n",
    "x0_2 = np.amax(X_train[:,0])\n",
    "\n",
    "x1_1 = (-p.weights[0] * x0_1 - p.bias) / p.weights[1]\n",
    "x1_2 = (-p.weights[0] * x0_2 - p.bias) / p.weights[1]\n",
    "\n",
    "\n",
    "ax.plot([x0_1, x0_2],[x1_1, x1_2], 'k')\n",
    "\n",
    "ymin = np.amin(X_train[:,1])\n",
    "ymax = np.amax(X_train[:,1])\n",
    "ax.set_ylim([ymin-3,ymax+3])\n",
    "\n",
    "plt.show()"
   ]
  },
  {
   "cell_type": "code",
   "execution_count": 6,
   "metadata": {},
   "outputs": [],
   "source": [
    "class MyPerceptron:\n",
    "    def __init__(self, learning_rate = 0.01, n_iters = 1000):\n",
    "        self.lr = learning_rate\n",
    "        self.n_iters = n_iters\n",
    "        self.activation_func =self._sigmoid_func\n",
    "        self.weights = None\n",
    "        self.bias = None\n",
    "        \n",
    "    # gives sigmoid value of all in one go\n",
    "    def _sigmoid_func(self, x):\n",
    "        #print(f\"x.shape {x.shape} weights.shape{self.weights.shape}\" )\n",
    "        zs = np.dot(x, self.weights) + self.bias\n",
    "        #print(f\"zs.shape {zs.shape}\" )\n",
    "        sig = 1/(1+np.exp(-zs))\n",
    "        return sig\n",
    "    \n",
    "    def fit(self, X, y):\n",
    "        # X is ndarray n x m\n",
    "        n_samples, n_features = X.shape\n",
    "        # init weights\n",
    "        self.weights = np.zeros(n_features)\n",
    "        self.bias = 0.0\n",
    "        \n",
    "        # y should be only 0/1\n",
    "        y_ = [1 if i > 0 else 0 for i in y]\n",
    "        #print(\"Info : self.n_iters = 1\")\n",
    "        for _ in range(self.n_iters):\n",
    "            # all predictions\n",
    "            y_hat = self.activation_func(X)\n",
    "            sig = self._sigmoid_func(X)\n",
    "            vect = (((y_hat - y_)/y_hat)/(1.0-y_hat)) * sig * (1 - sig)\n",
    "            res_w = np.dot(X.T, vect)\n",
    "            #print(f\"y_hat.shape:{y_hat.shape} sig:{sig.shape} \\\n",
    "            #        vect:{vect.shape} res_w.shape{res_w.shape} \\\n",
    "            #        \")\n",
    "            res_b = np.sum(vect)\n",
    "            self.weights = self.weights - res_w * self.lr \n",
    "            self.bias = self.bias - res_b * self.lr \n",
    "            #self.bias += update\n",
    "            \n",
    "    def predict(self, X):\n",
    "        y_pred = self.activation_func(X)\n",
    "        return np.where(y_pred >= 0.5, 1, 0)"
   ]
  },
  {
   "cell_type": "code",
   "execution_count": 7,
   "metadata": {},
   "outputs": [
    {
     "name": "stdout",
     "output_type": "stream",
     "text": [
      "Perceptron classification accuracy 1.0\n"
     ]
    }
   ],
   "source": [
    "myp = MyPerceptron(learning_rate=0.01, n_iters=1000)\n",
    "myp.fit(X_train, y_train)\n",
    "mypercep_predict_test = myp.predict(X_test)\n",
    "print(\"Perceptron classification accuracy\", accuracy(y_test, mypercep_predict_test))\n",
    "\n",
    "#myp._sigmoid_func(X_train)"
   ]
  },
  {
   "cell_type": "code",
   "execution_count": 8,
   "metadata": {},
   "outputs": [],
   "source": [
    "#### Let me check accuracy with iterations\n",
    "\n",
    "iters = range(1, 1000, 5)\n",
    "accuracies = []\n",
    "for it in iters:\n",
    "    myp = MyPerceptron(learning_rate=0.001, n_iters=it)\n",
    "    myp.fit(X_train, y_train)\n",
    "    mypercep_predict_test = myp.predict(X_test)\n",
    "    acc = accuracy(y_test, mypercep_predict_test)\n",
    "    accuracies.append(acc)\n",
    "    #print(\"Perceptron classification accuracy\", accuracy(y_test, mypercep_predict_test))"
   ]
  },
  {
   "cell_type": "code",
   "execution_count": 9,
   "metadata": {},
   "outputs": [
    {
     "data": {
      "text/plain": [
       "[<matplotlib.lines.Line2D at 0x7f8402763910>]"
      ]
     },
     "execution_count": 9,
     "metadata": {},
     "output_type": "execute_result"
    },
    {
     "data": {
      "image/png": "[encoded data removed]",
      "text/plain": [
       "<Figure size 432x288 with 1 Axes>"
      ]
     },
     "metadata": {
      "needs_background": "light"
     },
     "output_type": "display_data"
    }
   ],
   "source": [
    "import matplotlib.pyplot as plt\n",
    "fig = plt.figure()\n",
    "ax = fig.add_subplot(1,1,1)\n",
    "plt.plot(iters, accuracies)\n"
   ]
  },
  {
   "cell_type": "markdown",
   "metadata": {},
   "source": [
    "#### Step function update rule - which was not mentioned in video - is here (found in stackexchange)\n",
    "\n",
    "https://stats.stackexchange.com/questions/138229/from-the-perceptron-rule-to-gradient-descent-how-are-perceptrons-with-a-sigmoid\n",
    "\n",
    "$ J(w) = \\sum_i (y_i - \\hat y_i)^2$\n",
    "\n",
    "$ \\implies\n",
    "\\begin{align}\n",
    "\\frac{\\partial J }{\\partial w_k} & = 2 \\sum_i (y_i - \\hat y_i) \\frac{\\partial \\hat y_i}{\\partial w_k} & = -2 \\sum (y_i - \\hat y_i) x_k\\\\\n",
    "\\frac{\\partial J }{\\partial b} & = 2 \\sum_i (y_i - \\hat y_i) \\frac{\\partial \\hat y_i}{\\partial b} & = -2 \\sum (y_i - \\hat y_i) \\cdot 1\n",
    "\\end{align}\n",
    "$\n",
    "\n",
    "Therefore update rule \n",
    "\n",
    "$w_k = w_k - \\Delta w_k = w_k  - (-\\eta \\sum_i (y_i - \\hat y_i) x_k) = w_k  +\\eta \\sum_i (y_i - \\hat y_i) x_k$\n",
    "\n",
    "and\n",
    "\n",
    "$b = b - \\Delta b = b - (-\\eta \\sum_i (y_i - \\hat y_i) ) = b +\\eta \\sum_i (y_i - \\hat y_i) $\n"
   ]
  },
  {
   "cell_type": "code",
   "execution_count": null,
   "metadata": {},
   "outputs": [],
   "source": []
  }
 ],
 "metadata": {
  "kernelspec": {
   "display_name": "Python 3",
   "language": "python",
   "name": "python3"
  },
  "language_info": {
   "codemirror_mode": {
    "name": "ipython",
    "version": 3
   },
   "file_extension": ".py",
   "mimetype": "text/x-python",
   "name": "python",
   "nbconvert_exporter": "python",
   "pygments_lexer": "ipython3",
   "version": "3.7.9"
  }
 },
 "nbformat": 4,
 "nbformat_minor": 4
}
