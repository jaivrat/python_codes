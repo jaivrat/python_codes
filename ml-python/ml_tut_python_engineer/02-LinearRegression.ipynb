{
 "cells": [
  {
   "cell_type": "markdown",
   "metadata": {},
   "source": [
    "## Linear Regression in Python - Machine Learning From Scratch 02 - Python Tutorial\n",
    "https://www.youtube.com/watch?v=4swNt7PiamQ\n",
    "\n",
    "#### Approximation\n",
    "$\\hat y = wx + b$\n",
    "\n",
    "#### Cost function\n",
    "\n",
    "$MSE = J(w,b) = \\frac{1}{N} \\sum (y_i - (w x_i + b))^2 $\n",
    "\n",
    "$\n",
    "\\begin{align}\n",
    " J'(m,b)  =   \\begin{bmatrix}\n",
    "                  \\frac{df}{dw}\\\\\n",
    "                  \\frac{df}{dw}\n",
    "             \\end{bmatrix}\n",
    "          = \\begin{bmatrix}\n",
    "               \\frac{1}{N} \\sum -2x_i(y_i - (wx_i + b))\\\\\n",
    "               \\frac{1}{N} \\sum -2(y_i - (wx_i + b))\n",
    "             \\end{bmatrix}\n",
    "\\end{align}\n",
    "$\n",
    "\n",
    "##### Update rules\n",
    "\n",
    "$w = w - \\alpha * dw$\n",
    "$b = b - \\alpha * db$\n",
    "\n",
    "$dw$ is symbolic notatiob for $\\frac{dJ}{dw}$, and $db$ for  $\\frac{dJ}{db}$\n",
    "\n"
   ]
  },
  {
   "cell_type": "code",
   "execution_count": 1,
   "metadata": {},
   "outputs": [],
   "source": [
    "class Linear():\n",
    "    def __init__(self, lr=0.1, n_iters = 10000):\n",
    "        self.lr = lr\n",
    "        self.n_iters = n_iters\n",
    "        self.weights = None\n",
    "        self.bias = None\n",
    "\n",
    "    def fit(self, X, y):\n",
    "        # we implemet gradient descent method\n",
    "        # 1. Init parametrs\n",
    "        n_samples, n_features = X.shape\n",
    "        self.weights = np.zeros(n_features)\n",
    "        self.bias = 0\n",
    "        for _ in range(self.n_iters):\n",
    "            #firs we calculate gdariets, ie J\n",
    "            y_predicted = np.dot(X, self.weights) + self.bias\n",
    "            dw = (1.0/n_samples) * (-2 ) * np.dot(X.T, y - y_predicted)\n",
    "            db = (1.0/n_samples) * (-2 ) * np.sum(y - y_predicted)\n",
    "            self.weights = self.weights - self.lr * dw\n",
    "            self.bias = self.bias - self.lr * db\n",
    "\n",
    "    def predict(self, X):\n",
    "        y_predicted = np.dot(X, self.weights) + self.bias\n",
    "        return y_predicted\n",
    "\n",
    "\n",
    "\n",
    "\n",
    "def mse(y_true, y_predicted):\n",
    "    return np.mean((y_true - y_predicted)**2)"
   ]
  },
  {
   "cell_type": "code",
   "execution_count": 2,
   "metadata": {},
   "outputs": [],
   "source": [
    "import numpy as np\n",
    "import sklearn\n",
    "from sklearn.model_selection import train_test_split\n",
    "from sklearn import datasets\n"
   ]
  },
  {
   "cell_type": "code",
   "execution_count": 3,
   "metadata": {},
   "outputs": [],
   "source": [
    "X, y  = datasets.make_regression(n_samples = 100, n_features = 1, noise = 20, random_state=4)"
   ]
  },
  {
   "cell_type": "code",
   "execution_count": 4,
   "metadata": {},
   "outputs": [],
   "source": [
    "X_train, X_test, y_train, y_test = train_test_split(X, y, test_size = 0.2, random_state = 1234)"
   ]
  },
  {
   "cell_type": "code",
   "execution_count": 5,
   "metadata": {},
   "outputs": [
    {
     "name": "stdout",
     "output_type": "stream",
     "text": [
      "(80, 1)\n",
      "(80,)\n"
     ]
    }
   ],
   "source": [
    "print(X_train.shape)\n",
    "print(y_train.shape)"
   ]
  },
  {
   "cell_type": "code",
   "execution_count": 6,
   "metadata": {},
   "outputs": [
    {
     "name": "stdout",
     "output_type": "stream",
     "text": [
      "regressor.weights: [75.05935146], bias -0.14241608558826233\n",
      "mse:286.38301931945614\n"
     ]
    }
   ],
   "source": [
    "regressor = Linear()\n",
    "regressor.fit(X_train, y_train)\n",
    "print(f\"regressor.weights: {regressor.weights}, bias {regressor.bias}\")\n",
    "y_predicted= regressor.predict(X_train)\n",
    "print(f\"mse:{mse(y_train, y_predicted)}\")"
   ]
  },
  {
   "cell_type": "code",
   "execution_count": 7,
   "metadata": {},
   "outputs": [
    {
     "data": {
      "image/png": "[encoded data removed]",
      "text/plain": [
       "<Figure size 576x432 with 1 Axes>"
      ]
     },
     "metadata": {
      "needs_background": "light"
     },
     "output_type": "display_data"
    }
   ],
   "source": [
    "%matplotlib inline \n",
    "import matplotlib.pyplot as plt\n",
    "\n",
    "\n",
    "y_pred_line  = regressor.predict(X)\n",
    "#cmap = plt.get('viridis')\n",
    "fig = plt.figure(figsize = (8,6))\n",
    "m1 = plt.scatter(X_train, y_train, s = 10)\n",
    "m2 = plt.scatter(X_test, y_test, s = 10)\n",
    "plt.plot(X, y_pred_line, color = 'black', linewidth = 2, label=\"Prediction\")\n",
    "plt.show()"
   ]
  },
  {
   "cell_type": "code",
   "execution_count": null,
   "metadata": {},
   "outputs": [],
   "source": []
  },
  {
   "cell_type": "code",
   "execution_count": null,
   "metadata": {},
   "outputs": [],
   "source": []
  }
 ],
 "metadata": {
  "kernelspec": {
   "display_name": "Python 3",
   "language": "python",
   "name": "python3"
  },
  "language_info": {
   "codemirror_mode": {
    "name": "ipython",
    "version": 3
   },
   "file_extension": ".py",
   "mimetype": "text/x-python",
   "name": "python",
   "nbconvert_exporter": "python",
   "pygments_lexer": "ipython3",
   "version": "3.7.9"
  }
 },
 "nbformat": 4,
 "nbformat_minor": 2
}
