{
 "cells": [
  {
   "cell_type": "markdown",
   "metadata": {},
   "source": [
    "Export data from a microdost sql database to cvs, excel, and txt."
   ]
  },
  {
   "cell_type": "code",
   "execution_count": 1,
   "metadata": {
    "collapsed": true
   },
   "outputs": [],
   "source": [
    "# Import libraries\n",
    "import pandas as pd\n",
    "import sys\n",
    "from sqlalchemy import create_engine, MetaData, Table, select"
   ]
  },
  {
   "cell_type": "code",
   "execution_count": 2,
   "metadata": {
    "collapsed": false
   },
   "outputs": [
    {
     "name": "stdout",
     "output_type": "stream",
     "text": [
      "Python version 2.7.13 |Anaconda custom (64-bit)| (default, Dec 20 2016, 23:05:08) \n",
      "[GCC 4.2.1 Compatible Apple LLVM 6.0 (clang-600.0.57)]\n",
      "Pandas version 0.20.3\n"
     ]
    }
   ],
   "source": [
    "print('Python version ' + sys.version)\n",
    "print('Pandas version ' + pd.__version__)"
   ]
  },
  {
   "cell_type": "markdown",
   "metadata": {},
   "source": [
    "### Grab Data from SQL\n",
    "\n",
    "In this section we use the sqlalchemy library to grab data from a sql database. Note that the parameter section will need to be modified."
   ]
  },
  {
   "cell_type": "code",
   "execution_count": null,
   "metadata": {
    "collapsed": true
   },
   "outputs": [],
   "source": [
    "# Parameters\n",
    "TableName = \"data\"\n",
    "\n",
    "DB = {\n",
    "    'drivername': 'mssql+pyodbc',\n",
    "    'servername': 'DAVID-THINK',\n",
    "    #'port': '5432',\n",
    "    #'username': 'lynn',\n",
    "    #'password': '',\n",
    "    'database': 'BizIntel',\n",
    "    'driver': 'SQL Server Native Client 11.0',\n",
    "    'trusted_connection': 'yes',  \n",
    "    'legacy_schema_aliasing': False\n",
    "}\n",
    "\n",
    "# Create the connection\n",
    "engine = create_engine(DB['drivername'] + '://' + DB['servername'] + '/' + DB['database'] + '?' + 'driver=' + DB['driver'] + ';' + 'trusted_connection=' + DB['trusted_connection'], legacy_schema_aliasing=DB['legacy_schema_aliasing'])\n",
    "conn = engine.connect()\n",
    "\n",
    "# Required for querying tables\n",
    "metadata = MetaData(conn)\n",
    "\n",
    "# Table to query\n",
    "tbl = Table(TableName, metadata, autoload=True, schema=\"dbo\")\n",
    "#tbl.create(checkfirst=True)\n",
    "\n",
    "# Select all\n",
    "sql = tbl.select()\n",
    "\n",
    "# run sql code\n",
    "result = conn.execute(sql)\n",
    "\n",
    "# Insert to a dataframe\n",
    "df = pd.DataFrame(data=list(result), columns=result.keys())\n",
    "\n",
    "# Close connection\n",
    "conn.close()\n",
    "\n",
    "print('Done')"
   ]
  },
  {
   "cell_type": "markdown",
   "metadata": {},
   "source": [
    "All the files below will be saved to the same folder the notebook resides in."
   ]
  },
  {
   "cell_type": "code",
   "execution_count": null,
   "metadata": {
    "collapsed": true
   },
   "outputs": [],
   "source": [
    "#Export to CSV\n",
    "df.to_csv('DimDate.csv', index=False)\n",
    "print('Done')"
   ]
  },
  {
   "cell_type": "code",
   "execution_count": null,
   "metadata": {
    "collapsed": true
   },
   "outputs": [],
   "source": [
    "#Export to EXCEL\n",
    "df.to_excel('DimDate.xls', index=False)\n",
    "print('Done')"
   ]
  },
  {
   "cell_type": "code",
   "execution_count": null,
   "metadata": {
    "collapsed": true
   },
   "outputs": [],
   "source": [
    "#Export to TXT\n",
    "df.to_csv('DimDate.txt', index=False)\n",
    "print('Done')"
   ]
  }
 ],
 "metadata": {
  "kernelspec": {
   "display_name": "Python 2",
   "language": "python",
   "name": "python2"
  },
  "language_info": {
   "codemirror_mode": {
    "name": "ipython",
    "version": 2
   },
   "file_extension": ".py",
   "mimetype": "text/x-python",
   "name": "python",
   "nbconvert_exporter": "python",
   "pygments_lexer": "ipython2",
   "version": "2.7.13"
  }
 },
 "nbformat": 4,
 "nbformat_minor": 2
}
