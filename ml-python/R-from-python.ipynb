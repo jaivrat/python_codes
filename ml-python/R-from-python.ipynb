{
 "cells": [
  {
   "cell_type": "code",
   "execution_count": null,
   "id": "f40cf5e8-5119-4bad-b07d-b63ae96a246e",
   "metadata": {},
   "outputs": [],
   "source": [
    "import rpy2\n",
    "import rpy2.robjects as robjects\n",
    "from rpy2.robjects.packages import importr, data"
   ]
  },
  {
   "cell_type": "code",
   "execution_count": null,
   "id": "91252d24-538a-4857-88ef-78256acb3755",
   "metadata": {},
   "outputs": [],
   "source": [
    "dlm = importr('dlm')"
   ]
  },
  {
   "cell_type": "markdown",
   "id": "c86a55bb-55d4-460c-8c24-8821dab3eb61",
   "metadata": {},
   "source": [
    "R Code\n",
    "```R\n",
    "rw <- dlm(m0 = 0, C0 = 10, FF = 1, V = 1.4, GG = 1, W = 0.2)\n",
    "```"
   ]
  },
  {
   "cell_type": "code",
   "execution_count": null,
   "id": "70d70096-a7a2-45aa-9a82-019436cda825",
   "metadata": {},
   "outputs": [],
   "source": [
    "rw  = dlm.dlm(m0 = 0, C0 = 10, FF = 1, V = 1.4, GG = 1, W = 0.2)"
   ]
  },
  {
   "cell_type": "code",
   "execution_count": null,
   "id": "036fa914-ee36-4b48-9824-d35afaa3f2d1",
   "metadata": {},
   "outputs": [],
   "source": [
    "rw"
   ]
  },
  {
   "cell_type": "code",
   "execution_count": null,
   "id": "73dad644-9a99-4bc3-8a46-400e7d4d2f68",
   "metadata": {},
   "outputs": [],
   "source": [
    "rw[0]"
   ]
  },
  {
   "cell_type": "code",
   "execution_count": null,
   "id": "202d4cb1-0819-4288-9035-c8bf274d3b22",
   "metadata": {},
   "outputs": [],
   "source": [
    "rw.rx2('m0')"
   ]
  },
  {
   "cell_type": "code",
   "execution_count": null,
   "id": "e3ea6309-9df4-41de-965b-ac22c541a2ad",
   "metadata": {},
   "outputs": [],
   "source": [
    "rw[1]"
   ]
  },
  {
   "cell_type": "code",
   "execution_count": null,
   "id": "3ee88563-26f1-4188-9d2f-1c522de3cc8e",
   "metadata": {},
   "outputs": [],
   "source": [
    "rw.rx2('C0')"
   ]
  },
  {
   "cell_type": "code",
   "execution_count": null,
   "id": "d878229c-ce81-4152-95e4-9ae1d485399b",
   "metadata": {},
   "outputs": [],
   "source": [
    "{k:v for k,v in rw.items()}['m0']"
   ]
  },
  {
   "cell_type": "code",
   "execution_count": null,
   "id": "e99a21f8-14d0-44af-85e4-749dd3b2e37f",
   "metadata": {},
   "outputs": [],
   "source": [
    "{k:v for k,v in rw.items()}['C0']"
   ]
  },
  {
   "cell_type": "code",
   "execution_count": null,
   "id": "d855677c-559c-41cd-8e20-8b062a4bef9d",
   "metadata": {},
   "outputs": [],
   "source": [
    "import numpy as np\n",
    "np.matrix(rw.rx2('C0'))"
   ]
  },
  {
   "cell_type": "code",
   "execution_count": null,
   "id": "aea7f8c8-1c22-4a26-963b-9b7e0d20f0ea",
   "metadata": {},
   "outputs": [],
   "source": [
    "rw.rx2('W')"
   ]
  },
  {
   "cell_type": "code",
   "execution_count": null,
   "id": "b157892d-461c-445e-85cc-cdffa182bef3",
   "metadata": {},
   "outputs": [],
   "source": [
    "x = robjects.ListVector({'a': 1, 'b': 2, 'c': 3})"
   ]
  },
  {
   "cell_type": "code",
   "execution_count": null,
   "id": "8a50355f-a154-45bf-9a2e-ce0537f56a8a",
   "metadata": {},
   "outputs": [],
   "source": [
    "print(x)"
   ]
  },
  {
   "cell_type": "code",
   "execution_count": null,
   "id": "166b598d-6b57-4e5a-934e-71d7c49ea07d",
   "metadata": {},
   "outputs": [],
   "source": [
    "x.names.index('b')"
   ]
  },
  {
   "cell_type": "code",
   "execution_count": null,
   "id": "fc74ca5a-d5f4-4022-9414-a88cc38e1f8f",
   "metadata": {},
   "outputs": [],
   "source": [
    "x[x.names.index('b')] = 9"
   ]
  },
  {
   "cell_type": "code",
   "execution_count": null,
   "id": "537f3432-a60e-485a-8bba-6a90c1985fe8",
   "metadata": {},
   "outputs": [],
   "source": [
    "x"
   ]
  },
  {
   "cell_type": "code",
   "execution_count": null,
   "id": "b6c1fa99-b11a-4f91-903f-e9e046ffbeb8",
   "metadata": {},
   "outputs": [],
   "source": [
    "print(x)"
   ]
  },
  {
   "cell_type": "markdown",
   "id": "6da90504-a39e-4ff6-b4e5-44af2221ffb2",
   "metadata": {},
   "source": [
    "R code:\n",
    "\n",
    "```R\n",
    "lg <- dlm(m0 = rep(0,2), \n",
    "          C0 = 10 * diag(2), \n",
    "          FF = matrix(c(1,0),nr=1), \n",
    "          V = 1.4, GG = matrix(c(1,0,1,1),nr=2), \n",
    "          W = diag(c(0,0.2)))\n",
    "```"
   ]
  },
  {
   "cell_type": "code",
   "execution_count": null,
   "id": "20e5015d-3f35-47db-867c-5e96e7dbcfd5",
   "metadata": {},
   "outputs": [],
   "source": [
    "m0 = robjects.r.matrix(robjects.FloatVector([0,0]), nrow=2)\n",
    "C0 =  robjects.r.matrix(robjects.FloatVector(list(10 * np.eye(2).ravel())), nrow=2)\n",
    "FF =  robjects.r.matrix(robjects.FloatVector([1, 0]), nrow=1)\n",
    "GG =  robjects.r.matrix(robjects.FloatVector([1, 0, 1, 1]), nrow=2)\n",
    "W =  robjects.r.matrix(robjects.FloatVector(list(np.diag([0, 0.2]).ravel())), nrow=2)\n",
    "print(W)\n",
    "lg  = dlm.dlm(m0 = m0 , \n",
    "              C0 = C0, \n",
    "              FF = FF, \n",
    "              V = 1.4, \n",
    "              GG = GG, \n",
    "              W = W)"
   ]
  },
  {
   "cell_type": "code",
   "execution_count": null,
   "id": "53bc81c5-2dbd-4344-871f-9063af915a28",
   "metadata": {},
   "outputs": [],
   "source": [
    "print(lg)"
   ]
  },
  {
   "cell_type": "code",
   "execution_count": null,
   "id": "a5a2793e-9a7e-41aa-9c08-91d75406fb2a",
   "metadata": {},
   "outputs": [],
   "source": [
    "print(lg.names)\n",
    "print(lg.names.index(\"W\"))\n",
    "print(lg[lg.names.index(\"W\")])\n",
    "print(lg.rx2('W'))"
   ]
  },
  {
   "cell_type": "markdown",
   "id": "d500b3eb-8194-45e7-b59b-324d96e9df33",
   "metadata": {},
   "source": [
    "### Dynamic regression model\n",
    "\n",
    "$$\n",
    "\\begin{align}\n",
    "Y_t &= \\theta_1 + \\theta_2 x_t + \\epsilon_t\\\\\n",
    "\\begin{bmatrix} \n",
    "    \\theta_1 \\\\ \\theta_2 \\end\n",
    "{bmatrix}_t &=  \\begin{bmatrix}\n",
    "                1 & 0\\\\\n",
    "                0 & 1\n",
    "               \\end{bmatrix} \\begin{bmatrix} \n",
    "                                 \\theta_1 \\\\ \\theta_2\n",
    "                              \\end{bmatrix}_{t-1}   +  \\epsilon  \n",
    "\\end{align}\n",
    "$$\n",
    "\n",
    "```R\n",
    "x <- rnorm(100) # covariates\n",
    "dlr <- dlm(m0 = rep(0,2), \n",
    "           C0 = 10 * diag(2), \n",
    "           FF = matrix(c(1,0),nr=1),\n",
    "           V = 1.3, \n",
    "           GG = diag(2), \n",
    "           W = diag(c(0.4,0.2)),\n",
    "           JFF = matrix(c(0,1),nr=1), \n",
    "           X = as.matrix(x))\n",
    "```"
   ]
  },
  {
   "cell_type": "code",
   "execution_count": null,
   "id": "5c710a72-5159-45b3-8dd4-8f83604739d4",
   "metadata": {},
   "outputs": [],
   "source": [
    "# Time varying x\n",
    "x = np.random.randn(100)\n",
    "m0 = robjects.r.matrix(robjects.FloatVector([0,0]), nrow=2)\n",
    "C0 =  robjects.r.matrix(robjects.FloatVector(list(10 * np.eye(2).ravel())), nrow=2)\n",
    "FF =  robjects.r.matrix(robjects.FloatVector([1, 0]), nrow=1)\n",
    "V = 1.3\n",
    "GG =  robjects.r.matrix(robjects.FloatVector(np.eye(2).ravel()), nrow=2)\n",
    "W =  robjects.r.matrix(robjects.FloatVector(np.diag([0.4, 0.2]).ravel()), nrow = 2)\n",
    "JFF =  robjects.r.matrix(robjects.FloatVector([0, 1]), nrow = 1)\n",
    "X =  robjects.r.matrix(robjects.FloatVector(x), ncol = 1)\n",
    "\n",
    "\n",
    "dlr = dlm.dlm(m0 = m0, \n",
    "           C0 = C0, \n",
    "           FF = FF,\n",
    "           V = V, \n",
    "           GG = GG, \n",
    "           W =W,\n",
    "           JFF = JFF, \n",
    "           X = X)\n"
   ]
  },
  {
   "cell_type": "code",
   "execution_count": null,
   "id": "90c2d9fa-77fb-485a-a21b-74b2a3e5d433",
   "metadata": {},
   "outputs": [],
   "source": [
    "print(dlr)"
   ]
  },
  {
   "cell_type": "code",
   "execution_count": null,
   "id": "a7fbc5fb-21ff-45f1-b8c4-e09f3b62c4d6",
   "metadata": {},
   "outputs": [],
   "source": [
    "# Note we put second elemnt of FF 0 as it is time varying and is set in X\n",
    "# We can see JFF.. match with $X above.. \n",
    "x[0:10]"
   ]
  },
  {
   "cell_type": "markdown",
   "id": "0931f4fb-c822-40f6-8dc6-bc259d42e00c",
   "metadata": {},
   "source": [
    "### R Code\n",
    "\n",
    "```R\n",
    "#-------------------------------------------------------------------------------\n",
    "#Generate some data first - toy example\n",
    "#Kalman filter/dynamic linear model in R\n",
    "#-------------------------------------------------------------------------------\n",
    "rm(list=ls())\n",
    "set.seed(100)\n",
    "df <- data.frame(x1 = sample(seq(from = -1.0, by = 0.01, length.out = 1000), \n",
    "                               size = 1000, replace = FALSE),\n",
    "                 x2 = sample(seq(from = -3.0, by = 0.01, length.out = 1000), \n",
    "                               size = 1000, replace = FALSE))\n",
    "\n",
    "theta1 <- 0.4\n",
    "theta2 <- 1.2\n",
    "y      <- sum(df[1, ] * c(theta1[1], theta2[1])) + rnorm(1, mean = 0, sd = 0.01)\n",
    "\n",
    "for(i in 2:1000)\n",
    "{\n",
    "  theta1 <- c(theta1, theta1[i-1] + rnorm(1, mean = 0, sd = 0.01))\n",
    "  theta2 <- c(theta2, theta2[i-1] + rnorm(1, mean = 0, sd = 0.02))\n",
    "  y      <- c(y, sum(df[i, ] * c(theta1[i], theta2[i])) + rnorm(1, mean = 0, sd = 0.01))\n",
    "}\n",
    "\n",
    "\n",
    "df[[\"y\"]] <- y\n",
    "df[[\"tim\"]] <- 1:length(y)\n",
    "```"
   ]
  },
  {
   "cell_type": "code",
   "execution_count": null,
   "id": "b0fd7094-72df-4a76-9f5f-f3e2826b73d4",
   "metadata": {},
   "outputs": [],
   "source": [
    "import pandas as pd\n",
    "np.random.seed(144)\n",
    "\n",
    "#SIZE = 1000\n",
    "\n",
    "SIZE = 1000\n",
    "\n",
    "\n",
    "# Not exactly above.. but\n",
    "df = pd.DataFrame({\n",
    "              \"x1\": np.random.choice(np.linspace(-1, 1, num=SIZE), size=SIZE, replace=False),\n",
    "              \"x2\": np.random.choice(np.linspace(-3, 3, num=SIZE), size=SIZE, replace=False)\n",
    "             })\n",
    "\n",
    "theta1 = 0.4\n",
    "#theta2 = 1.2\n",
    "\n",
    "theta2 = -0.5\n",
    "\n",
    "# Theta evolution\n",
    "theta_1_shocks = np.random.normal(loc=0.0,\n",
    "                                  scale=0.01,\n",
    "                                  size=df.shape[0]-1)\n",
    "\n",
    "theta_2_shocks = np.random.normal(loc=0.0,\n",
    "                                  scale=0.02,\n",
    "                                  size=df.shape[0]-1)\n",
    "\n",
    "theta_1_shocks = np.insert(theta_1_shocks, 0,0)\n",
    "theta1_s = theta1 + theta_1_shocks.cumsum()\n",
    "theta_2_shocks = np.insert(theta_2_shocks, 0,0)\n",
    "theta2_s = theta2 + theta_2_shocks.cumsum()\n",
    "\n",
    "y_shocks = np.random.normal(loc=0.0, scale=0.01, size=df.shape[0])\n",
    "\n",
    "y = np.apply_along_axis(sum, 1, df[[\"x1\", \"x2\"]] * np.vstack([theta1_s, theta2_s]).T) + y_shocks\n",
    "\n",
    "df[\"y\"] = y\n",
    "df[\"theta1\"] = theta1_s\n",
    "df[\"theta2\"] = theta2_s"
   ]
  },
  {
   "cell_type": "code",
   "execution_count": null,
   "id": "7115df41-dca2-4a08-bac4-7685e49ad4c6",
   "metadata": {},
   "outputs": [],
   "source": [
    "df"
   ]
  },
  {
   "cell_type": "markdown",
   "id": "32a049a4-e0a7-497e-b77d-68b123ccaa0d",
   "metadata": {},
   "source": [
    "##### R Code\n",
    "\n",
    "```R\n",
    "#-------------------------------------------------------------------------------\n",
    "#Learn MLE from first 500\n",
    "#-------------------------------------------------------------------------------\n",
    "\n",
    "buildFn <- function(x)\n",
    "{\n",
    "  ret.mod <- dlm::dlmModReg(X = as.matrix(df[1:500, c(\"x1\", \"x2\")]),\n",
    "                            dV = exp(x[3]), \n",
    "                            dW = exp(x[1:2]), \n",
    "                            addInt = FALSE)\n",
    "  ret.mod\n",
    "}\n",
    "\n",
    "fit <- dlm::dlmMLE( y     = df$y[1:500], \n",
    "                    build = buildFn, \n",
    "                    parm  = log(c(rep(1e2, 2), 1e2)),\n",
    "                    lower = log(rep(1e-5, 3)), \n",
    "                    hessian=TRUE)\n",
    "\n",
    "\n",
    "mod.res <- buildFn(fit$par)\n",
    "avarLog <- solve(fit$hessian)\n",
    "avar <- diag(exp(fit$par)) %*% avarLog %*% diag(exp(fit$par)) # Delta method\n",
    "V(mod.res)\n",
    "W(mod.res)\n",
    "\n",
    "```"
   ]
  },
  {
   "cell_type": "markdown",
   "id": "76975ecf-9635-49af-a289-65ad78f89884",
   "metadata": {},
   "source": [
    "\n",
    "# https://rpy2.github.io/doc/v3.5.x/html/robjects_functions.html\n",
    "\n",
    "Seems much of work to integrate R's dlm from python... let me stop here and look for proper implementation of library\n",
    "found one here:\n",
    "https://brandonwillard.github.io/dynamic-linear-models-in-theano.html\n",
    "\n",
    "-- But let me start working on my old idea :)"
   ]
  },
  {
   "cell_type": "code",
   "execution_count": null,
   "id": "e52bc5b5-0e20-4beb-b96d-2cdcf8e24153",
   "metadata": {},
   "outputs": [],
   "source": [
    "r_func_code = \"\"\"\n",
    "\n",
    "function(x){\n",
    "   c(mean(x), sd(x))\n",
    "}\n",
    "\"\"\"\n",
    "\n",
    "r_func = robjects.r(r_func_code)\n",
    "py_func = robjects.functions.wrap_r_function(r_func, 'py_func')"
   ]
  },
  {
   "cell_type": "code",
   "execution_count": null,
   "id": "82cf9189-b581-4f29-9543-0a0efdb5061b",
   "metadata": {},
   "outputs": [],
   "source": [
    "py_func(robjects.FloatVector([1,2,3]))"
   ]
  },
  {
   "cell_type": "code",
   "execution_count": null,
   "id": "c1bc134e-0c9f-49df-99dd-2687ca25b7e0",
   "metadata": {},
   "outputs": [],
   "source": [
    "# Try decorator/closure kind - \n",
    "r_func_code = \"\"\"\n",
    "function(const){\n",
    "  finternal <- function(x){\n",
    "    c(mean(x) + const, sd(x) + const)\n",
    "  }\n",
    "  finternal\n",
    "}\n",
    "\"\"\"\n",
    "\n",
    "r_func = robjects.r(r_func_code)\n",
    "py_func_g = robjects.functions.wrap_r_function(r_func, 'g')\n"
   ]
  },
  {
   "cell_type": "code",
   "execution_count": null,
   "id": "f6f60717-3d01-4f7b-9794-e4063fd0dd62",
   "metadata": {},
   "outputs": [],
   "source": [
    "# Direct Call\n",
    "print(py_func_g(10)(robjects.FloatVector([1,2,3])))\n",
    "\n",
    "# Put differently\n",
    "temp_f = py_func_g(10)\n",
    "print(temp_f(robjects.FloatVector([1,2,3])))"
   ]
  },
  {
   "cell_type": "markdown",
   "id": "9066cf39-89a8-4719-9924-91e731f2247d",
   "metadata": {},
   "source": [
    "## I try my R code..\n",
    "\n",
    "https://github.com/jaivrat/R-codes/blob/ea1ad3c256fb0e64285d1e5e7ce8aa3852c64262/dlm-dynamic-linear-model.R\n"
   ]
  },
  {
   "cell_type": "code",
   "execution_count": null,
   "id": "2ec49ab0-c329-48ee-8664-1b0f5a030ac1",
   "metadata": {},
   "outputs": [],
   "source": [
    "## We try MLE estimator of Variance matrices\n",
    "# I think we can do exponential moving average estimator of covariance matrix as estimate of V then \n",
    "# we may not need MLE estimator\n",
    "\n",
    "r_func_code_mle = \"\"\"\n",
    "function(df){\n",
    "  # MLE estimator\n",
    "  buildFn <- function(x)\n",
    "  {\n",
    "      ret.mod <- dlm::dlmModReg(X = as.matrix(df[c(\"x1\", \"x2\")]),\n",
    "                            dV = exp(x[3]), \n",
    "                            dW = exp(x[1:2]), \n",
    "                            addInt = FALSE)\n",
    "      ret.mod\n",
    "  }\n",
    "  \n",
    "  fit <- dlm::dlmMLE( y  = df$y, \n",
    "                    build = buildFn, \n",
    "                    parm  = log(c(rep(1e2, 2), 1e2)),\n",
    "                    lower = log(rep(1e-5, 3)), \n",
    "                    hessian=TRUE)\n",
    "  mod.res <- buildFn(fit$par)\n",
    "  avarLog <- solve(fit$hessian)\n",
    "  avar <- diag(exp(fit$par)) %*% avarLog %*% diag(exp(fit$par))  \n",
    "  return(list(mod.res = mod.res, V = V(mod.res), W =  W(mod.res)))\n",
    "}\n",
    "\"\"\"\n",
    "\n",
    "r_func_mle = robjects.r(r_func_code_mle)\n",
    "\n",
    "py_func_mle = robjects.functions.wrap_r_function(r_func_mle, 'mle')\n"
   ]
  },
  {
   "cell_type": "code",
   "execution_count": null,
   "id": "f1579940-159b-4c20-8190-9048a68293f4",
   "metadata": {},
   "outputs": [],
   "source": [
    "# df"
   ]
  },
  {
   "cell_type": "code",
   "execution_count": null,
   "id": "51415901-8560-48af-8891-062771849799",
   "metadata": {},
   "outputs": [],
   "source": [
    "d = {}\n",
    "for col in df.columns:\n",
    "    print(col)\n",
    "    d[col] = robjects.FloatVector(df[col].values)\n",
    "\n",
    "df_r = robjects.DataFrame(d)"
   ]
  },
  {
   "cell_type": "code",
   "execution_count": null,
   "id": "42182ee5-e139-4959-930f-458f28485d00",
   "metadata": {},
   "outputs": [],
   "source": [
    "print(df_r)"
   ]
  },
  {
   "cell_type": "code",
   "execution_count": null,
   "id": "1c6c0de0-84ba-4ea8-95ac-0665140a1d83",
   "metadata": {},
   "outputs": [],
   "source": [
    "#SIZE"
   ]
  },
  {
   "cell_type": "code",
   "execution_count": null,
   "id": "1ad2839a-9011-4dc2-bba3-00de97e8a61c",
   "metadata": {},
   "outputs": [],
   "source": [
    "subset_for_mle = df_r.rx(robjects.IntVector(range(0,1 + int(SIZE/2))), True)\n",
    "print(subset_for_mle)"
   ]
  },
  {
   "cell_type": "code",
   "execution_count": null,
   "id": "bbe9e243-4fb6-4cc1-b7e0-7cf61f5a564a",
   "metadata": {},
   "outputs": [],
   "source": [
    "df.to_clipboard()"
   ]
  },
  {
   "cell_type": "code",
   "execution_count": null,
   "id": "c45bd508-5aab-4ccf-936e-492cfe829f31",
   "metadata": {},
   "outputs": [],
   "source": [
    "## dict(df)\n",
    "result_mle = py_func_mle(subset_for_mle)"
   ]
  },
  {
   "cell_type": "code",
   "execution_count": null,
   "id": "52cf78b6-425a-4b19-a4f4-2e297d858c88",
   "metadata": {},
   "outputs": [],
   "source": [
    "print(result_mle.names)\n",
    "print(\"V:\")\n",
    "print(result_mle.rx2('V'))\n",
    "print(\"W:\")\n",
    "print(result_mle.rx2('W'))\n",
    "print(\"mod.res:\")\n",
    "print(result_mle.rx2('mod.res'))"
   ]
  },
  {
   "cell_type": "code",
   "execution_count": null,
   "id": "784d838d-56c7-4438-a544-c7f212cf829a",
   "metadata": {},
   "outputs": [],
   "source": [
    "\n",
    "r_func_code_filter = \"\"\"\n",
    "function(df, mod.res){\n",
    "  res.filt <- dlm::dlmFilter(y = df$y, mod = mod.res)\n",
    "  results.df <- data.frame(res.filt$m[-1, ] , \n",
    "                         theta1 = df$theta1, \n",
    "                         theta2 = df$theta2\n",
    "                         )\n",
    "  return(list(results.df =  results.df, res.filt = res.filt))\n",
    "}\n",
    "\"\"\"\n",
    "\n",
    "r_func_filter = robjects.r(r_func_code_filter)\n",
    "py_func_filter = robjects.functions.wrap_r_function(r_func_filter, 'filter')\n"
   ]
  },
  {
   "cell_type": "code",
   "execution_count": null,
   "id": "f3117c0c-d4e6-4d70-be89-3e099df761c7",
   "metadata": {},
   "outputs": [],
   "source": [
    "res_df_robj = py_func_filter(subset_for_mle, result_mle.rx2('mod.res'))\n",
    "res_filt    = res_df_robj.rx2(\"res.filt\")\n",
    "results_df  = res_df_robj.rx2(\"results.df\")\n",
    "\n",
    "# Cover to python data frame\n",
    "res_df =  pd.DataFrame(results_df).T\n",
    "res_df =  res_df.set_axis([x for x in results_df.names], axis = 1)\n",
    "\n",
    "# Actually first 1 values are filtered state vectors res.filt$m, ie filtered theta1 and theta2\n",
    "res_df"
   ]
  },
  {
   "cell_type": "markdown",
   "id": "27389bd4-1c67-4bac-b7a5-e6234510c2ca",
   "metadata": {},
   "source": [
    "X1, X2 (not confuse with x1 and x2 inputs) are filtered values of internal states.. ie thet1 and theta2"
   ]
  },
  {
   "cell_type": "code",
   "execution_count": null,
   "id": "8a124cde-345c-41a4-b267-1da6443da880",
   "metadata": {},
   "outputs": [],
   "source": [
    "## We can try seeing filtered values and compare with actual thetas\n",
    "import matplotlib.pyplot as plt\n",
    "pd.options.plotting.backend = \"plotly\"\n",
    "fig = res_df.plot()\n",
    "fig.show()"
   ]
  },
  {
   "cell_type": "markdown",
   "id": "d0c475e9-79f2-4933-9d3a-b03d1b83bf87",
   "metadata": {},
   "source": [
    "\n",
    "```R\n",
    "#-------------------------------------------------------------------------------\n",
    "#Future prediction though kalman filter\n",
    "#-------------------------------------------------------------------------------\n",
    "ret.mod.fwd <- dlm::dlmModReg(X = as.matrix(df[-(1:500), c(\"x1\", \"x2\")]),\n",
    "                              dV = V(mod.res), \n",
    "                              dW = diag(W(mod.res)), \n",
    "                              m0 = as.numeric(tail(res.filt$m, 1)),\n",
    "                              C0 = with(res.filt, dlmSvd2var(U.C[[501]], D.C[501,])),\n",
    "                              addInt = FALSE)\n",
    "\n",
    "res.fwd.filt   <- dlm::dlmFilter(y = df$y[-(1:500)], mod = ret.mod.fwd)\n",
    "\n",
    "results.fwd.df <- data.frame(res.fwd.filt$m[-1, ] , \n",
    "                             theta1 = theta1[-(1:500)], \n",
    "                             theta2 = theta2[-(1:500)],\n",
    "                             tim = df$tim[-(1:500)])\n",
    "\n",
    "results.fwd.df.melt <- reshape2::melt(results.fwd.df, id.vars = \"tim\")     \n",
    "ggplot(data = results.fwd.df.melt, aes(x = tim, y = value, group = variable, colour = variable)) + \n",
    "  geom_line() + \n",
    "  ggtitle(\"States, ie thetas\")\n",
    "```\n"
   ]
  },
  {
   "cell_type": "code",
   "execution_count": null,
   "id": "f27b09b0-6ab1-46f0-9c2b-4288406f94f5",
   "metadata": {},
   "outputs": [],
   "source": [
    "df.shape[0]"
   ]
  },
  {
   "cell_type": "code",
   "execution_count": null,
   "id": "fcf4d40d-ffdd-4d47-b6bb-f8de530723b1",
   "metadata": {},
   "outputs": [],
   "source": [
    "\n",
    "r_func_code_pred_filter = \"\"\"\n",
    "function(df, mod.res, res.filt){\n",
    "  ret.mod.fwd <- dlm::dlmModReg(X = as.matrix(df[c(\"x1\", \"x2\")]),\n",
    "                              dV = V(mod.res), \n",
    "                              dW = diag(W(mod.res)), \n",
    "                              m0 = as.numeric(tail(res.filt$m, 1)),\n",
    "                              C0 = with(res.filt, dlmSvd2var(U.C[[nrow(df)/2 - 1]], D.C[nrow(df)/2,])),\n",
    "                              addInt = FALSE)\n",
    "  res.fwd.filt   <- dlm::dlmFilter(y = df$y, mod = ret.mod.fwd)\n",
    "  results.fwd.df <- data.frame(res.fwd.filt$m[-1, ] ,\n",
    "                             theta1 = df$theta1, \n",
    "                             theta2 = df$theta2)\n",
    "\n",
    "  return(list(results.fwd.df =  results.fwd.df, res.fwd.filt = res.fwd.filt))\n",
    "  \n",
    "  \n",
    "}\n",
    "\"\"\"\n",
    "# Have a look https://rdrr.io/cran/dlm/man/dlmFilter.html\n",
    "\n",
    "r_func_pred_filter = robjects.r(r_func_code_pred_filter)\n",
    "py_func_pred_filter = robjects.functions.wrap_r_function(r_func_pred_filter, 'pred_filter')"
   ]
  },
  {
   "cell_type": "code",
   "execution_count": null,
   "id": "7a140c47-dfb0-49ff-a47f-2ad23c12437e",
   "metadata": {},
   "outputs": [],
   "source": [
    "print(res_filt.names)\n",
    "res_filt.rx2(\"U.C\")[5]\n",
    "res_filt.rx2(\"D.C\")"
   ]
  },
  {
   "cell_type": "code",
   "execution_count": null,
   "id": "5696d33e-8b9a-4332-9064-9b61c5d7db54",
   "metadata": {},
   "outputs": [],
   "source": [
    "results_pred_filter = py_func_pred_filter(df_r, result_mle.rx2('mod.res'), res_filt )\n",
    "\n",
    "res_fwd_filt = results_pred_filter.rx2('res.fwd.filt')\n",
    "results_fwd = results_pred_filter.rx2('results.fwd.df')\n",
    "\n",
    "# Covert to python data frame\n",
    "results_fwd_df = pd.DataFrame(results_fwd).T\n",
    "results_fwd_df = results_fwd_df.set_axis([x for x in results_fwd.names], axis = 1)\n",
    "results_fwd_df"
   ]
  },
  {
   "cell_type": "code",
   "execution_count": null,
   "id": "0285eecc-69c0-48a4-88a4-8254a2fd64aa",
   "metadata": {},
   "outputs": [],
   "source": [
    "results_fwd_df.to_clipboard()"
   ]
  },
  {
   "cell_type": "code",
   "execution_count": null,
   "id": "25744d7e-0e31-4eed-947e-f9579553f3db",
   "metadata": {},
   "outputs": [],
   "source": [
    "# X1 and X2 are filtered theta1 and theta2\n",
    "import matplotlib.pyplot as plt\n",
    "pd.options.plotting.backend = \"plotly\"\n",
    "fig = results_fwd_df.plot()\n",
    "fig.show()"
   ]
  },
  {
   "cell_type": "code",
   "execution_count": null,
   "id": "b495a538-cf8f-483f-9ca4-6fb0b1562b1c",
   "metadata": {},
   "outputs": [],
   "source": [
    "# Actually y is not important here as x_t's vary and prediction is not relevant! We are more after state estimates!\n",
    "forecasted_y = np.array(res_fwd_filt.rx2(\"f\"))"
   ]
  },
  {
   "cell_type": "code",
   "execution_count": null,
   "id": "d24c779e-b95b-4ecf-b3bf-6442edcde8a3",
   "metadata": {},
   "outputs": [],
   "source": [
    "# X1 and X2 are filtered theta1 and thta2\n",
    "import matplotlib.pyplot as plt\n",
    "pd.options.plotting.backend = \"plotly\"\n",
    "fig = pd.DataFrame({\"y\":df[\"y\"], \n",
    "                    \"forecasted_y\": pd.Series(forecasted_y).shift(-1).values }).plot()\n",
    "fig.show()"
   ]
  },
  {
   "cell_type": "markdown",
   "id": "fc9cf5ae-eff4-4f2b-882c-59643fd490dc",
   "metadata": {},
   "source": [
    "Actually y is not important here as x_t's vary and prediction is not relevant! We are more after state estimates!"
   ]
  },
  {
   "cell_type": "code",
   "execution_count": null,
   "id": "77206fc1-4f73-4abc-b241-57473bf913b1",
   "metadata": {},
   "outputs": [],
   "source": [
    "# X1 and X2 are filtered theta1 and thta2\n",
    "import matplotlib.pyplot as plt\n",
    "pd.options.plotting.backend = \"plotly\"\n",
    "fig = results_fwd_df[[\"X1\", \"theta1\"]].plot()\n",
    "fig.show()"
   ]
  },
  {
   "cell_type": "code",
   "execution_count": null,
   "id": "5e894004-faf1-44d3-894f-7d19b5cbe774",
   "metadata": {},
   "outputs": [],
   "source": [
    "import matplotlib.pyplot as plt\n",
    "pd.options.plotting.backend = \"plotly\"\n",
    "fig = results_fwd_df[[\"X2\", \"theta2\"]].plot()\n",
    "fig.show()"
   ]
  },
  {
   "cell_type": "code",
   "execution_count": null,
   "id": "09aba411-2f03-46bc-967f-43002aa82bd4",
   "metadata": {},
   "outputs": [],
   "source": []
  }
 ],
 "metadata": {
  "kernelspec": {
   "display_name": "strat",
   "language": "python",
   "name": "strat"
  },
  "language_info": {
   "codemirror_mode": {
    "name": "ipython",
    "version": 3
   },
   "file_extension": ".py",
   "mimetype": "text/x-python",
   "name": "python",
   "nbconvert_exporter": "python",
   "pygments_lexer": "ipython3",
   "version": "3.8.20"
  }
 },
 "nbformat": 4,
 "nbformat_minor": 5
}
