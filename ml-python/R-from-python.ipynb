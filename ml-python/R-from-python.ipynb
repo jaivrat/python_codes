{
 "cells": [
  {
   "cell_type": "code",
   "execution_count": 1,
   "id": "f40cf5e8-5119-4bad-b07d-b63ae96a246e",
   "metadata": {},
   "outputs": [],
   "source": [
    "import rpy2\n",
    "import rpy2.robjects as robjects\n",
    "from rpy2.robjects.packages import importr, data"
   ]
  },
  {
   "cell_type": "code",
   "execution_count": 2,
   "id": "91252d24-538a-4857-88ef-78256acb3755",
   "metadata": {},
   "outputs": [],
   "source": [
    "dlm = importr('dlm')"
   ]
  },
  {
   "cell_type": "markdown",
   "id": "c86a55bb-55d4-460c-8c24-8821dab3eb61",
   "metadata": {},
   "source": [
    "R Code\n",
    "```R\n",
    "rw <- dlm(m0 = 0, C0 = 10, FF = 1, V = 1.4, GG = 1, W = 0.2)\n",
    "```"
   ]
  },
  {
   "cell_type": "code",
   "execution_count": 3,
   "id": "70d70096-a7a2-45aa-9a82-019436cda825",
   "metadata": {},
   "outputs": [],
   "source": [
    "rw  = dlm.dlm(m0 = 0, C0 = 10, FF = 1, V = 1.4, GG = 1, W = 0.2)"
   ]
  },
  {
   "cell_type": "code",
   "execution_count": 4,
   "id": "036fa914-ee36-4b48-9824-d35afaa3f2d1",
   "metadata": {},
   "outputs": [
    {
     "data": {
      "text/html": [
       "\n",
       "        <span>ListVector with 6 elements.</span>\n",
       "        <table>\n",
       "        <tbody>\n",
       "        \n",
       "          <tr>\n",
       "            <th>\n",
       "            m0\n",
       "            </th>\n",
       "            <td>\n",
       "            <rpy2.rinterface.IntSexpVector object at 0x10ed18680> [RTYPES.INTSXP]\n",
       "            </td>\n",
       "          </tr>\n",
       "        \n",
       "          <tr>\n",
       "            <th>\n",
       "            C0\n",
       "            </th>\n",
       "            <td>\n",
       "            <rpy2.rinterface.IntSexpVector object at 0x10ed18600> [RTYPES.INTSXP]\n",
       "            </td>\n",
       "          </tr>\n",
       "        \n",
       "          <tr>\n",
       "            <th>\n",
       "            FF\n",
       "            </th>\n",
       "            <td>\n",
       "            <rpy2.rinterface.IntSexpVector object at 0x10ed1adc0> [RTYPES.INTSXP]\n",
       "            </td>\n",
       "          </tr>\n",
       "        \n",
       "          <tr>\n",
       "            <th>\n",
       "            V\n",
       "            </th>\n",
       "            <td>\n",
       "            <rpy2.rinterface.FloatSexpVector object at 0x10ed1a380> [RTYPES.REALSXP]\n",
       "            </td>\n",
       "          </tr>\n",
       "        \n",
       "          <tr>\n",
       "            <th>\n",
       "            GG\n",
       "            </th>\n",
       "            <td>\n",
       "            <rpy2.rinterface.IntSexpVector object at 0x10ed1a880> [RTYPES.INTSXP]\n",
       "            </td>\n",
       "          </tr>\n",
       "        \n",
       "          <tr>\n",
       "            <th>\n",
       "            W\n",
       "            </th>\n",
       "            <td>\n",
       "            <rpy2.rinterface.FloatSexpVector object at 0x10ed1a5c0> [RTYPES.REALSXP]\n",
       "            </td>\n",
       "          </tr>\n",
       "        \n",
       "        </tbody>\n",
       "        </table>\n",
       "        "
      ],
      "text/plain": [
       "<rpy2.robjects.vectors.ListVector object at 0x10ed275c0> [RTYPES.VECSXP]\n",
       "R classes: ('dlm',)\n",
       "[IntSe..., IntSe..., IntSe..., Float..., IntSe..., Float...]\n",
       "  m0: <class 'rpy2.rinterface.IntSexpVector'>\n",
       "  <rpy2.rinterface.IntSexpVector object at 0x10e2eb500> [RTYPES.INTSXP]\n",
       "  C0: <class 'rpy2.rinterface.IntSexpVector'>\n",
       "  <rpy2.rinterface.IntSexpVector object at 0x10df692c0> [RTYPES.INTSXP]\n",
       "  FF: <class 'rpy2.rinterface.IntSexpVector'>\n",
       "  <rpy2.rinterface.IntSexpVector object at 0x10ddb3f40> [RTYPES.INTSXP]\n",
       "  V: <class 'rpy2.rinterface.FloatSexpVector'>\n",
       "  <rpy2.rinterface.FloatSexpVector object at 0x10ed18c00> [RTYPES.REALSXP]\n",
       "  GG: <class 'rpy2.rinterface.IntSexpVector'>\n",
       "  <rpy2.rinterface.IntSexpVector object at 0x10ed18e40> [RTYPES.INTSXP]\n",
       "  W: <class 'rpy2.rinterface.FloatSexpVector'>\n",
       "  <rpy2.rinterface.FloatSexpVector object at 0x10ed144c0> [RTYPES.REALSXP]"
      ]
     },
     "execution_count": 4,
     "metadata": {},
     "output_type": "execute_result"
    }
   ],
   "source": [
    "rw"
   ]
  },
  {
   "cell_type": "code",
   "execution_count": 5,
   "id": "73dad644-9a99-4bc3-8a46-400e7d4d2f68",
   "metadata": {},
   "outputs": [
    {
     "data": {
      "text/html": [
       "\n",
       "        <span>IntVector with 1 elements.</span>\n",
       "        <table>\n",
       "        <tbody>\n",
       "          <tr>\n",
       "          \n",
       "            <td>\n",
       "            0\n",
       "            </td>\n",
       "          \n",
       "          </tr>\n",
       "        </tbody>\n",
       "        </table>\n",
       "        "
      ],
      "text/plain": [
       "<rpy2.robjects.vectors.IntVector object at 0x10e317940> [RTYPES.INTSXP]\n",
       "R classes: ('integer',)\n",
       "[0]"
      ]
     },
     "execution_count": 5,
     "metadata": {},
     "output_type": "execute_result"
    }
   ],
   "source": [
    "rw[0]"
   ]
  },
  {
   "cell_type": "code",
   "execution_count": 6,
   "id": "202d4cb1-0819-4288-9035-c8bf274d3b22",
   "metadata": {},
   "outputs": [
    {
     "data": {
      "text/html": [
       "\n",
       "        <span>IntVector with 1 elements.</span>\n",
       "        <table>\n",
       "        <tbody>\n",
       "          <tr>\n",
       "          \n",
       "            <td>\n",
       "            0\n",
       "            </td>\n",
       "          \n",
       "          </tr>\n",
       "        </tbody>\n",
       "        </table>\n",
       "        "
      ],
      "text/plain": [
       "<rpy2.robjects.vectors.IntVector object at 0x10ed222c0> [RTYPES.INTSXP]\n",
       "R classes: ('integer',)\n",
       "[0]"
      ]
     },
     "execution_count": 6,
     "metadata": {},
     "output_type": "execute_result"
    }
   ],
   "source": [
    "rw.rx2('m0')"
   ]
  },
  {
   "cell_type": "code",
   "execution_count": 7,
   "id": "e3ea6309-9df4-41de-965b-ac22c541a2ad",
   "metadata": {},
   "outputs": [
    {
     "data": {
      "text/html": [
       "\n",
       "        <span>IntMatrix with 1 elements.</span>\n",
       "        <table>\n",
       "        <tbody>\n",
       "          <tr>\n",
       "          \n",
       "            <td>\n",
       "            10\n",
       "            </td>\n",
       "          \n",
       "          </tr>\n",
       "        </tbody>\n",
       "        </table>\n",
       "        "
      ],
      "text/plain": [
       "<rpy2.robjects.vectors.IntMatrix object at 0x10ed0de80> [RTYPES.INTSXP]\n",
       "R classes: ('matrix', 'array')\n",
       "[10]"
      ]
     },
     "execution_count": 7,
     "metadata": {},
     "output_type": "execute_result"
    }
   ],
   "source": [
    "rw[1]"
   ]
  },
  {
   "cell_type": "code",
   "execution_count": 8,
   "id": "3ee88563-26f1-4188-9d2f-1c522de3cc8e",
   "metadata": {},
   "outputs": [
    {
     "data": {
      "text/html": [
       "\n",
       "        <span>IntMatrix with 1 elements.</span>\n",
       "        <table>\n",
       "        <tbody>\n",
       "          <tr>\n",
       "          \n",
       "            <td>\n",
       "            10\n",
       "            </td>\n",
       "          \n",
       "          </tr>\n",
       "        </tbody>\n",
       "        </table>\n",
       "        "
      ],
      "text/plain": [
       "<rpy2.robjects.vectors.IntMatrix object at 0x10ed04500> [RTYPES.INTSXP]\n",
       "R classes: ('matrix', 'array')\n",
       "[10]"
      ]
     },
     "execution_count": 8,
     "metadata": {},
     "output_type": "execute_result"
    }
   ],
   "source": [
    "rw.rx2('C0')"
   ]
  },
  {
   "cell_type": "code",
   "execution_count": 9,
   "id": "d878229c-ce81-4152-95e4-9ae1d485399b",
   "metadata": {},
   "outputs": [
    {
     "data": {
      "text/html": [
       "\n",
       "        <span>IntVector with 1 elements.</span>\n",
       "        <table>\n",
       "        <tbody>\n",
       "          <tr>\n",
       "          \n",
       "            <td>\n",
       "            0\n",
       "            </td>\n",
       "          \n",
       "          </tr>\n",
       "        </tbody>\n",
       "        </table>\n",
       "        "
      ],
      "text/plain": [
       "<rpy2.robjects.vectors.IntVector object at 0x10ed70d40> [RTYPES.INTSXP]\n",
       "R classes: ('integer',)\n",
       "[0]"
      ]
     },
     "execution_count": 9,
     "metadata": {},
     "output_type": "execute_result"
    }
   ],
   "source": [
    "{k:v for k,v in rw.items()}['m0']"
   ]
  },
  {
   "cell_type": "code",
   "execution_count": 10,
   "id": "e99a21f8-14d0-44af-85e4-749dd3b2e37f",
   "metadata": {},
   "outputs": [
    {
     "data": {
      "text/html": [
       "\n",
       "        <span>IntMatrix with 1 elements.</span>\n",
       "        <table>\n",
       "        <tbody>\n",
       "          <tr>\n",
       "          \n",
       "            <td>\n",
       "            10\n",
       "            </td>\n",
       "          \n",
       "          </tr>\n",
       "        </tbody>\n",
       "        </table>\n",
       "        "
      ],
      "text/plain": [
       "<rpy2.robjects.vectors.IntMatrix object at 0x10ed8cb40> [RTYPES.INTSXP]\n",
       "R classes: ('matrix', 'array')\n",
       "[10]"
      ]
     },
     "execution_count": 10,
     "metadata": {},
     "output_type": "execute_result"
    }
   ],
   "source": [
    "{k:v for k,v in rw.items()}['C0']"
   ]
  },
  {
   "cell_type": "code",
   "execution_count": 11,
   "id": "d855677c-559c-41cd-8e20-8b062a4bef9d",
   "metadata": {},
   "outputs": [
    {
     "data": {
      "text/plain": [
       "matrix([[10]], dtype=int32)"
      ]
     },
     "execution_count": 11,
     "metadata": {},
     "output_type": "execute_result"
    }
   ],
   "source": [
    "import numpy as np\n",
    "np.matrix(rw.rx2('C0'))"
   ]
  },
  {
   "cell_type": "code",
   "execution_count": 12,
   "id": "aea7f8c8-1c22-4a26-963b-9b7e0d20f0ea",
   "metadata": {},
   "outputs": [
    {
     "data": {
      "text/html": [
       "\n",
       "        <span>FloatMatrix with 1 elements.</span>\n",
       "        <table>\n",
       "        <tbody>\n",
       "          <tr>\n",
       "          \n",
       "            <td>\n",
       "            0.200000\n",
       "            </td>\n",
       "          \n",
       "          </tr>\n",
       "        </tbody>\n",
       "        </table>\n",
       "        "
      ],
      "text/plain": [
       "<rpy2.robjects.vectors.FloatMatrix object at 0x10ed2c9c0> [RTYPES.REALSXP]\n",
       "R classes: ('matrix', 'array')\n",
       "[0.200000]"
      ]
     },
     "execution_count": 12,
     "metadata": {},
     "output_type": "execute_result"
    }
   ],
   "source": [
    "rw.rx2('W')"
   ]
  },
  {
   "cell_type": "code",
   "execution_count": 13,
   "id": "b157892d-461c-445e-85cc-cdffa182bef3",
   "metadata": {},
   "outputs": [],
   "source": [
    "x = robjects.ListVector({'a': 1, 'b': 2, 'c': 3})"
   ]
  },
  {
   "cell_type": "code",
   "execution_count": 14,
   "id": "8a50355f-a154-45bf-9a2e-ce0537f56a8a",
   "metadata": {},
   "outputs": [
    {
     "name": "stdout",
     "output_type": "stream",
     "text": [
      "$a\n",
      "[1] 1\n",
      "\n",
      "$b\n",
      "[1] 2\n",
      "\n",
      "$c\n",
      "[1] 3\n",
      "\n",
      "\n"
     ]
    }
   ],
   "source": [
    "print(x)"
   ]
  },
  {
   "cell_type": "code",
   "execution_count": 15,
   "id": "166b598d-6b57-4e5a-934e-71d7c49ea07d",
   "metadata": {},
   "outputs": [
    {
     "data": {
      "text/plain": [
       "1"
      ]
     },
     "execution_count": 15,
     "metadata": {},
     "output_type": "execute_result"
    }
   ],
   "source": [
    "x.names.index('b')"
   ]
  },
  {
   "cell_type": "code",
   "execution_count": 16,
   "id": "fc74ca5a-d5f4-4022-9414-a88cc38e1f8f",
   "metadata": {},
   "outputs": [],
   "source": [
    "x[x.names.index('b')] = 9"
   ]
  },
  {
   "cell_type": "code",
   "execution_count": 17,
   "id": "537f3432-a60e-485a-8bba-6a90c1985fe8",
   "metadata": {},
   "outputs": [
    {
     "data": {
      "text/html": [
       "\n",
       "        <span>ListVector with 3 elements.</span>\n",
       "        <table>\n",
       "        <tbody>\n",
       "        \n",
       "          <tr>\n",
       "            <th>\n",
       "            a\n",
       "            </th>\n",
       "            <td>\n",
       "            <rpy2.rinterface.IntSexpVector object at 0x10f71a580> [RTYPES.INTSXP]\n",
       "            </td>\n",
       "          </tr>\n",
       "        \n",
       "          <tr>\n",
       "            <th>\n",
       "            b\n",
       "            </th>\n",
       "            <td>\n",
       "            <rpy2.rinterface.IntSexpVector object at 0x10f71a680> [RTYPES.INTSXP]\n",
       "            </td>\n",
       "          </tr>\n",
       "        \n",
       "          <tr>\n",
       "            <th>\n",
       "            c\n",
       "            </th>\n",
       "            <td>\n",
       "            <rpy2.rinterface.IntSexpVector object at 0x10f71a6c0> [RTYPES.INTSXP]\n",
       "            </td>\n",
       "          </tr>\n",
       "        \n",
       "        </tbody>\n",
       "        </table>\n",
       "        "
      ],
      "text/plain": [
       "<rpy2.robjects.vectors.ListVector object at 0x10dd8d3c0> [RTYPES.VECSXP]\n",
       "R classes: ('list',)\n",
       "[IntSexpVector, IntSexpVector, IntSexpVector]\n",
       "  a: <class 'rpy2.rinterface.IntSexpVector'>\n",
       "  <rpy2.rinterface.IntSexpVector object at 0x10f71a140> [RTYPES.INTSXP]\n",
       "  b: <class 'rpy2.rinterface.IntSexpVector'>\n",
       "  <rpy2.rinterface.IntSexpVector object at 0x10f71a440> [RTYPES.INTSXP]\n",
       "  c: <class 'rpy2.rinterface.IntSexpVector'>\n",
       "  <rpy2.rinterface.IntSexpVector object at 0x10f71a580> [RTYPES.INTSXP]"
      ]
     },
     "execution_count": 17,
     "metadata": {},
     "output_type": "execute_result"
    }
   ],
   "source": [
    "x"
   ]
  },
  {
   "cell_type": "code",
   "execution_count": 18,
   "id": "b6c1fa99-b11a-4f91-903f-e9e046ffbeb8",
   "metadata": {},
   "outputs": [
    {
     "name": "stdout",
     "output_type": "stream",
     "text": [
      "$a\n",
      "[1] 1\n",
      "\n",
      "$b\n",
      "[1] 9\n",
      "\n",
      "$c\n",
      "[1] 3\n",
      "\n",
      "\n"
     ]
    }
   ],
   "source": [
    "print(x)"
   ]
  },
  {
   "cell_type": "markdown",
   "id": "6da90504-a39e-4ff6-b4e5-44af2221ffb2",
   "metadata": {},
   "source": [
    "R code:\n",
    "\n",
    "```R\n",
    "lg <- dlm(m0 = rep(0,2), \n",
    "          C0 = 10 * diag(2), \n",
    "          FF = matrix(c(1,0),nr=1), \n",
    "          V = 1.4, GG = matrix(c(1,0,1,1),nr=2), \n",
    "          W = diag(c(0,0.2)))\n",
    "```"
   ]
  },
  {
   "cell_type": "code",
   "execution_count": 19,
   "id": "20e5015d-3f35-47db-867c-5e96e7dbcfd5",
   "metadata": {},
   "outputs": [
    {
     "name": "stdout",
     "output_type": "stream",
     "text": [
      "     [,1] [,2]\n",
      "[1,]    0  0.0\n",
      "[2,]    0  0.2\n",
      "\n"
     ]
    }
   ],
   "source": [
    "m0 = robjects.r.matrix(robjects.FloatVector([0,0]), nrow=2)\n",
    "C0 =  robjects.r.matrix(robjects.FloatVector(list(10 * np.eye(2).ravel())), nrow=2)\n",
    "FF =  robjects.r.matrix(robjects.FloatVector([1, 0]), nrow=1)\n",
    "GG =  robjects.r.matrix(robjects.FloatVector([1, 0, 1, 1]), nrow=2)\n",
    "W =  robjects.r.matrix(robjects.FloatVector(list(np.diag([0, 0.2]).ravel())), nrow=2)\n",
    "print(W)\n",
    "lg  = dlm.dlm(m0 = m0 , \n",
    "              C0 = C0, \n",
    "              FF = FF, \n",
    "              V = 1.4, \n",
    "              GG = GG, \n",
    "              W = W)"
   ]
  },
  {
   "cell_type": "code",
   "execution_count": 20,
   "id": "53bc81c5-2dbd-4344-871f-9063af915a28",
   "metadata": {},
   "outputs": [
    {
     "name": "stdout",
     "output_type": "stream",
     "text": [
      "$FF\n",
      "     [,1] [,2]\n",
      "[1,]    1    0\n",
      "\n",
      "$V\n",
      "     [,1]\n",
      "[1,]  1.4\n",
      "\n",
      "$GG\n",
      "     [,1] [,2]\n",
      "[1,]    1    1\n",
      "[2,]    0    1\n",
      "\n",
      "$W\n",
      "     [,1] [,2]\n",
      "[1,]    0  0.0\n",
      "[2,]    0  0.2\n",
      "\n",
      "$m0\n",
      "     [,1]\n",
      "[1,]    0\n",
      "[2,]    0\n",
      "\n",
      "$C0\n",
      "     [,1] [,2]\n",
      "[1,]   10    0\n",
      "[2,]    0   10\n",
      "\n",
      "\n"
     ]
    }
   ],
   "source": [
    "print(lg)"
   ]
  },
  {
   "cell_type": "code",
   "execution_count": 21,
   "id": "a5a2793e-9a7e-41aa-9c08-91d75406fb2a",
   "metadata": {},
   "outputs": [
    {
     "name": "stdout",
     "output_type": "stream",
     "text": [
      "[1] \"m0\" \"C0\" \"FF\" \"V\"  \"GG\" \"W\" \n",
      "\n",
      "5\n",
      "     [,1] [,2]\n",
      "[1,]    0  0.0\n",
      "[2,]    0  0.2\n",
      "\n",
      "     [,1] [,2]\n",
      "[1,]    0  0.0\n",
      "[2,]    0  0.2\n",
      "\n"
     ]
    }
   ],
   "source": [
    "print(lg.names)\n",
    "print(lg.names.index(\"W\"))\n",
    "print(lg[lg.names.index(\"W\")])\n",
    "print(lg.rx2('W'))"
   ]
  },
  {
   "cell_type": "markdown",
   "id": "d500b3eb-8194-45e7-b59b-324d96e9df33",
   "metadata": {},
   "source": [
    "### Dynamic regression model\n",
    "\n",
    "$$\n",
    "\\begin{align}\n",
    "Y_t &= \\theta_1 + \\theta_2 x_t + \\epsilon_t\\\\\n",
    "\\begin{bmatrix} \n",
    "    \\theta_1 \\\\ \\theta_2 \\end\n",
    "{bmatrix}_t &=  \\begin{bmatrix}\n",
    "                1 & 0\\\\\n",
    "                0 & 1\n",
    "               \\end{bmatrix} \\begin{bmatrix} \n",
    "                                 \\theta_1 \\\\ \\theta_2\n",
    "                              \\end{bmatrix}_{t-1}   +  \\epsilon  \n",
    "\\end{align}\n",
    "$$\n",
    "\n",
    "```R\n",
    "x <- rnorm(100) # covariates\n",
    "dlr <- dlm(m0 = rep(0,2), \n",
    "           C0 = 10 * diag(2), \n",
    "           FF = matrix(c(1,0),nr=1),\n",
    "           V = 1.3, \n",
    "           GG = diag(2), \n",
    "           W = diag(c(0.4,0.2)),\n",
    "           JFF = matrix(c(0,1),nr=1), \n",
    "           X = as.matrix(x))\n",
    "```"
   ]
  },
  {
   "cell_type": "code",
   "execution_count": 22,
   "id": "5c710a72-5159-45b3-8dd4-8f83604739d4",
   "metadata": {},
   "outputs": [],
   "source": [
    "# Time varying x\n",
    "x = np.random.randn(100)\n",
    "m0 = robjects.r.matrix(robjects.FloatVector([0,0]), nrow=2)\n",
    "C0 =  robjects.r.matrix(robjects.FloatVector(list(10 * np.eye(2).ravel())), nrow=2)\n",
    "FF =  robjects.r.matrix(robjects.FloatVector([1, 0]), nrow=1)\n",
    "V = 1.3\n",
    "GG =  robjects.r.matrix(robjects.FloatVector(np.eye(2).ravel()), nrow=2)\n",
    "W =  robjects.r.matrix(robjects.FloatVector(np.diag([0.4, 0.2]).ravel()), nrow = 2)\n",
    "JFF =  robjects.r.matrix(robjects.FloatVector([0, 1]), nrow = 1)\n",
    "X =  robjects.r.matrix(robjects.FloatVector(x), ncol = 1)\n",
    "\n",
    "\n",
    "dlr = dlm.dlm(m0 = m0, \n",
    "           C0 = C0, \n",
    "           FF = FF,\n",
    "           V = V, \n",
    "           GG = GG, \n",
    "           W =W,\n",
    "           JFF = JFF, \n",
    "           X = X)\n"
   ]
  },
  {
   "cell_type": "code",
   "execution_count": 23,
   "id": "90c2d9fa-77fb-485a-a21b-74b2a3e5d433",
   "metadata": {},
   "outputs": [
    {
     "name": "stdout",
     "output_type": "stream",
     "text": [
      "$FF\n",
      "     [,1] [,2]\n",
      "[1,]    1    0\n",
      "\n",
      "$V\n",
      "     [,1]\n",
      "[1,]  1.3\n",
      "\n",
      "$GG\n",
      "     [,1] [,2]\n",
      "[1,]    1    0\n",
      "[2,]    0    1\n",
      "\n",
      "$W\n",
      "     [,1] [,2]\n",
      "[1,]  0.4  0.0\n",
      "[2,]  0.0  0.2\n",
      "\n",
      "$JFF\n",
      "     [,1] [,2]\n",
      "[1,]    0    1\n",
      "\n",
      "$X\n",
      "     [,1]  \n",
      "[1,] 0.413 \n",
      "[2,] 0.6488\n",
      "[3,] ...   \n",
      "\n",
      "$m0\n",
      "     [,1]\n",
      "[1,]    0\n",
      "[2,]    0\n",
      "\n",
      "$C0\n",
      "     [,1] [,2]\n",
      "[1,]   10    0\n",
      "[2,]    0   10\n",
      "\n",
      "\n"
     ]
    }
   ],
   "source": [
    "print(dlr)"
   ]
  },
  {
   "cell_type": "code",
   "execution_count": 24,
   "id": "a7fbc5fb-21ff-45f1-b8c4-e09f3b62c4d6",
   "metadata": {},
   "outputs": [
    {
     "data": {
      "text/plain": [
       "array([ 0.41299054,  0.64882501,  0.47088652, -0.51628465, -0.57470014,\n",
       "        0.39974819, -0.94867716,  1.65265026, -0.34906876, -0.33566113])"
      ]
     },
     "execution_count": 24,
     "metadata": {},
     "output_type": "execute_result"
    }
   ],
   "source": [
    "# Note we put second elemnt of FF 0 as it is time varying and is set in X\n",
    "# We can see JFF.. match with $X above.. \n",
    "x[0:10]"
   ]
  },
  {
   "cell_type": "markdown",
   "id": "0931f4fb-c822-40f6-8dc6-bc259d42e00c",
   "metadata": {},
   "source": [
    "### R Code\n",
    "\n",
    "```R\n",
    "#-------------------------------------------------------------------------------\n",
    "#Generate some data first - toy example\n",
    "#Kalman filter/dynamic linear model in R\n",
    "#-------------------------------------------------------------------------------\n",
    "rm(list=ls())\n",
    "set.seed(100)\n",
    "df <- data.frame(x1 = sample(seq(from = -1.0, by = 0.01, length.out = 1000), \n",
    "                               size = 1000, replace = FALSE),\n",
    "                 x2 = sample(seq(from = -3.0, by = 0.01, length.out = 1000), \n",
    "                               size = 1000, replace = FALSE))\n",
    "\n",
    "theta1 <- 0.4\n",
    "theta2 <- 1.2\n",
    "y      <- sum(df[1, ] * c(theta1[1], theta2[1])) + rnorm(1, mean = 0, sd = 0.01)\n",
    "\n",
    "for(i in 2:1000)\n",
    "{\n",
    "  theta1 <- c(theta1, theta1[i-1] + rnorm(1, mean = 0, sd = 0.01))\n",
    "  theta2 <- c(theta2, theta2[i-1] + rnorm(1, mean = 0, sd = 0.02))\n",
    "  y      <- c(y, sum(df[i, ] * c(theta1[i], theta2[i])) + rnorm(1, mean = 0, sd = 0.01))\n",
    "}\n",
    "\n",
    "\n",
    "df[[\"y\"]] <- y\n",
    "df[[\"tim\"]] <- 1:length(y)\n",
    "```"
   ]
  },
  {
   "cell_type": "code",
   "execution_count": 25,
   "id": "b0fd7094-72df-4a76-9f5f-f3e2826b73d4",
   "metadata": {},
   "outputs": [],
   "source": [
    "import pandas as pd\n",
    "np.random.seed(144)\n",
    "# Not exactly above.. but\n",
    "df = pd.DataFrame({\n",
    "              \"x1\": np.random.choice(np.linspace(-1, 1, num=1000), size=1000, replace=False),\n",
    "              \"x2\": np.random.choice(np.linspace(-3, 3, num=1000), size=1000, replace=False)\n",
    "             })\n",
    "theta1 = 0.4\n",
    "theta2 = 1.2\n",
    "\n",
    "# Theta evolution\n",
    "theta_1_shocks = np.random.normal(loc=0.0,\n",
    "                                  scale=0.01,\n",
    "                                  size=df.shape[0]-1)\n",
    "theta_2_shocks = np.random.normal(loc=0.0,\n",
    "                                  scale=0.02,\n",
    "                                  size=df.shape[0]-1)\n",
    "\n",
    "theta_1_shocks = np.insert(theta_1_shocks, 0,0)\n",
    "theta1_s = theta1 + theta_1_shocks.cumsum()\n",
    "theta_2_shocks = np.insert(theta_2_shocks, 0,0)\n",
    "theta2_s = theta2 + theta_2_shocks.cumsum()\n",
    "\n",
    "y_shocks = np.random.normal(loc=0.0, scale=0.01, size=df.shape[0])\n",
    "\n",
    "y = np.apply_along_axis(sum, 1, df[[\"x1\", \"x2\"]] * np.vstack([theta1_s, theta2_s]).T) + y_shocks\n",
    "\n",
    "df[\"y\"] = y"
   ]
  },
  {
   "cell_type": "code",
   "execution_count": 26,
   "id": "7115df41-dca2-4a08-bac4-7685e49ad4c6",
   "metadata": {},
   "outputs": [
    {
     "data": {
      "text/html": [
       "<div>\n",
       "<style scoped>\n",
       "    .dataframe tbody tr th:only-of-type {\n",
       "        vertical-align: middle;\n",
       "    }\n",
       "\n",
       "    .dataframe tbody tr th {\n",
       "        vertical-align: top;\n",
       "    }\n",
       "\n",
       "    .dataframe thead th {\n",
       "        text-align: right;\n",
       "    }\n",
       "</style>\n",
       "<table border=\"1\" class=\"dataframe\">\n",
       "  <thead>\n",
       "    <tr style=\"text-align: right;\">\n",
       "      <th></th>\n",
       "      <th>x1</th>\n",
       "      <th>x2</th>\n",
       "      <th>y</th>\n",
       "    </tr>\n",
       "  </thead>\n",
       "  <tbody>\n",
       "    <tr>\n",
       "      <th>0</th>\n",
       "      <td>-0.049049</td>\n",
       "      <td>2.273273</td>\n",
       "      <td>2.720595</td>\n",
       "    </tr>\n",
       "    <tr>\n",
       "      <th>1</th>\n",
       "      <td>-0.757758</td>\n",
       "      <td>0.771772</td>\n",
       "      <td>0.595450</td>\n",
       "    </tr>\n",
       "    <tr>\n",
       "      <th>2</th>\n",
       "      <td>0.855856</td>\n",
       "      <td>-1.648649</td>\n",
       "      <td>-1.554209</td>\n",
       "    </tr>\n",
       "    <tr>\n",
       "      <th>3</th>\n",
       "      <td>-0.519520</td>\n",
       "      <td>-1.942943</td>\n",
       "      <td>-2.456723</td>\n",
       "    </tr>\n",
       "    <tr>\n",
       "      <th>4</th>\n",
       "      <td>0.245245</td>\n",
       "      <td>-1.876877</td>\n",
       "      <td>-2.009597</td>\n",
       "    </tr>\n",
       "    <tr>\n",
       "      <th>...</th>\n",
       "      <td>...</td>\n",
       "      <td>...</td>\n",
       "      <td>...</td>\n",
       "    </tr>\n",
       "    <tr>\n",
       "      <th>995</th>\n",
       "      <td>-0.155155</td>\n",
       "      <td>-0.579580</td>\n",
       "      <td>-1.304476</td>\n",
       "    </tr>\n",
       "    <tr>\n",
       "      <th>996</th>\n",
       "      <td>-0.567568</td>\n",
       "      <td>2.189189</td>\n",
       "      <td>4.708195</td>\n",
       "    </tr>\n",
       "    <tr>\n",
       "      <th>997</th>\n",
       "      <td>0.781782</td>\n",
       "      <td>-0.465465</td>\n",
       "      <td>-0.856264</td>\n",
       "    </tr>\n",
       "    <tr>\n",
       "      <th>998</th>\n",
       "      <td>-0.111111</td>\n",
       "      <td>-0.855856</td>\n",
       "      <td>-1.916291</td>\n",
       "    </tr>\n",
       "    <tr>\n",
       "      <th>999</th>\n",
       "      <td>-0.281281</td>\n",
       "      <td>0.981982</td>\n",
       "      <td>2.125421</td>\n",
       "    </tr>\n",
       "  </tbody>\n",
       "</table>\n",
       "<p>1000 rows × 3 columns</p>\n",
       "</div>"
      ],
      "text/plain": [
       "           x1        x2         y\n",
       "0   -0.049049  2.273273  2.720595\n",
       "1   -0.757758  0.771772  0.595450\n",
       "2    0.855856 -1.648649 -1.554209\n",
       "3   -0.519520 -1.942943 -2.456723\n",
       "4    0.245245 -1.876877 -2.009597\n",
       "..        ...       ...       ...\n",
       "995 -0.155155 -0.579580 -1.304476\n",
       "996 -0.567568  2.189189  4.708195\n",
       "997  0.781782 -0.465465 -0.856264\n",
       "998 -0.111111 -0.855856 -1.916291\n",
       "999 -0.281281  0.981982  2.125421\n",
       "\n",
       "[1000 rows x 3 columns]"
      ]
     },
     "execution_count": 26,
     "metadata": {},
     "output_type": "execute_result"
    }
   ],
   "source": [
    "df"
   ]
  },
  {
   "cell_type": "markdown",
   "id": "32a049a4-e0a7-497e-b77d-68b123ccaa0d",
   "metadata": {},
   "source": [
    "## R Code\n",
    "\n",
    "```R\n",
    "#-------------------------------------------------------------------------------\n",
    "#Learn MLE from first 500\n",
    "#-------------------------------------------------------------------------------\n",
    "\n",
    "buildFn <- function(x)\n",
    "{\n",
    "  ret.mod <- dlm::dlmModReg(X = as.matrix(df[1:500, c(\"x1\", \"x2\")]),\n",
    "                            dV = exp(x[3]), \n",
    "                            dW = exp(x[1:2]), \n",
    "                            addInt = FALSE)\n",
    "  ret.mod\n",
    "}\n",
    "\n",
    "fit <- dlm::dlmMLE( y     = df$y[1:500], \n",
    "                    build = buildFn, \n",
    "                    parm  = log(c(rep(1e2, 2), 1e2)),\n",
    "                    lower = log(rep(1e-5, 3)), \n",
    "                    hessian=TRUE)\n",
    "\n",
    "\n",
    "mod.res <- buildFn(fit$par)\n",
    "avarLog <- solve(fit$hessian)\n",
    "avar <- diag(exp(fit$par)) %*% avarLog %*% diag(exp(fit$par)) # Delta method\n",
    "V(mod.res)\n",
    "W(mod.res)\n",
    "\n",
    "```"
   ]
  },
  {
   "cell_type": "markdown",
   "id": "76975ecf-9635-49af-a289-65ad78f89884",
   "metadata": {},
   "source": [
    "\n",
    "# https://rpy2.github.io/doc/v3.5.x/html/robjects_functions.html\n",
    "\n",
    "# SEEMS to much of work... let me stop here and look for proper implemtation of library\n",
    "found one here:\n",
    "https://brandonwillard.github.io/dynamic-linear-models-in-theano.html\n"
   ]
  },
  {
   "cell_type": "code",
   "execution_count": 47,
   "id": "e52bc5b5-0e20-4beb-b96d-2cdcf8e24153",
   "metadata": {},
   "outputs": [],
   "source": [
    "r_func_code = \"\"\"\n",
    "\n",
    "function(x){\n",
    "   c(mean(x), sd(x))\n",
    "}\n",
    "\"\"\"\n",
    "\n",
    "r_func = robjects.r(r_func_code)\n",
    "\n",
    "py_func = robjects.functions.wrap_r_function(r_func, 'py_func')\n"
   ]
  },
  {
   "cell_type": "code",
   "execution_count": 49,
   "id": "82cf9189-b581-4f29-9543-0a0efdb5061b",
   "metadata": {},
   "outputs": [
    {
     "data": {
      "text/html": [
       "\n",
       "        <span>FloatVector with 2 elements.</span>\n",
       "        <table>\n",
       "        <tbody>\n",
       "          <tr>\n",
       "          \n",
       "            <td>\n",
       "            2.000000\n",
       "            </td>\n",
       "          \n",
       "            <td>\n",
       "            1.000000\n",
       "            </td>\n",
       "          \n",
       "          </tr>\n",
       "        </tbody>\n",
       "        </table>\n",
       "        "
      ],
      "text/plain": [
       "<rpy2.robjects.vectors.FloatVector object at 0x150cad580> [RTYPES.REALSXP]\n",
       "R classes: ('numeric',)\n",
       "[2.000000, 1.000000]"
      ]
     },
     "execution_count": 49,
     "metadata": {},
     "output_type": "execute_result"
    }
   ],
   "source": [
    "py_func(robjects.FloatVector([1,2,3]))"
   ]
  },
  {
   "cell_type": "code",
   "execution_count": 67,
   "id": "c1bc134e-0c9f-49df-99dd-2687ca25b7e0",
   "metadata": {},
   "outputs": [],
   "source": [
    "# Try decorator kind - \n",
    "\n",
    "r_func_code = \"\"\"\n",
    "function(const){\n",
    "  # MLE Estimator\n",
    "  finternal <- function(x){\n",
    "    c(mean(x) + const, sd(x) + const)\n",
    "  }\n",
    "  finternal\n",
    "}\n",
    "\"\"\"\n",
    "\n",
    "r_func = robjects.r(r_func_code)\n",
    "\n",
    "py_func_g = robjects.functions.wrap_r_function(r_func, 'g')\n"
   ]
  },
  {
   "cell_type": "code",
   "execution_count": 68,
   "id": "f6f60717-3d01-4f7b-9794-e4063fd0dd62",
   "metadata": {},
   "outputs": [
    {
     "data": {
      "text/html": [
       "\n",
       "        <span>FloatVector with 2 elements.</span>\n",
       "        <table>\n",
       "        <tbody>\n",
       "          <tr>\n",
       "          \n",
       "            <td>\n",
       "            12.000000\n",
       "            </td>\n",
       "          \n",
       "            <td>\n",
       "            11.000000\n",
       "            </td>\n",
       "          \n",
       "          </tr>\n",
       "        </tbody>\n",
       "        </table>\n",
       "        "
      ],
      "text/plain": [
       "<rpy2.robjects.vectors.FloatVector object at 0x150cb6a80> [RTYPES.REALSXP]\n",
       "R classes: ('numeric',)\n",
       "[12.000000, 11.000000]"
      ]
     },
     "execution_count": 68,
     "metadata": {},
     "output_type": "execute_result"
    }
   ],
   "source": [
    "py_func_g(10)(robjects.FloatVector([1,2,3]))"
   ]
  },
  {
   "cell_type": "code",
   "execution_count": 92,
   "id": "2ec49ab0-c329-48ee-8664-1b0f5a030ac1",
   "metadata": {},
   "outputs": [],
   "source": [
    "## We try MLE estimator of Variance matrices\n",
    "# I think we can do exponential moveing average estimator of covariance matrix as estimate of V then \n",
    "# we may not need MLE estimator\n",
    "\n",
    "r_func_code_mle = \"\"\"\n",
    "function(df){\n",
    "  # MLE estimator\n",
    "  buildFn <- function(x)\n",
    "  {\n",
    "      ret.mod <- dlm::dlmModReg(X = as.matrix(df[1:500, c(\"x1\", \"x2\")]),\n",
    "                            dV = exp(x[3]), \n",
    "                            dW = exp(x[1:2]), \n",
    "                            addInt = FALSE)\n",
    "      ret.mod\n",
    "  }\n",
    "  fit <- dlm::dlmMLE( y  = df$y[1:500], \n",
    "                    build = buildFn, \n",
    "                    parm  = log(c(rep(1e2, 2), 1e2)),\n",
    "                    lower = log(rep(1e-5, 3)), \n",
    "                    hessian=TRUE)\n",
    "  mod.res <- buildFn(fit$par)\n",
    "  avarLog <- solve(fit$hessian)\n",
    "  avar <- diag(exp(fit$par)) %*% avarLog %*% diag(exp(fit$par))  \n",
    "  return(list(V = V(mod.res), W =  W(mod.res)))\n",
    "}\n",
    "\"\"\"\n",
    "\n",
    "r_func_mle = robjects.r(r_func_code_mle)\n",
    "\n",
    "py_func_mle = robjects.functions.wrap_r_function(r_func_mle, 'mle')\n",
    "\n"
   ]
  },
  {
   "cell_type": "code",
   "execution_count": 93,
   "id": "c45bd508-5aab-4ccf-936e-492cfe829f31",
   "metadata": {},
   "outputs": [
    {
     "name": "stdout",
     "output_type": "stream",
     "text": [
      "x1\n",
      "x2\n",
      "y\n"
     ]
    }
   ],
   "source": [
    "## dict(df)\n",
    "\n",
    "d = {}\n",
    "for col in df.columns:\n",
    "    print(col)\n",
    "    d[col] = robjects.FloatVector(df[col].values)\n",
    "\n",
    "df_r = robjects.DataFrame(d)\n",
    "\n",
    "result_mle = py_func_mle(df_r)\n"
   ]
  },
  {
   "cell_type": "code",
   "execution_count": 98,
   "id": "52cf78b6-425a-4b19-a4f4-2e297d858c88",
   "metadata": {},
   "outputs": [
    {
     "name": "stdout",
     "output_type": "stream",
     "text": [
      "             [,1]\n",
      "[1,] 7.025874e-05\n",
      "\n",
      "             [,1]         [,2]\n",
      "[1,] 7.089558e-05 0.0000000000\n",
      "[2,] 0.000000e+00 0.0004870542\n",
      "\n"
     ]
    }
   ],
   "source": [
    "result_mle.names\n",
    "print(result_mle.rx2('V'))\n",
    "print(result_mle.rx2('W'))"
   ]
  },
  {
   "cell_type": "code",
   "execution_count": null,
   "id": "ea2e428f-9412-492d-8cc0-bc4791ed628a",
   "metadata": {},
   "outputs": [],
   "source": []
  }
 ],
 "metadata": {
  "kernelspec": {
   "display_name": "strat",
   "language": "python",
   "name": "strat"
  },
  "language_info": {
   "codemirror_mode": {
    "name": "ipython",
    "version": 3
   },
   "file_extension": ".py",
   "mimetype": "text/x-python",
   "name": "python",
   "nbconvert_exporter": "python",
   "pygments_lexer": "ipython3",
   "version": "3.8.20"
  }
 },
 "nbformat": 4,
 "nbformat_minor": 5
}
