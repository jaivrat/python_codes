{
 "cells": [
  {
   "cell_type": "markdown",
   "metadata": {},
   "source": [
    "### PCA\n",
    "\n",
    "\n",
    "We try here to create data and apply the scikit learn's PCA api - and see how it works"
   ]
  },
  {
   "cell_type": "markdown",
   "metadata": {},
   "source": [
    "##### 1. Creating data\n",
    "\n",
    "Let us do in these steps\n",
    "1. Let data be 15 dimensional( ie $R^{15}$ and having N=1000 data points.\n",
    "2. We create 5 PC vectors (challenge: how to create 5 orthogonal $R^{15}$-vectors?)  - use scipy\n",
    "3. Create each data point as a linear combination of these vectors\n"
   ]
  },
  {
   "cell_type": "code",
   "execution_count": 61,
   "metadata": {},
   "outputs": [
    {
     "name": "stdout",
     "output_type": "stream",
     "text": [
      "(3, 3)\n"
     ]
    }
   ],
   "source": [
    "from scipy.stats import ortho_group\n",
    "from scipy import random\n",
    "import numpy as np\n",
    "from numpy import random as npr\n",
    "\n",
    "npr.seed(seed=144)\n",
    "\n",
    "\n",
    "def get_k_ndim_pc_vectors(k, n):\n",
    "    x = ortho_group.rvs(dim = n)\n",
    "    return x[range(k),:]\n",
    "\n",
    "#x = get_k_n_dim_pc_vectors(15, 5)\n",
    "\n",
    "n = 3    #dimensions\n",
    "num_main_pcs = 2 #number of main explaining components\n",
    "tot = 25 #Total number of points\n",
    "pc_vecs = get_k_ndim_pc_vectors(n, n)\n",
    "\n",
    "#Though rows and columns are all orthogonal\n",
    "pc_vecs_as_rows = pc_vecs.T\n",
    "\n",
    "#pc_vecs\n",
    "print(pc_vecs_as_rows.shape)"
   ]
  },
  {
   "cell_type": "code",
   "execution_count": 62,
   "metadata": {},
   "outputs": [
    {
     "data": {
      "text/plain": [
       "array([[ 1., -0.,  0.],\n",
       "       [-0.,  1., -0.],\n",
       "       [ 0., -0.,  1.]])"
      ]
     },
     "execution_count": 62,
     "metadata": {},
     "output_type": "execute_result"
    }
   ],
   "source": [
    "# Let us make sure these are orthogonal - It will be like identity vector\n",
    "pc_vecs.dot(pc_vecs.T).round(2)\n"
   ]
  },
  {
   "cell_type": "markdown",
   "metadata": {},
   "source": [
    "Let us do linear combination of these  PC vectors($R^{15}$) to produce $N=1000$ points.\n",
    "Evey point will have a different linear combination. So we get **pc_loadings** of $5 x 1000$ so that we get 15 x 1000 dim matrix (whose each column will be generated point ie $R^{15}$ vector)\n",
    "\n",
    "We also add noise loadings **random_noise**, these loadings will be small as compared to actual participating PC's which are first to 5th. These noisy loadings will add in orthogonal directions to span of first five PCs (which are going to explain for most variation)."
   ]
  },
  {
   "cell_type": "code",
   "execution_count": 63,
   "metadata": {},
   "outputs": [
    {
     "name": "stderr",
     "output_type": "stream",
     "text": [
      "/Users/jvsingh/anaconda3/lib/python3.7/site-packages/ipykernel_launcher.py:1: DeprecationWarning: This function is deprecated. Please call randint(1, 10 + 1) instead\n",
      "  \"\"\"Entry point for launching an IPython kernel.\n"
     ]
    },
    {
     "data": {
      "text/plain": [
       "array([[ 2,  9,  7,  3,  3,  2,  2,  3,  7,  6,  5,  3,  8,  8,  3,  2,\n",
       "         5,  8,  4,  7,  5,  1,  1,  2,  2],\n",
       "       [ 6,  1,  5,  5,  5,  4,  6,  9,  4,  2,  7, 10,  2,  1,  1,  8,\n",
       "         7,  4,  6,  3,  7,  4, 10,  1,  7]])"
      ]
     },
     "execution_count": 63,
     "metadata": {},
     "output_type": "execute_result"
    }
   ],
   "source": [
    "npr.random_integers(low = 1, high=10, size=(num_main_pcs,tot))\n"
   ]
  },
  {
   "cell_type": "code",
   "execution_count": 64,
   "metadata": {},
   "outputs": [
    {
     "name": "stdout",
     "output_type": "stream",
     "text": [
      "(2, 25)\n",
      "[[-4  2  1 -1  3  5 -1  0  5 -1 -4  3 -4  0  0 -2 -2 -2  2 -1  1  3  5 -3\n",
      "  -4]\n",
      " [ 0  0 -4  2  3 -3  3  3 -1  3  2 -2  1 -4  5  4 -2  4  4 -4 -1 -4  2  2\n",
      "   4]]\n"
     ]
    },
    {
     "name": "stderr",
     "output_type": "stream",
     "text": [
      "/Users/jvsingh/anaconda3/lib/python3.7/site-packages/ipykernel_launcher.py:2: DeprecationWarning: This function is deprecated. Please call randint(1, 10 + 1) instead\n",
      "  \n"
     ]
    }
   ],
   "source": [
    "# Main PC loading coefficients for 1000 points\n",
    "pc_loadings = npr.random_integers(low = 1, high=10, size=(num_main_pcs,tot)) - 5\n",
    "print(pc_loadings.shape)\n",
    "print(pc_loadings)"
   ]
  },
  {
   "cell_type": "code",
   "execution_count": 65,
   "metadata": {},
   "outputs": [
    {
     "name": "stdout",
     "output_type": "stream",
     "text": [
      "final_pc_loadings shape:(25, 3)\n"
     ]
    },
    {
     "data": {
      "text/plain": [
       "array([[-4.e+00,  0.e+00, -8.e-03],\n",
       "       [ 2.e+00,  0.e+00,  5.e-03],\n",
       "       [ 1.e+00, -4.e+00, -7.e-03],\n",
       "       [-1.e+00,  2.e+00,  7.e-03],\n",
       "       [ 3.e+00,  3.e+00,  6.e-03],\n",
       "       [ 5.e+00, -3.e+00, -8.e-03],\n",
       "       [-1.e+00,  3.e+00,  1.e-03],\n",
       "       [ 0.e+00,  3.e+00,  2.e-03],\n",
       "       [ 5.e+00, -1.e+00,  8.e-03],\n",
       "       [-1.e+00,  3.e+00,  2.e-03],\n",
       "       [-4.e+00,  2.e+00, -9.e-03],\n",
       "       [ 3.e+00, -2.e+00,  9.e-03],\n",
       "       [-4.e+00,  1.e+00,  5.e-03],\n",
       "       [ 0.e+00, -4.e+00, -9.e-03],\n",
       "       [ 0.e+00,  5.e+00, -9.e-03],\n",
       "       [-2.e+00,  4.e+00,  2.e-03],\n",
       "       [-2.e+00, -2.e+00, -7.e-03],\n",
       "       [-2.e+00,  4.e+00, -9.e-03],\n",
       "       [ 2.e+00,  4.e+00, -2.e-03],\n",
       "       [-1.e+00, -4.e+00,  6.e-03],\n",
       "       [ 1.e+00, -1.e+00, -9.e-03],\n",
       "       [ 3.e+00, -4.e+00,  2.e-03],\n",
       "       [ 5.e+00,  2.e+00, -6.e-03],\n",
       "       [-3.e+00,  2.e+00, -9.e-03],\n",
       "       [-4.e+00,  4.e+00,  1.e-03]])"
      ]
     },
     "execution_count": 65,
     "metadata": {},
     "output_type": "execute_result"
    }
   ],
   "source": [
    "# Orthogonal loading coefficients for 1000 points\n",
    "random_noise = random.uniform(low = -0.01, high = + 0.01, size = ((n-num_main_pcs),tot)) # npr.normal(size = ((n-num_main_pcs),tot)) * 0.001\n",
    "final_pc_loadings = np.concatenate((pc_loadings, random_noise), axis=0).T\n",
    "print(\"final_pc_loadings shape:\" + str(final_pc_loadings.shape))\n",
    "np.round(final_pc_loadings,3)"
   ]
  },
  {
   "cell_type": "code",
   "execution_count": 66,
   "metadata": {},
   "outputs": [
    {
     "data": {
      "text/plain": [
       "array([[-0.99602866, -0.07097906,  0.05374832],\n",
       "       [-0.02515794,  0.80346097,  0.59482564],\n",
       "       [ 0.08540484, -0.59111119,  0.80205584]])"
      ]
     },
     "execution_count": 66,
     "metadata": {},
     "output_type": "execute_result"
    }
   ],
   "source": [
    "pc_vecs_as_rows"
   ]
  },
  {
   "cell_type": "code",
   "execution_count": 67,
   "metadata": {},
   "outputs": [
    {
     "name": "stdout",
     "output_type": "stream",
     "text": [
      "Shape all_points: (25, 3)\n",
      "[[ 3.98345612  0.28847406 -0.22117761]\n",
      " [-1.99163805 -0.14486001  0.1114341 ]\n",
      " [-0.89600422 -3.28061957 -2.33125765]\n",
      " [ 0.94626979  1.67404585  1.14113387]\n",
      " [-3.06304894  2.19390997  1.95051943]\n",
      " [-4.90532197 -2.76076222 -1.5218629 ]\n",
      " [ 0.9206309   2.48083561  1.73144281]\n",
      " [-0.07532413  2.40934695  1.78588259]\n",
      " [-4.95429544 -1.16313143 -0.31960482]\n",
      " [ 0.92076033  2.47993981  1.73265829]\n",
      " [ 3.93306435  1.89592129  0.96776094]\n",
      " [-2.9369712  -1.82538855 -1.02090366]\n",
      " [ 3.95940368  1.08428353  0.38403007]\n",
      " [ 0.09982187 -3.20823852 -2.38690828]\n",
      " [-0.12654306  4.02251917  2.96705311]\n",
      " [ 1.89155775  3.35488717  2.27304723]\n",
      " [ 2.04178296 -1.46087864 -1.30269095]\n",
      " [ 1.89067985  3.36096338  2.26480266]\n",
      " [-2.09285143  3.07300955  2.48527439]\n",
      " [ 1.09717258 -3.14640972 -2.42824096]\n",
      " [-0.97161791 -0.86926857 -0.54809428]\n",
      " [-2.88724935 -3.42819909 -2.21613355]\n",
      " [-5.03097046  1.25556538  1.45359131]\n",
      " [ 2.93697294  1.82537657  1.02091992]\n",
      " [ 3.88360626  3.49690629  2.16546783]]\n"
     ]
    }
   ],
   "source": [
    "#generate all 1000 points\n",
    "all_points   = final_pc_loadings.dot(pc_vecs_as_rows) #+ random_noise\n",
    "np.savetxt(\"/tmp/all_points.csv\", all_points, delimiter=\",\")\n",
    "print(\"Shape all_points: \" + str(all_points.shape))\n",
    "print(all_points)"
   ]
  },
  {
   "cell_type": "markdown",
   "metadata": {},
   "source": [
    "all_points is a **tot x n** where each column is the point as mentioned before\n",
    "\n",
    "##### ------------------------  Data generation part completes here ------------------------ #####\n",
    "\n",
    "Let us start doing PCA of **all_points** and see if we can recover the components(ie PCs and the coefficients **pc_loadings** and data back)\n"
   ]
  },
  {
   "cell_type": "code",
   "execution_count": 68,
   "metadata": {},
   "outputs": [
    {
     "name": "stdout",
     "output_type": "stream",
     "text": [
      "Shape of all_points:(25, 3)\n",
      "means(1, 3):\n",
      "[[-0.05706627  0.54432913  0.40552576]]\n",
      "sds (1, 3):\n",
      "[[2.80102864 2.41998939 1.69526724]]\n",
      "all_points shape:(25, 3)\n"
     ]
    }
   ],
   "source": [
    "print(\"Shape of all_points:\" + str(all_points.shape))\n",
    "#Standardising \n",
    "means_of_15_dims = np.apply_over_axes(lambda x, axis: np.mean(x, axis = axis), all_points, axes = 0)\n",
    "means_of_15_dims\n",
    "print(\"means{}:\".format(means_of_15_dims.shape))\n",
    "print(means_of_15_dims)\n",
    "\n",
    "sd_of_15_dims = np.apply_over_axes(lambda x, axis: np.std(x, axis = axis, ddof=0), all_points, axes = 0)\n",
    "sd_of_15_dims\n",
    "print(\"sds {}:\".format(sd_of_15_dims.shape))\n",
    "print(sd_of_15_dims)\n",
    "\n",
    "print(\"all_points shape:\" + str(all_points.shape))"
   ]
  },
  {
   "cell_type": "code",
   "execution_count": 69,
   "metadata": {},
   "outputs": [
    {
     "name": "stdout",
     "output_type": "stream",
     "text": [
      "shape scaled: (25, 3)\n"
     ]
    },
    {
     "data": {
      "text/plain": [
       "array([[ 1.44251377, -0.1057257 , -0.36967821],\n",
       "       [-0.69066476, -0.28479015, -0.17347805],\n",
       "       [-0.29951067, -1.58056425, -1.61436694],\n",
       "       [ 0.35820271,  0.46682714,  0.43391867],\n",
       "       [-1.07317098,  0.68164796,  0.911357  ],\n",
       "       [-1.73088401, -1.36574622, -1.1369232 ],\n",
       "       [ 0.34904933,  0.8002128 ,  0.78212864],\n",
       "       [-0.00651827,  0.7706719 ,  0.81424144],\n",
       "       [-1.74836812, -0.70556531, -0.42773821],\n",
       "       [ 0.34909554,  0.79984263,  0.78284562],\n",
       "       [ 1.42452332,  0.5585116 ,  0.33164989],\n",
       "       [-1.02815976, -0.97922647, -0.84141862],\n",
       "       [ 1.43392677,  0.22312263, -0.01267982],\n",
       "       [ 0.0560109 , -1.55065459, -1.647194  ],\n",
       "       [-0.02480403,  1.43727491,  1.51098735],\n",
       "       [ 0.69568158,  1.16139271,  1.1016089 ],\n",
       "       [ 0.74931373, -0.82860189, -1.0076386 ],\n",
       "       [ 0.69536816,  1.16390355,  1.09674561],\n",
       "       [-0.72679912,  1.04491385,  1.22679692],\n",
       "       [ 0.41207678, -1.52510539, -1.67157522],\n",
       "       [-0.32650563, -0.58413384, -0.562519  ],\n",
       "       [-1.01040848, -1.64154778, -1.54645783],\n",
       "       [-1.77574199,  0.29390056,  0.61823029],\n",
       "       [ 1.06890703,  0.52936077,  0.36300717],\n",
       "       [ 1.4068662 ,  1.22007856,  1.03815023]])"
      ]
     },
     "execution_count": 69,
     "metadata": {},
     "output_type": "execute_result"
    }
   ],
   "source": [
    "scaled = (all_points - means_of_15_dims)/sd_of_15_dims\n",
    "print(\"shape scaled: \" + str(scaled.shape))\n",
    "scaled"
   ]
  },
  {
   "cell_type": "code",
   "execution_count": 70,
   "metadata": {},
   "outputs": [
    {
     "data": {
      "text/plain": [
       "array([[ 1.44251377, -0.1057257 , -0.36967821],\n",
       "       [-0.69066476, -0.28479015, -0.17347805],\n",
       "       [-0.29951067, -1.58056425, -1.61436694],\n",
       "       [ 0.35820271,  0.46682714,  0.43391867],\n",
       "       [-1.07317098,  0.68164796,  0.911357  ],\n",
       "       [-1.73088401, -1.36574622, -1.1369232 ],\n",
       "       [ 0.34904933,  0.8002128 ,  0.78212864],\n",
       "       [-0.00651827,  0.7706719 ,  0.81424144],\n",
       "       [-1.74836812, -0.70556531, -0.42773821],\n",
       "       [ 0.34909554,  0.79984263,  0.78284562],\n",
       "       [ 1.42452332,  0.5585116 ,  0.33164989],\n",
       "       [-1.02815976, -0.97922647, -0.84141862],\n",
       "       [ 1.43392677,  0.22312263, -0.01267982],\n",
       "       [ 0.0560109 , -1.55065459, -1.647194  ],\n",
       "       [-0.02480403,  1.43727491,  1.51098735],\n",
       "       [ 0.69568158,  1.16139271,  1.1016089 ],\n",
       "       [ 0.74931373, -0.82860189, -1.0076386 ],\n",
       "       [ 0.69536816,  1.16390355,  1.09674561],\n",
       "       [-0.72679912,  1.04491385,  1.22679692],\n",
       "       [ 0.41207678, -1.52510539, -1.67157522],\n",
       "       [-0.32650563, -0.58413384, -0.562519  ],\n",
       "       [-1.01040848, -1.64154778, -1.54645783],\n",
       "       [-1.77574199,  0.29390056,  0.61823029],\n",
       "       [ 1.06890703,  0.52936077,  0.36300717],\n",
       "       [ 1.4068662 ,  1.22007856,  1.03815023]])"
      ]
     },
     "execution_count": 70,
     "metadata": {},
     "output_type": "execute_result"
    }
   ],
   "source": [
    "from sklearn.preprocessing import StandardScaler\n",
    "x_transformed = StandardScaler().fit_transform(all_points)\n",
    "x_transformed"
   ]
  },
  {
   "cell_type": "markdown",
   "metadata": {},
   "source": [
    "We see above that Scikit's standard scalar iz just z-scoring as we do directly in **scaled**"
   ]
  },
  {
   "cell_type": "code",
   "execution_count": 71,
   "metadata": {},
   "outputs": [],
   "source": [
    "import pandas as pd\n",
    "in_data = pd.DataFrame(x_transformed)"
   ]
  },
  {
   "cell_type": "code",
   "execution_count": 72,
   "metadata": {},
   "outputs": [
    {
     "data": {
      "text/plain": [
       "PCA(n_components=3, svd_solver='full')"
      ]
     },
     "execution_count": 72,
     "metadata": {},
     "output_type": "execute_result"
    }
   ],
   "source": [
    "from sklearn.decomposition import PCA\n",
    "pca = PCA(n_components = in_data.shape[1], svd_solver = 'full')\n",
    "pca.fit(in_data)"
   ]
  },
  {
   "cell_type": "code",
   "execution_count": 73,
   "metadata": {},
   "outputs": [
    {
     "name": "stdout",
     "output_type": "stream",
     "text": [
      "[7.13028215e-01 2.86968494e-01 3.29091859e-06]\n",
      "[0.71302822 0.99999671 1.        ]\n"
     ]
    }
   ],
   "source": [
    "print(pca.explained_variance_ratio_)\n",
    "print(np.cumsum(pca.explained_variance_ratio_))"
   ]
  },
  {
   "cell_type": "code",
   "execution_count": 74,
   "metadata": {},
   "outputs": [],
   "source": [
    "# Let us try to discover how many components are needed\n",
    "# var_ret is [0,1], which is fraction of total variance retained\n",
    "def get_num_components(in_mat, var_ret):\n",
    "    pca = PCA(n_components = in_mat.shape[1], svd_solver = 'full')\n",
    "    pca.fit(in_mat)\n",
    "    expl = pca.explained_variance_ratio_\n",
    "    needed_components = 1 + np.min(np.where(np.cumsum(expl/sum(expl)) >= var_ret))\n",
    "    return needed_components"
   ]
  },
  {
   "cell_type": "code",
   "execution_count": 75,
   "metadata": {},
   "outputs": [
    {
     "data": {
      "text/plain": [
       "2"
      ]
     },
     "execution_count": 75,
     "metadata": {},
     "output_type": "execute_result"
    }
   ],
   "source": [
    "explained_by = get_num_components(in_data, 0.99)\n",
    "explained_by"
   ]
  },
  {
   "cell_type": "code",
   "execution_count": 76,
   "metadata": {},
   "outputs": [
    {
     "data": {
      "text/plain": [
       "array([[-0.3445242 , -0.67646012, -0.6509261 ],\n",
       "       [-0.93093624,  0.15675175,  0.32982815],\n",
       "       [ 0.12108178, -0.71960447,  0.68374601]])"
      ]
     },
     "execution_count": 76,
     "metadata": {},
     "output_type": "execute_result"
    }
   ],
   "source": [
    "from sklearn.decomposition import PCA\n",
    "pca = PCA(svd_solver = 'full')\n",
    "pca.fit(in_data)\n",
    "pca.components_"
   ]
  },
  {
   "cell_type": "markdown",
   "metadata": {},
   "source": [
    "As expected, we have **explained_by** principal components which explain the variance in the data."
   ]
  },
  {
   "cell_type": "code",
   "execution_count": 77,
   "metadata": {},
   "outputs": [
    {
     "data": {
      "text/plain": [
       "array([[-0.3445242 , -0.67646012, -0.6509261 ],\n",
       "       [-0.93093624,  0.15675175,  0.32982815],\n",
       "       [ 0.12108178, -0.71960447,  0.68374601]])"
      ]
     },
     "execution_count": 77,
     "metadata": {},
     "output_type": "execute_result"
    }
   ],
   "source": [
    "#from sklearn.decomposition import PCA\n",
    "#pca = PCA(n_components = explained_by)\n",
    "#pca.fit(in_data)\n",
    "#pca.components_\n",
    "pca.explained_variance_ratio_\n",
    "pca.components_"
   ]
  },
  {
   "cell_type": "code",
   "execution_count": 78,
   "metadata": {},
   "outputs": [
    {
     "data": {
      "text/plain": [
       "(3, 3)"
      ]
     },
     "execution_count": 78,
     "metadata": {},
     "output_type": "execute_result"
    }
   ],
   "source": [
    "pca.components_.shape"
   ]
  },
  {
   "cell_type": "markdown",
   "metadata": {},
   "source": [
    "**components_** : ndarray of shape (n_components, n_features)\n",
    "Principal axes in feature space, representing the directions of maximum variance in the data. The components are sorted by explained_variance_.\n"
   ]
  },
  {
   "cell_type": "code",
   "execution_count": 79,
   "metadata": {},
   "outputs": [
    {
     "data": {
      "text/plain": [
       "array([-0.3445242 , -0.67646012, -0.6509261 ])"
      ]
     },
     "execution_count": 79,
     "metadata": {},
     "output_type": "execute_result"
    }
   ],
   "source": [
    "pca.components_[0,:]"
   ]
  },
  {
   "cell_type": "code",
   "execution_count": 80,
   "metadata": {},
   "outputs": [
    {
     "name": "stdout",
     "output_type": "stream",
     "text": [
      "(3, 3)\n"
     ]
    },
    {
     "data": {
      "text/plain": [
       "array([[ 1., -0., -0.],\n",
       "       [-0.,  1., -0.],\n",
       "       [-0., -0.,  1.]])"
      ]
     },
     "execution_count": 80,
     "metadata": {},
     "output_type": "execute_result"
    }
   ],
   "source": [
    "## PC vectors are orthogonal to each other\n",
    "print(pca.components_.shape)\n",
    "np.round(pca.components_.dot(pca.components_.T),2)"
   ]
  },
  {
   "cell_type": "code",
   "execution_count": 81,
   "metadata": {},
   "outputs": [
    {
     "data": {
      "text/plain": [
       "array([[-0.3445242 , -0.67646012, -0.6509261 ],\n",
       "       [-0.93093624,  0.15675175,  0.32982815],\n",
       "       [ 0.12108178, -0.71960447,  0.68374601]])"
      ]
     },
     "execution_count": 81,
     "metadata": {},
     "output_type": "execute_result"
    }
   ],
   "source": [
    "#Lets us see if our components are perpendicular/prallel to our starting generator vectors pc_vecs \n",
    "pca.components_  #5 x 15\n"
   ]
  },
  {
   "cell_type": "code",
   "execution_count": 82,
   "metadata": {},
   "outputs": [
    {
     "data": {
      "text/plain": [
       "[0.3561842968178682, -0.9220293201736567, -0.15163996650113476]"
      ]
     },
     "execution_count": 82,
     "metadata": {},
     "output_type": "execute_result"
    }
   ],
   "source": [
    "[ pca.components_[0,:].dot(pc_vecs_as_rows[i,:].T) for i in range(n)]"
   ]
  },
  {
   "cell_type": "code",
   "execution_count": 83,
   "metadata": {},
   "outputs": [],
   "source": [
    "#pca.fit?"
   ]
  },
  {
   "cell_type": "code",
   "execution_count": 99,
   "metadata": {},
   "outputs": [
    {
     "name": "stdout",
     "output_type": "stream",
     "text": [
      "Explained Variance Ratios:\n",
      "[0.99244289 0.00755711]\n",
      "Singular Values:\n",
      "[6.30061232 0.54980396]\n",
      "Components:\n",
      "[[-0.83849224 -0.54491354]\n",
      " [ 0.54491354 -0.83849224]]\n",
      "Expect orthogonal components give identity matrix:\n",
      "[[ 1.00000000e+00 -3.40594983e-18]\n",
      " [-3.40594983e-18  1.00000000e+00]]\n",
      "degree of first:33.018755512710904\n",
      "degree of second:-56.981244487289096\n"
     ]
    }
   ],
   "source": [
    "### example from sklearn documentation\n",
    "import numpy as np\n",
    "from sklearn.decomposition import PCA\n",
    "X = np.array([[-1, -1], [-2, -1], [-3, -2], [1, 1], [2, 1], [3, 2]])\n",
    "pca = PCA(n_components=2)\n",
    "pca.fit(X)\n",
    "\n",
    "print(\"Explained Variance Ratios:\")\n",
    "print(pca.explained_variance_ratio_)\n",
    "\n",
    "print(\"Singular Values:\")\n",
    "print(pca.singular_values_)\n",
    "\n",
    "print(\"Components:\")\n",
    "print(pca.components_)\n",
    "\n",
    "\n",
    "print(\"Expect orthogonal components give identity matrix:\")\n",
    "print(pca.components_.dot(pca.components_.T))\n",
    "\n",
    "#Lets geometrically see orientation of vectors\n",
    "import math\n",
    "print(\"degree of first:\" + str(math.atan(pca.components_[0,1]/pca.components_[0,0]) * (180.0/math.pi)))\n",
    "print(\"degree of second:\" + str(math.atan(pca.components_[1,1]/pca.components_[1,0]) * (180.0/math.pi)))\n"
   ]
  },
  {
   "cell_type": "code",
   "execution_count": 96,
   "metadata": {},
   "outputs": [
    {
     "data": {
      "text/plain": [
       "90.0"
      ]
     },
     "execution_count": 96,
     "metadata": {},
     "output_type": "execute_result"
    }
   ],
   "source": [
    "np.abs(math.atan(pca.components_[0,1]/pca.components_[0,0]) * (180.0/math.pi)) + \\\n",
    "np.abs(math.atan(pca.components_[1,1]/pca.components_[1,0]) * (180.0/math.pi))"
   ]
  },
  {
   "cell_type": "code",
   "execution_count": 100,
   "metadata": {},
   "outputs": [
    {
     "data": {
      "image/png": "[encoded data removed]",
      "text/plain": [
       "<Figure size 432x288 with 1 Axes>"
      ]
     },
     "metadata": {},
     "output_type": "display_data"
    }
   ],
   "source": [
    "%matplotlib inline\n",
    "import matplotlib.pyplot as plt\n",
    "plt.style.use('seaborn-whitegrid')\n",
    "import numpy as np\n",
    "\n",
    "plt.plot(X[:,0], X[:,1], 'o', color='black');"
   ]
  },
  {
   "cell_type": "code",
   "execution_count": null,
   "metadata": {},
   "outputs": [],
   "source": []
  }
 ],
 "metadata": {
  "kernelspec": {
   "display_name": "Python 3",
   "language": "python",
   "name": "python3"
  },
  "language_info": {
   "codemirror_mode": {
    "name": "ipython",
    "version": 3
   },
   "file_extension": ".py",
   "mimetype": "text/x-python",
   "name": "python",
   "nbconvert_exporter": "python",
   "pygments_lexer": "ipython3",
   "version": "3.7.9"
  }
 },
 "nbformat": 4,
 "nbformat_minor": 4
}
