{
 "cells": [
  {
   "cell_type": "markdown",
   "metadata": {},
   "source": [
    "First Tensorflow demo"
   ]
  },
  {
   "cell_type": "code",
   "execution_count": 3,
   "metadata": {},
   "outputs": [],
   "source": [
    "import numpy as np\n",
    "import os\n",
    "\n",
    "%matplotlib inline\n",
    "import matplotlib\n",
    "import matplotlib.pyplot as plt\n",
    "\n",
    "import time\n",
    "\n",
    "\n",
    "import tensorflow as  tf"
   ]
  },
  {
   "cell_type": "code",
   "execution_count": 19,
   "metadata": {
    "collapsed": true
   },
   "outputs": [],
   "source": [
    "def reset_graph(seed=42):\n",
    "    tf.reset_default_graph()\n",
    "    tf.set_random_seed(seed)\n",
    "    np.random.seed(seed)"
   ]
  },
  {
   "cell_type": "markdown",
   "metadata": {},
   "source": [
    "Exampple tried is evaluating $f(x,y) = x^2 y + y + 2$"
   ]
  },
  {
   "cell_type": "markdown",
   "metadata": {},
   "source": [
    "### Creating and running a graph"
   ]
  },
  {
   "cell_type": "code",
   "execution_count": 5,
   "metadata": {
    "collapsed": true
   },
   "outputs": [],
   "source": [
    "import tensorflow as tf"
   ]
  },
  {
   "cell_type": "code",
   "execution_count": 21,
   "metadata": {
    "collapsed": true
   },
   "outputs": [],
   "source": [
    "#create variables and default graph\n",
    "reset_graph()\n",
    "\n",
    "#Variables and constants\n",
    "x = tf.Variable(3, name=\"x\")\n",
    "y = tf.Variable(4, name=\"y\")\n",
    "a = tf.constant(2, name=\"a\")"
   ]
  },
  {
   "cell_type": "code",
   "execution_count": 22,
   "metadata": {},
   "outputs": [
    {
     "name": "stdout",
     "output_type": "stream",
     "text": [
      "True\n",
      "True\n",
      "True\n"
     ]
    }
   ],
   "source": [
    "# are these nodes on the graph\n",
    "print(x.graph is tf.get_default_graph())\n",
    "print(y.graph is tf.get_default_graph())\n",
    "print(a.graph is tf.get_default_graph())"
   ]
  },
  {
   "cell_type": "code",
   "execution_count": 23,
   "metadata": {},
   "outputs": [
    {
     "name": "stdout",
     "output_type": "stream",
     "text": [
      "\n",
      "<tf.Variable 'x:0' shape=() dtype=int32_ref>\n",
      "<class 'tensorflow.python.ops.variables.Variable'>\n",
      "\n",
      "<tf.Variable 'y:0' shape=() dtype=int32_ref>\n",
      "<class 'tensorflow.python.ops.variables.Variable'>\n",
      "\n",
      "Tensor(\"a:0\", shape=(), dtype=int32)\n",
      "<class 'tensorflow.python.framework.ops.Tensor'>\n"
     ]
    }
   ],
   "source": [
    "#What exactly is x, y, a\n",
    "for i in [x,y,a]:\n",
    "    print(\"\")\n",
    "    print(i)\n",
    "    print(type(i))"
   ]
  },
  {
   "cell_type": "code",
   "execution_count": 25,
   "metadata": {},
   "outputs": [],
   "source": [
    "#define function f(x,y)\n",
    "\n",
    "\n",
    "f = x * x * y + y + a"
   ]
  },
  {
   "cell_type": "code",
   "execution_count": 26,
   "metadata": {},
   "outputs": [
    {
     "data": {
      "text/plain": [
       "<tf.Tensor 'add_3:0' shape=() dtype=int32>"
      ]
     },
     "execution_count": 26,
     "metadata": {},
     "output_type": "execute_result"
    }
   ],
   "source": [
    "#Lazy evaluation : As of now only graph has been created\n",
    "f"
   ]
  },
  {
   "cell_type": "markdown",
   "metadata": {},
   "source": [
    "#### For evaluating we create a Tensorflow session\n",
    "\n",
    "A TF sessiono initializes all variables and evaluates the grapth. It pits grapth oprtatiob on a CPU or GPU(or a cluster) and holds all the variable values"
   ]
  },
  {
   "cell_type": "code",
   "execution_count": 27,
   "metadata": {},
   "outputs": [
    {
     "name": "stdout",
     "output_type": "stream",
     "text": [
      "a =  2\n",
      "result =  42\n"
     ]
    }
   ],
   "source": [
    "# A Verbose way:\n",
    "sess = tf.Session()\n",
    "sess.run(x.initializer)\n",
    "sess.run(y.initializer)\n",
    "result = sess.run(f)\n",
    "\n",
    "a_val = a.eval(session=sess) # A constant needs not be initialized\n",
    "print('a = ', a_val)\n",
    "print('result = ', result)\n",
    "sess.close()"
   ]
  },
  {
   "cell_type": "code",
   "execution_count": 28,
   "metadata": {},
   "outputs": [
    {
     "name": "stdout",
     "output_type": "stream",
     "text": [
      "a =  2\n",
      "result =  42\n"
     ]
    }
   ],
   "source": [
    "# Run a session with automatic closing at the end\n",
    "with tf.Session() as sess:\n",
    "    x.initializer.run()\n",
    "    y.initializer.run()\n",
    "    result = f.eval()  #\n",
    "    a_val = a.eval()\n",
    "    \n",
    "print('a = ', a_val)\n",
    "print('result = ', result)"
   ]
  },
  {
   "cell_type": "markdown",
   "metadata": {},
   "source": [
    "#### Initialization of all variables at once"
   ]
  },
  {
   "cell_type": "code",
   "execution_count": 29,
   "metadata": {},
   "outputs": [
    {
     "name": "stdout",
     "output_type": "stream",
     "text": [
      "42\n"
     ]
    }
   ],
   "source": [
    "init = tf.global_variables_initializer() #prepare an init node on the graph\n",
    "\n",
    "with tf.Session() as sess:\n",
    "    init.run() #initialize all the variables\n",
    "    result = f.eval()\n",
    "    \n",
    "print(result)"
   ]
  },
  {
   "cell_type": "code",
   "execution_count": 30,
   "metadata": {},
   "outputs": [
    {
     "data": {
      "text/plain": [
       "<tf.Operation 'init' type=NoOp>"
      ]
     },
     "execution_count": 30,
     "metadata": {},
     "output_type": "execute_result"
    }
   ],
   "source": [
    "init"
   ]
  },
  {
   "cell_type": "markdown",
   "metadata": {},
   "source": [
    "#### Lifecycle of a node value"
   ]
  },
  {
   "cell_type": "code",
   "execution_count": 31,
   "metadata": {},
   "outputs": [
    {
     "name": "stdout",
     "output_type": "stream",
     "text": [
      "10\n",
      "15\n"
     ]
    }
   ],
   "source": [
    "w = tf.constant(3)\n",
    "\n",
    "x = w + 2\n",
    "y = x + 5\n",
    "z = x * 3\n",
    "\n",
    "#int this example, code evaluates w ad x twice:\n",
    "with tf.Session() as sess:\n",
    "    print(y.eval()) #10\n",
    "    print(z.eval()) #15\n",
    "    \n"
   ]
  },
  {
   "cell_type": "markdown",
   "metadata": {},
   "source": [
    "All nodes values are dropped between runs, except variable values"
   ]
  },
  {
   "cell_type": "code",
   "execution_count": 32,
   "metadata": {},
   "outputs": [
    {
     "data": {
      "text/plain": [
       "<tf.Tensor 'add_4:0' shape=() dtype=int32>"
      ]
     },
     "execution_count": 32,
     "metadata": {},
     "output_type": "execute_result"
    }
   ],
   "source": [
    "x"
   ]
  },
  {
   "cell_type": "markdown",
   "metadata": {},
   "source": [
    "#### A more efficient evaluation of the Tensorflow graph"
   ]
  },
  {
   "cell_type": "code",
   "execution_count": 34,
   "metadata": {},
   "outputs": [
    {
     "name": "stdout",
     "output_type": "stream",
     "text": [
      "10\n",
      "15\n"
     ]
    }
   ],
   "source": [
    "# in this example, the evaluation of w and x only done once:\n",
    "with tf.Session() as sess:\n",
    "    y_val, z_val = sess.run([y,z])\n",
    "    print(y_val) #10\n",
    "    print(z_val) #15"
   ]
  },
  {
   "cell_type": "markdown",
   "metadata": {},
   "source": [
    "#### Reverse-mode autodiff in TensorFlow\n",
    "\n",
    "Define a composite function $f(w)=exp(w_{20} + w_{21} * exp(w_{10} + w_{11}*exp(w_{00}+w_{01} * x)))$"
   ]
  },
  {
   "cell_type": "code",
   "execution_count": 35,
   "metadata": {
    "collapsed": true
   },
   "outputs": [],
   "source": [
    "#Implement this in Tensor Flow\n",
    "\n",
    "def my_func(w,x):\n",
    "    f_0 = tf.exp(w[0,0] + w[0,1]*x)   #the iiner-most function\n",
    "    f_1 = tf.exp(w[1,0] + w[1,1]*f_0) #the next-level function\n",
    "    f_2 = tf.exp(w[2,0] + w[2,1]*f_1) #the output function\n",
    "    return f_2, f_1, f_0\n"
   ]
  },
  {
   "cell_type": "code",
   "execution_count": 45,
   "metadata": {
    "collapsed": true
   },
   "outputs": [],
   "source": [
    "#fancier implementation using name scopes:\n",
    "\n",
    "def my_func(w,x):\n",
    "    with tf.name_scope(\"f_0_level\") as scope_0:\n",
    "        f_0 = tf.exp(w[0,0] + w[0,1]*x)\n",
    "    with tf.name_scope(\"f_1_level\") as scope_1:\n",
    "        f_1 = tf.exp(w[1,0] + w[1,1]*f_0)\n",
    "    with tf.name_scope(\"f_2_level\") as scope_2:\n",
    "        f_2 = tf.exp(w[2,0] + w[2,1]*f_1)\n",
    "    return f_2, f_1, f_0"
   ]
  },
  {
   "cell_type": "code",
   "execution_count": 46,
   "metadata": {},
   "outputs": [
    {
     "data": {
      "text/plain": [
       "array([[ 0.,  1.],\n",
       "       [ 0.,  1.],\n",
       "       [ 0.,  1.]])"
      ]
     },
     "execution_count": 46,
     "metadata": {},
     "output_type": "execute_result"
    }
   ],
   "source": [
    "#w_0 is a point at which we want to compute the function and its derivatives\n",
    "\n",
    "w_0 = np.vstack((np.zeros(3), np.ones(3))).T\n",
    "w_0"
   ]
  },
  {
   "cell_type": "markdown",
   "metadata": {},
   "source": [
    "#### Compute gradients using TF"
   ]
  },
  {
   "cell_type": "code",
   "execution_count": 50,
   "metadata": {},
   "outputs": [
    {
     "name": "stderr",
     "output_type": "stream",
     "text": [
      "Exception ignored in: <bound method BaseSession.__del__ of <tensorflow.python.client.session.Session object at 0x11c1d0978>>\n",
      "Traceback (most recent call last):\n",
      "  File \"/Users/jvsingh/anaconda2/envs/py36/lib/python3.6/site-packages/tensorflow/python/client/session.py\", line 579, in __del__\n",
      "    if self._session is not None:\n",
      "AttributeError: 'Session' object has no attribute '_session'\n"
     ]
    },
    {
     "data": {
      "text/plain": [
       "[<tf.Tensor 'gradients/AddN:0' shape=(3, 2) dtype=float32>]"
      ]
     },
     "execution_count": 50,
     "metadata": {},
     "output_type": "execute_result"
    }
   ],
   "source": [
    "reset_graph()\n",
    "\n",
    "\n",
    "#Variables and their initialization\n",
    "w = tf.Variable(w_0, name=\"w\", dtype=tf.float32)\n",
    "x = tf.Variable(1.0, name=\"x\", dtype=tf.float32, trainable=False)\n",
    "\n",
    "#Define nodes for values of the function at layers\n",
    "f_2, f_1, f_0 = my_func(w,x)\n",
    "\n",
    "#Define nodes for th gradients by Tensorflow's autodiff\n",
    "grads = tf.gradients(f_2, w)\n",
    "\n",
    "grads"
   ]
  },
  {
   "cell_type": "code",
   "execution_count": 53,
   "metadata": {},
   "outputs": [
    {
     "name": "stdout",
     "output_type": "stream",
     "text": [
      "Computed derivatives in 0.0189193.2 sec\n",
      "Function values =  [3814273.0, 15.154261, 2.7182817]\n",
      "Gradient =  [array([[  1.57123440e+08,   1.57123440e+08],\n",
      "       [  5.78024880e+07,   1.57123440e+08],\n",
      "       [  3.81427300e+06,   5.78024880e+07]], dtype=float32)]\n"
     ]
    }
   ],
   "source": [
    "#Another way\n",
    "\n",
    "#A node for initializer\n",
    "init = tf.global_variables_initializer()\n",
    "\n",
    "#Run the session\n",
    "t_0 = time.time()\n",
    "\n",
    "with tf.Session() as sess:\n",
    "    sess.run(init)\n",
    "    \n",
    "    #function_vals = sess.run([f_2, f_1, f_0])\n",
    "    #gradients     = sess.run(grads)\n",
    "    gradients, function_vals = sess.run([grads, [f_2, f_1, f_0]])\n",
    "    \n",
    "\n",
    "print(\"Computed derivatives in %f3.2 sec\" % (time.time() - t_0))\n",
    "print(\"Function values = \", function_vals)\n",
    "print(\"Gradient = \", gradients)"
   ]
  },
  {
   "cell_type": "code",
   "execution_count": null,
   "metadata": {
    "collapsed": true
   },
   "outputs": [],
   "source": []
  }
 ],
 "metadata": {
  "kernelspec": {
   "display_name": "Python 3",
   "language": "python",
   "name": "python3"
  },
  "language_info": {
   "codemirror_mode": {
    "name": "ipython",
    "version": 3
   },
   "file_extension": ".py",
   "mimetype": "text/x-python",
   "name": "python",
   "nbconvert_exporter": "python",
   "pygments_lexer": "ipython3",
   "version": "3.6.3"
  }
 },
 "nbformat": 4,
 "nbformat_minor": 2
}
