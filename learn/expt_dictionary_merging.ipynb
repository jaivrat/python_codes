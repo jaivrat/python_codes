{
 "cells": [
  {
   "cell_type": "code",
   "execution_count": 22,
   "metadata": {},
   "outputs": [
    {
     "data": {
      "text/plain": [
       "{'a': [1, 100], 'b': [2, 200], 'c': [3]}"
      ]
     },
     "execution_count": 22,
     "metadata": {},
     "output_type": "execute_result"
    }
   ],
   "source": [
    "dict1 = {'a': 1, 'b': 2, 'c': 3}\n",
    "dict2 = {'a': 100, 'b': 200, 'f':800}\n",
    "\n",
    "z = dict((k, [v] + ([dict2[k]] if k in dict2 else [])) for (k, v) in dict1.items())\n",
    "z"
   ]
  },
  {
   "cell_type": "code",
   "execution_count": 23,
   "metadata": {
    "collapsed": true
   },
   "outputs": [],
   "source": [
    "###microseconds\n",
    "#contruct dictionary\n",
    "\n",
    "import string\n",
    "import numpy as np\n",
    "import itertools\n",
    "keysdata = list(string.ascii_lowercase)\n",
    "\n",
    "N = 10\n",
    "\n",
    "def method1():\n",
    "    d1 = dict([(keysdata[i],np.random.randint(30)) for i in np.random.randint(len(keysdata), size=N)])\n",
    "    #d1 \n",
    "    d2 = dict([(keysdata[i],np.random.randint(30)) for i in np.random.randint(len(keysdata), size=N)])\n",
    "    #d2 \n",
    "    z = dict((k, [v] + ([d2[k]] if k in d2 else [])) for (k, v) in d1.items())\n",
    "    return(z)\n",
    "\n",
    "\n",
    "def method2():\n",
    "    d1 = dict([(keysdata[i],np.random.randint(30)) for i in np.random.randint(len(keysdata), size=N)])\n",
    "    #d1 \n",
    "    d2 = dict([(keysdata[i],np.random.randint(30)) for i in np.random.randint(len(keysdata), size=N)])\n",
    "    #d2 \n",
    "    z = {}\n",
    "    for k,v in itertools.chain(d1.items(), d2.items()):\n",
    "        if(z.get(k)):\n",
    "            z[k].append(v)\n",
    "        else:\n",
    "            z[k] = [v]\n",
    "    return(z)\n",
    "\n"
   ]
  },
  {
   "cell_type": "code",
   "execution_count": 24,
   "metadata": {},
   "outputs": [
    {
     "ename": "SyntaxError",
     "evalue": "invalid syntax (<ipython-input-24-9b30a574f98c>, line 3)",
     "output_type": "error",
     "traceback": [
      "\u001b[0;36m  File \u001b[0;32m\"<ipython-input-24-9b30a574f98c>\"\u001b[0;36m, line \u001b[0;32m3\u001b[0m\n\u001b[0;31m    import\u001b[0m\n\u001b[0m          ^\u001b[0m\n\u001b[0;31mSyntaxError\u001b[0m\u001b[0;31m:\u001b[0m invalid syntax\n"
     ]
    }
   ],
   "source": [
    "from datetime import datetime\n",
    "import time\n",
    "import\n",
    "\n",
    "COUNTS = 100000\n",
    "\n",
    "def expt1():\n",
    "    ts = []\n",
    "    for i in range(0,COUNTS):\n",
    "        tstart = datetime.now()\n",
    "        z = method1()\n",
    "        tend = datetime.now()\n",
    "        c = tend-tstart\n",
    "        ts.append(c.seconds * 1000000 + c.microseconds)\n",
    "    return(ts)\n",
    "\n",
    "\n",
    "def expt2():\n",
    "    ts = []\n",
    "    for i in range(0,COUNTS):\n",
    "        tstart = datetime.now()\n",
    "        z = method2()\n",
    "        tend = datetime.now()\n",
    "        c = tend-tstart\n",
    "        ts.append(c.seconds * 1000000 + c.microseconds)\n",
    "    return(ts)"
   ]
  },
  {
   "cell_type": "code",
   "execution_count": 25,
   "metadata": {},
   "outputs": [],
   "source": [
    "np.random.seed(100)\n",
    "t1s = expt1()\n",
    "np.random.seed(100)\n",
    "t2s = expt2()"
   ]
  },
  {
   "cell_type": "code",
   "execution_count": 26,
   "metadata": {},
   "outputs": [
    {
     "data": {
      "image/png": "[encoded data removed]",
      "text/plain": [
       "<matplotlib.figure.Figure at 0x10a83fc50>"
      ]
     },
     "metadata": {},
     "output_type": "display_data"
    }
   ],
   "source": [
    "import matplotlib.pyplot as plt\n",
    "import numpy as np\n",
    "\n",
    "import plotly.plotly as py\n",
    "# Learn about API authentication here: https://plot.ly/python/getting-started\n",
    "# Find your api_key here: https://plot.ly/settings/api\n",
    "\n",
    "%matplotlib inline  \n",
    "\n",
    "plt.hist(t1s)\n",
    "plt.title(\"Method1\")\n",
    "plt.xlabel(\"time in Microsec\")\n",
    "plt.ylabel(\"Frequency\")\n",
    "\n",
    "fig = plt.gcf()"
   ]
  },
  {
   "cell_type": "code",
   "execution_count": 27,
   "metadata": {},
   "outputs": [
    {
     "data": {
      "image/png": "[encoded data removed]",
      "text/plain": [
       "<matplotlib.figure.Figure at 0x1a17767710>"
      ]
     },
     "metadata": {},
     "output_type": "display_data"
    }
   ],
   "source": [
    "plt.hist(t2s)\n",
    "plt.title(\"Method2\")\n",
    "plt.xlabel(\"time in Microsec\")\n",
    "plt.ylabel(\"Frequency\")\n",
    "\n",
    "fig = plt.gcf()"
   ]
  },
  {
   "cell_type": "code",
   "execution_count": 28,
   "metadata": {},
   "outputs": [
    {
     "data": {
      "text/plain": [
       "DescribeResult(nobs=100000, minmax=(36, 1161), mean=40.841450000000002, variance=84.591517812678092, skewness=23.481169640334734, kurtosis=2265.783005622322)"
      ]
     },
     "execution_count": 28,
     "metadata": {},
     "output_type": "execute_result"
    }
   ],
   "source": [
    "import scipy as sc\n",
    "import scipy.stats\n",
    "sc.stats.describe(t1s)"
   ]
  },
  {
   "cell_type": "code",
   "execution_count": 29,
   "metadata": {},
   "outputs": [
    {
     "data": {
      "text/plain": [
       "DescribeResult(nobs=100000, minmax=(37, 499), mean=42.088290000000001, variance=88.542440300302999, skewness=6.650646016490658, kurtosis=98.92969918145094)"
      ]
     },
     "execution_count": 29,
     "metadata": {},
     "output_type": "execute_result"
    }
   ],
   "source": [
    "sc.stats.describe(t2s)"
   ]
  },
  {
   "cell_type": "code",
   "execution_count": 36,
   "metadata": {
    "collapsed": true
   },
   "outputs": [],
   "source": [
    "dict1 = {'a': 1, 'b': 2, 'c': 3}\n",
    "dict2 = {'a': 100, 'b': 200, 'f':800}"
   ]
  },
  {
   "cell_type": "code",
   "execution_count": 41,
   "metadata": {},
   "outputs": [
    {
     "data": {
      "text/html": [
       "<div>\n",
       "<style>\n",
       "    .dataframe thead tr:only-child th {\n",
       "        text-align: right;\n",
       "    }\n",
       "\n",
       "    .dataframe thead th {\n",
       "        text-align: left;\n",
       "    }\n",
       "\n",
       "    .dataframe tbody tr th {\n",
       "        vertical-align: top;\n",
       "    }\n",
       "</style>\n",
       "<table border=\"1\" class=\"dataframe\">\n",
       "  <thead>\n",
       "    <tr style=\"text-align: right;\">\n",
       "      <th></th>\n",
       "      <th>0</th>\n",
       "      <th>1</th>\n",
       "    </tr>\n",
       "  </thead>\n",
       "  <tbody>\n",
       "    <tr>\n",
       "      <th>0</th>\n",
       "      <td>a</td>\n",
       "      <td>1</td>\n",
       "    </tr>\n",
       "    <tr>\n",
       "      <th>1</th>\n",
       "      <td>b</td>\n",
       "      <td>2</td>\n",
       "    </tr>\n",
       "    <tr>\n",
       "      <th>2</th>\n",
       "      <td>c</td>\n",
       "      <td>3</td>\n",
       "    </tr>\n",
       "    <tr>\n",
       "      <th>3</th>\n",
       "      <td>a</td>\n",
       "      <td>100</td>\n",
       "    </tr>\n",
       "    <tr>\n",
       "      <th>4</th>\n",
       "      <td>b</td>\n",
       "      <td>200</td>\n",
       "    </tr>\n",
       "    <tr>\n",
       "      <th>5</th>\n",
       "      <td>f</td>\n",
       "      <td>800</td>\n",
       "    </tr>\n",
       "  </tbody>\n",
       "</table>\n",
       "</div>"
      ],
      "text/plain": [
       "   0    1\n",
       "0  a    1\n",
       "1  b    2\n",
       "2  c    3\n",
       "3  a  100\n",
       "4  b  200\n",
       "5  f  800"
      ]
     },
     "execution_count": 41,
     "metadata": {},
     "output_type": "execute_result"
    }
   ],
   "source": [
    "import pandas as pd\n",
    "df = pd.DataFrame.from_records(list(itertools.chain(dict1.items(), dict2.items())))\n",
    "df"
   ]
  },
  {
   "cell_type": "code",
   "execution_count": 45,
   "metadata": {},
   "outputs": [
    {
     "data": {
      "text/plain": [
       "{'a': [1, 100], 'b': [2, 200], 'c': [3], 'f': [800]}"
      ]
     },
     "execution_count": 45,
     "metadata": {},
     "output_type": "execute_result"
    }
   ],
   "source": [
    "df.groupby(0)[1].apply(list).to_dict()"
   ]
  },
  {
   "cell_type": "code",
   "execution_count": 46,
   "metadata": {},
   "outputs": [
    {
     "data": {
      "text/plain": [
       "{'a': [1, 100], 'b': [2, 200], 'c': [3], 'f': [800]}"
      ]
     },
     "execution_count": 46,
     "metadata": {},
     "output_type": "execute_result"
    }
   ],
   "source": [
    "pd.DataFrame.from_records(list(itertools.chain(dict1.items(), dict2.items()))).groupby(0)[1].apply(list).to_dict()"
   ]
  },
  {
   "cell_type": "code",
   "execution_count": null,
   "metadata": {
    "collapsed": true
   },
   "outputs": [],
   "source": []
  }
 ],
 "metadata": {
  "kernelspec": {
   "display_name": "Python 3",
   "language": "python",
   "name": "python3"
  },
  "language_info": {
   "codemirror_mode": {
    "name": "ipython",
    "version": 3
   },
   "file_extension": ".py",
   "mimetype": "text/x-python",
   "name": "python",
   "nbconvert_exporter": "python",
   "pygments_lexer": "ipython3",
   "version": "3.6.3"
  }
 },
 "nbformat": 4,
 "nbformat_minor": 2
}
