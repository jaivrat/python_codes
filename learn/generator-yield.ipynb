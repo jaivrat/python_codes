{
 "cells": [
  {
   "cell_type": "markdown",
   "metadata": {},
   "source": [
    "#### Generators explained\n",
    "\n",
    "Example take from https://jeffknupp.com/blog/2013/04/07/improve-your-python-yield-and-generators-explained/"
   ]
  },
  {
   "cell_type": "code",
   "execution_count": 1,
   "metadata": {
    "collapsed": true
   },
   "outputs": [],
   "source": [
    "def simple_generator_function():\n",
    "    yield 1\n",
    "    yield 2\n",
    "    yield 3"
   ]
  },
  {
   "cell_type": "code",
   "execution_count": 2,
   "metadata": {},
   "outputs": [
    {
     "data": {
      "text/plain": [
       "generator"
      ]
     },
     "execution_count": 2,
     "metadata": {},
     "output_type": "execute_result"
    }
   ],
   "source": [
    "res = simple_generator_function()\n",
    "type(res)"
   ]
  },
  {
   "cell_type": "code",
   "execution_count": 3,
   "metadata": {},
   "outputs": [
    {
     "data": {
      "text/plain": [
       "1"
      ]
     },
     "execution_count": 3,
     "metadata": {},
     "output_type": "execute_result"
    }
   ],
   "source": [
    "next(res)"
   ]
  },
  {
   "cell_type": "code",
   "execution_count": 4,
   "metadata": {},
   "outputs": [
    {
     "data": {
      "text/plain": [
       "2"
      ]
     },
     "execution_count": 4,
     "metadata": {},
     "output_type": "execute_result"
    }
   ],
   "source": [
    "next(res)"
   ]
  },
  {
   "cell_type": "code",
   "execution_count": 5,
   "metadata": {},
   "outputs": [
    {
     "data": {
      "text/plain": [
       "3"
      ]
     },
     "execution_count": 5,
     "metadata": {},
     "output_type": "execute_result"
    }
   ],
   "source": [
    "next(res)"
   ]
  },
  {
   "cell_type": "code",
   "execution_count": 6,
   "metadata": {},
   "outputs": [
    {
     "ename": "StopIteration",
     "evalue": "",
     "output_type": "error",
     "traceback": [
      "\u001b[0;31m---------------------------------------------------------------------------\u001b[0m",
      "\u001b[0;31mStopIteration\u001b[0m                             Traceback (most recent call last)",
      "\u001b[0;32m<ipython-input-6-76e5d9e97fc3>\u001b[0m in \u001b[0;36m<module>\u001b[0;34m()\u001b[0m\n\u001b[1;32m      1\u001b[0m \u001b[0;31m#Should give error\u001b[0m\u001b[0;34m\u001b[0m\u001b[0;34m\u001b[0m\u001b[0m\n\u001b[0;32m----> 2\u001b[0;31m \u001b[0mnext\u001b[0m\u001b[0;34m(\u001b[0m\u001b[0mres\u001b[0m\u001b[0;34m)\u001b[0m\u001b[0;34m\u001b[0m\u001b[0m\n\u001b[0m",
      "\u001b[0;31mStopIteration\u001b[0m: "
     ]
    }
   ],
   "source": [
    "#Should give error\n",
    "next(res)"
   ]
  },
  {
   "cell_type": "code",
   "execution_count": 7,
   "metadata": {
    "collapsed": true
   },
   "outputs": [],
   "source": [
    "#recreate\n",
    "res = simple_generator_function()"
   ]
  },
  {
   "cell_type": "code",
   "execution_count": 8,
   "metadata": {},
   "outputs": [
    {
     "data": {
      "text/plain": [
       "[1, 2, 3]"
      ]
     },
     "execution_count": 8,
     "metadata": {},
     "output_type": "execute_result"
    }
   ],
   "source": [
    "[x for x in res]"
   ]
  },
  {
   "cell_type": "code",
   "execution_count": 9,
   "metadata": {},
   "outputs": [
    {
     "data": {
      "text/plain": [
       "[]"
      ]
     },
     "execution_count": 9,
     "metadata": {},
     "output_type": "execute_result"
    }
   ],
   "source": [
    "#Should give nothing\n",
    "[x for x in res]"
   ]
  },
  {
   "cell_type": "markdown",
   "metadata": {},
   "source": [
    "A complex example "
   ]
  },
  {
   "cell_type": "code",
   "execution_count": 10,
   "metadata": {
    "collapsed": true
   },
   "outputs": [],
   "source": [
    "import math\n",
    "\n",
    "def get_primes(input_list):\n",
    "    result_list = list()\n",
    "    for element in input_list:\n",
    "        if is_prime(element):\n",
    "            result_list.append()\n",
    "\n",
    "    return result_list\n",
    "\n",
    "# or better yet...\n",
    "\n",
    "def get_primes(input_list):\n",
    "    return (element for element in input_list if is_prime(element))\n",
    "\n",
    "# not germane to the example, but here's a possible implementation of\n",
    "# is_prime...\n",
    "\n",
    "def is_prime(number):\n",
    "    if number > 1:\n",
    "        if number == 2:\n",
    "            return True\n",
    "        if number % 2 == 0:\n",
    "            return False\n",
    "        for current in range(3, int(math.sqrt(number) + 1), 2):\n",
    "            if number % current == 0: \n",
    "                return False\n",
    "        return True\n",
    "    return False"
   ]
  },
  {
   "cell_type": "markdown",
   "metadata": {},
   "source": [
    "*** get_primes ***  works, but suppose we want infinite number of primes to be generated, and get_primes to be called for such infinte list, it does not seem possible in this framework. We need to discover a mechanism where we can simple generate primes one at a time and and keep on calling the *** is_prime *** function. By doing this we do not need to create a function generating primes infinitely.."
   ]
  },
  {
   "cell_type": "code",
   "execution_count": 11,
   "metadata": {
    "collapsed": true
   },
   "outputs": [],
   "source": [
    "def get_primes(number):\n",
    "    while True:\n",
    "        if is_prime(number):\n",
    "            yield number\n",
    "        number += 1"
   ]
  },
  {
   "cell_type": "code",
   "execution_count": 12,
   "metadata": {
    "collapsed": true
   },
   "outputs": [],
   "source": [
    "def solve_number_10():\n",
    "    # She *is* working on Project Euler #10, I knew it!\n",
    "    total = 2\n",
    "    for next_prime in get_primes(3):\n",
    "        if next_prime < 2000000:\n",
    "            total += next_prime\n",
    "        else:\n",
    "            print(total)\n",
    "            return"
   ]
  },
  {
   "cell_type": "code",
   "execution_count": 13,
   "metadata": {},
   "outputs": [
    {
     "name": "stdout",
     "output_type": "stream",
     "text": [
      "142913828922\n"
     ]
    }
   ],
   "source": [
    "solve_number_10()"
   ]
  },
  {
   "cell_type": "markdown",
   "metadata": {},
   "source": [
    "Let me try to combine return along with yield"
   ]
  },
  {
   "cell_type": "code",
   "execution_count": 14,
   "metadata": {
    "collapsed": true
   },
   "outputs": [],
   "source": [
    "def get_primes_to_limit(number, limit):\n",
    "    while True:\n",
    "        if is_prime(number):\n",
    "            yield number\n",
    "        number += 1\n",
    "        if(number > limit):\n",
    "            print(\"Limit limit={} number={}\".format(limit, number) + \" reached. Returning\")\n",
    "            return(-100)\n",
    "    return(-1)"
   ]
  },
  {
   "cell_type": "code",
   "execution_count": 15,
   "metadata": {
    "collapsed": true
   },
   "outputs": [],
   "source": [
    "def solve_number_10():\n",
    "    # She *is* working on Project Euler #10, I knew it!\n",
    "    total = 2\n",
    "    for next_prime in get_primes_to_limit(3, 20):\n",
    "        print(\"solve_number_10: next_prime={}\".format(next_prime))\n",
    "        if next_prime < 2000000:\n",
    "            total += next_prime\n",
    "        else:\n",
    "            print(total)\n",
    "    return(total)"
   ]
  },
  {
   "cell_type": "code",
   "execution_count": null,
   "metadata": {},
   "outputs": [],
   "source": [
    "solve_number_10()"
   ]
  },
  {
   "cell_type": "markdown",
   "metadata": {},
   "source": [
    "https://jeffknupp.com/blog/2013/04/07/improve-your-python-yield-and-generators-explained/\n",
    "\n",
    "In PEP 342, support was added for passing values into generators. PEP 342 gave generators the power to yield a value (as before), receive a value, or both yield a value and receive a (possibly different) value in a single statement."
   ]
  },
  {
   "cell_type": "code",
   "execution_count": null,
   "metadata": {
    "collapsed": true
   },
   "outputs": [],
   "source": [
    "def get_primes(number):\n",
    "    while True:\n",
    "        if is_prime(number):\n",
    "            number = yield number\n",
    "        number += 1\n",
    "        \n",
    "        \n",
    "def print_successive_primes(iterations, base=10):\n",
    "    prime_generator = get_primes(base)\n",
    "    prime_generator.send(None)\n",
    "    for power in range(iterations):\n",
    "        print(prime_generator.send(base ** power))"
   ]
  },
  {
   "cell_type": "code",
   "execution_count": null,
   "metadata": {},
   "outputs": [],
   "source": [
    "print_successive_primes(4, base=10)"
   ]
  },
  {
   "cell_type": "markdown",
   "metadata": {},
   "source": [
    "** prime_generator.send(None) ** only starts the generator upto to the first call of yield.\n",
    "\n",
    "1. power=0, 10^0 = 1, "
   ]
  },
  {
   "cell_type": "code",
   "execution_count": null,
   "metadata": {
    "collapsed": true
   },
   "outputs": [],
   "source": [
    "import random\n",
    "\n",
    "def get_data():\n",
    "    \"\"\"Return 3 random integers between 0 and 9\"\"\"\n",
    "    return random.sample(range(10), 3)\n",
    "\n",
    "def consume():\n",
    "    \"\"\"Displays a running average across lists of integers sent to it\"\"\"\n",
    "    running_sum = 0\n",
    "    data_items_seen = 0\n",
    "\n",
    "    while True:\n",
    "        data = yield\n",
    "        data_items_seen += len(data)\n",
    "        running_sum += sum(data)\n",
    "        print('The running average is {}'.format(running_sum / float(data_items_seen)))\n",
    "\n",
    "def produce(consumer):\n",
    "    \"\"\"Produces a set of values and forwards them to the pre-defined consumer\n",
    "    function\"\"\"\n",
    "    while True:\n",
    "        data = get_data()\n",
    "        print('Produced {}'.format(data))\n",
    "        consumer.send(data)\n",
    "        yield\n",
    "\n",
    "if __name__ == '__main__':\n",
    "    consumer = consume()\n",
    "    consumer.send(None)\n",
    "    producer = produce(consumer)\n",
    "\n",
    "    for _ in range(10):\n",
    "        print('Producing...')\n",
    "        next(producer)"
   ]
  }
 ],
 "metadata": {
  "kernelspec": {
   "display_name": "Python 3",
   "language": "python",
   "name": "python3"
  }
 },
 "nbformat": 4,
 "nbformat_minor": 2
}
