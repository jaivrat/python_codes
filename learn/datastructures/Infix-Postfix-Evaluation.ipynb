{
 "cells": [
  {
   "cell_type": "markdown",
   "metadata": {},
   "source": [
    "### Infix to Postfix\n",
    "\n",
    "A + B  => Prefix + A B  => Postfix A B +\n",
    "A + B * C =>  + A * B C =>  A B C* + \n",
    "\n",
    "**Precendance important**\n",
    "\n",
    "Note all operands i.e. A , B and C orders dont change, whereas the operators \n",
    "\n",
    "If we use prentheses, the precedence has to be altered. "
   ]
  },
  {
   "cell_type": "code",
   "execution_count": 93,
   "metadata": {},
   "outputs": [],
   "source": [
    "class Stack():\n",
    "    def __init__(self):\n",
    "        self.lst = []\n",
    "    \n",
    "    def push(self, x):\n",
    "        self.lst.append(x)\n",
    "        return\n",
    "        \n",
    "    def pop(self):\n",
    "        if self.empty():\n",
    "            raise Exception(\"Trying to pop empty stack\")\n",
    "        return self.lst.pop()\n",
    "    \n",
    "    def empty(self):\n",
    "        return len(self.lst) == 0\n",
    "    \n",
    "    def peek(self):\n",
    "        if self.empty():\n",
    "            raise Exception(\"Trying to peek empty stack\")\n",
    "        return self.lst[len(self.lst)-1]\n",
    "    \n",
    "    def __repr__(self):\n",
    "        if self.empty():\n",
    "            return \"\"\n",
    "        else:\n",
    "            return \"|\".join([str(x) for x in self.lst])\n",
    "    "
   ]
  },
  {
   "cell_type": "code",
   "execution_count": 170,
   "metadata": {},
   "outputs": [],
   "source": [
    "def infixToPostFix(infixTokens):\n",
    "    stack = Stack()\n",
    "    operators = [\"*\",\"+\",\"-\", \"(\", \")\"]\n",
    "    outlist = []\n",
    "    #Brackets low precedence as we do not want to pop it till we have \")\"\n",
    "    preced = {\"*\" : 4, \"+\" : 3 ,\"-\" : 3 , \"(\" : 1}\n",
    "    for token in infixTokens:\n",
    "        if token not in operators:\n",
    "            #operands\n",
    "            outlist.append(token)\n",
    "        elif token == \"(\":\n",
    "            stack.push(token)\n",
    "        elif token == \")\":\n",
    "            while not stack.empty():\n",
    "                oper = stack.pop()\n",
    "                if oper == \"(\":\n",
    "                    break\n",
    "                outlist.append(oper)\n",
    "        else:\n",
    "            #token in [\"*\",\"+\",\"-\"]\n",
    "            #pop any high precedence operators in stack, befor pushing this operator token\n",
    "            while ((not stack.empty()) and (preced[stack.peek()] > preced[token])):\n",
    "                oper = stack.pop()\n",
    "                if oper != \"(\":\n",
    "                    outlist.append(oper)  \n",
    "            #push this token\n",
    "            stack.push(token)\n",
    "    #All tokens have processed, any operators in stack be appended to list\n",
    "    while (not stack.empty()):\n",
    "        outlist.append(stack.pop())\n",
    "    return outlist    "
   ]
  },
  {
   "cell_type": "code",
   "execution_count": 171,
   "metadata": {},
   "outputs": [
    {
     "name": "stdout",
     "output_type": "stream",
     "text": [
      "['A', '+', 'B', '*', 'C']\n"
     ]
    },
    {
     "data": {
      "text/plain": [
       "['A', 'B', 'C', '*', '+']"
      ]
     },
     "execution_count": 171,
     "metadata": {},
     "output_type": "execute_result"
    }
   ],
   "source": [
    "#lets enter space separated symbols and operands\n",
    "s = \"A + B * C\"\n",
    "infixArr = s.split()\n",
    "print(infixArr)\n",
    "infixToPostFix(infixArr)"
   ]
  },
  {
   "cell_type": "code",
   "execution_count": 172,
   "metadata": {},
   "outputs": [
    {
     "name": "stdout",
     "output_type": "stream",
     "text": [
      "['(', 'A', '+', 'B', ')', '*', 'C']\n"
     ]
    },
    {
     "data": {
      "text/plain": [
       "['A', 'B', '+', 'C', '*']"
      ]
     },
     "execution_count": 172,
     "metadata": {},
     "output_type": "execute_result"
    }
   ],
   "source": [
    "s = \"( A + B ) * C\"\n",
    "infixArr = s.split()\n",
    "print(infixArr)\n",
    "infixToPostFix(infixArr)"
   ]
  },
  {
   "cell_type": "code",
   "execution_count": 173,
   "metadata": {},
   "outputs": [
    {
     "name": "stdout",
     "output_type": "stream",
     "text": [
      "['(', 'A', '+', 'B', ')', '*', '(', 'C', '-', 'd', ')']\n"
     ]
    },
    {
     "data": {
      "text/plain": [
       "['A', 'B', '+', 'C', 'd', '-', '*']"
      ]
     },
     "execution_count": 173,
     "metadata": {},
     "output_type": "execute_result"
    }
   ],
   "source": [
    "s = \"( A + B ) * ( C - d )\"\n",
    "infixArr = s.split()\n",
    "print(infixArr)\n",
    "infixToPostFix(infixArr)"
   ]
  },
  {
   "cell_type": "code",
   "execution_count": 174,
   "metadata": {},
   "outputs": [
    {
     "name": "stdout",
     "output_type": "stream",
     "text": [
      "['(', '(', '(', 'A', '+', 'B', ')', '*', '(', 'C', '-', 'd', ')', ')', ')']\n"
     ]
    },
    {
     "data": {
      "text/plain": [
       "['A', 'B', '+', 'C', 'd', '-', '*']"
      ]
     },
     "execution_count": 174,
     "metadata": {},
     "output_type": "execute_result"
    }
   ],
   "source": [
    "s = \"( ( ( A + B ) * ( C - d ) ) )\"\n",
    "infixArr = s.split()\n",
    "print(infixArr)\n",
    "infixToPostFix(infixArr)"
   ]
  },
  {
   "cell_type": "markdown",
   "metadata": {},
   "source": [
    "## Evaluation of postfix expressions"
   ]
  },
  {
   "cell_type": "code",
   "execution_count": 198,
   "metadata": {},
   "outputs": [],
   "source": [
    "def evaluatePFix(pfix):\n",
    "    #create an operator stack and a result stack\n",
    "    resStk = Stack()\n",
    "    operators = [\"*\",\"+\",\"-\", \"(\", \")\"]\n",
    "    for token in pfix:\n",
    "        if token not in operators:\n",
    "            resStk.push(token)\n",
    "        else:\n",
    "            #An operator here, pop twice and calc result\n",
    "            second = resStk.pop()\n",
    "            first = resStk.pop()\n",
    "            res    = process(first, token, second)\n",
    "            resStk.push(res)\n",
    "    #Finally we have final result in stack, collect it\n",
    "    return resStk.pop()\n",
    "            \n",
    "def process(first, op, second):\n",
    "    return \"[result {} {} {}]\".format(first, op, second)"
   ]
  },
  {
   "cell_type": "code",
   "execution_count": 199,
   "metadata": {},
   "outputs": [
    {
     "data": {
      "text/plain": [
       "'[result [result A + B] * [result C - d]]'"
      ]
     },
     "execution_count": 199,
     "metadata": {},
     "output_type": "execute_result"
    }
   ],
   "source": [
    "evaluatePFix(infixToPostFix(infixArr))"
   ]
  },
  {
   "cell_type": "code",
   "execution_count": null,
   "metadata": {},
   "outputs": [],
   "source": []
  }
 ],
 "metadata": {
  "kernelspec": {
   "display_name": "Python 3",
   "language": "python",
   "name": "python3"
  },
  "language_info": {
   "codemirror_mode": {
    "name": "ipython",
    "version": 3
   },
   "file_extension": ".py",
   "mimetype": "text/x-python",
   "name": "python",
   "nbconvert_exporter": "python",
   "pygments_lexer": "ipython3",
   "version": "3.7.7"
  }
 },
 "nbformat": 4,
 "nbformat_minor": 4
}
