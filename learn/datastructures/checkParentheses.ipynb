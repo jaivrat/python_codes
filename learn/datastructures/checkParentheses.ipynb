{
 "cells": [
  {
   "cell_type": "markdown",
   "metadata": {},
   "source": [
    "## Balance Parantheses"
   ]
  },
  {
   "cell_type": "code",
   "execution_count": 3,
   "metadata": {},
   "outputs": [],
   "source": [
    "class Stack():\n",
    "    def __init__(self):\n",
    "        self.lst = []\n",
    "    \n",
    "    def push(self, x):\n",
    "        self.lst.append(x)\n",
    "        return\n",
    "        \n",
    "    def pop(self):\n",
    "        if self.empty():\n",
    "            raise Exception(\"Trying to pop empty stack\")\n",
    "        return self.lst.pop()\n",
    "    \n",
    "    def empty(self):\n",
    "        return len(self.lst) == 0\n",
    "    \n",
    "    def peek(self):\n",
    "        if self.empty():\n",
    "            raise Exception(\"Trying to peek empty stack\")\n",
    "        return self.lst[len(self.lst)-1]\n",
    "    \n",
    "    def __repr__(self):\n",
    "        if self.empty():\n",
    "            return \"\"\n",
    "        else:\n",
    "            return \"|\".join([str(x) for x in self.lst])\n",
    "    "
   ]
  },
  {
   "cell_type": "code",
   "execution_count": 13,
   "metadata": {},
   "outputs": [],
   "source": [
    "#If balanced returns true else False\n",
    "def checkPar(arr):\n",
    "    parStack = Stack()\n",
    "    for token in arr:\n",
    "        if token == \"(\":\n",
    "            parStack.push(token)\n",
    "        if token == \")\":\n",
    "            if parStack.empty():\n",
    "                return False;\n",
    "            if parStack.pop() != \"(\":\n",
    "                return False;\n",
    "    # All tokens exhausted, if stack still contains something, then imbalanced\n",
    "    return parStack.empty()"
   ]
  },
  {
   "cell_type": "code",
   "execution_count": 14,
   "metadata": {},
   "outputs": [
    {
     "data": {
      "text/plain": [
       "True"
      ]
     },
     "execution_count": 14,
     "metadata": {},
     "output_type": "execute_result"
    }
   ],
   "source": [
    "s = \"( A + B  ) * C\"\n",
    "arr = s.split()\n",
    "checkPar(arr)"
   ]
  },
  {
   "cell_type": "code",
   "execution_count": 15,
   "metadata": {},
   "outputs": [
    {
     "data": {
      "text/plain": [
       "False"
      ]
     },
     "execution_count": 15,
     "metadata": {},
     "output_type": "execute_result"
    }
   ],
   "source": [
    "s = \") A + B  ) * C\"\n",
    "arr = s.split()\n",
    "checkPar(arr)"
   ]
  },
  {
   "cell_type": "code",
   "execution_count": 16,
   "metadata": {},
   "outputs": [
    {
     "data": {
      "text/plain": [
       "False"
      ]
     },
     "execution_count": 16,
     "metadata": {},
     "output_type": "execute_result"
    }
   ],
   "source": [
    "s = \"( A + B )) * C\"\n",
    "arr = s.split()\n",
    "checkPar(arr)"
   ]
  },
  {
   "cell_type": "code",
   "execution_count": 17,
   "metadata": {},
   "outputs": [
    {
     "data": {
      "text/plain": [
       "True"
      ]
     },
     "execution_count": 17,
     "metadata": {},
     "output_type": "execute_result"
    }
   ],
   "source": [
    "s = \"( A + B ) * C ( ) ( ) ( )\"\n",
    "arr = s.split()\n",
    "checkPar(arr)"
   ]
  },
  {
   "cell_type": "code",
   "execution_count": 18,
   "metadata": {},
   "outputs": [
    {
     "data": {
      "text/plain": [
       "True"
      ]
     },
     "execution_count": 18,
     "metadata": {},
     "output_type": "execute_result"
    }
   ],
   "source": [
    "s = \"A + B\"\n",
    "arr = s.split()\n",
    "checkPar(arr)"
   ]
  },
  {
   "cell_type": "code",
   "execution_count": 21,
   "metadata": {},
   "outputs": [
    {
     "data": {
      "text/plain": [
       "True"
      ]
     },
     "execution_count": 21,
     "metadata": {},
     "output_type": "execute_result"
    }
   ],
   "source": [
    "s = \"( ( ( ( ( ( ( A + B ) ) ) ) ) ) )\"\n",
    "arr = s.split()\n",
    "checkPar(arr)"
   ]
  }
 ],
 "metadata": {
  "kernelspec": {
   "display_name": "Python 3",
   "language": "python",
   "name": "python3"
  },
  "language_info": {
   "codemirror_mode": {
    "name": "ipython",
    "version": 3
   },
   "file_extension": ".py",
   "mimetype": "text/x-python",
   "name": "python",
   "nbconvert_exporter": "python",
   "pygments_lexer": "ipython3",
   "version": "3.7.7"
  }
 },
 "nbformat": 4,
 "nbformat_minor": 4
}
