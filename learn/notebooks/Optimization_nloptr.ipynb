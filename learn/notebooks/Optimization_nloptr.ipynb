{
 "cells": [
  {
   "cell_type": "markdown",
   "metadata": {},
   "source": [
    "We test and learn the usage of the nloptr wrapper of python. The examples have been prepared by referring to https://nlopt.readthedocs.io/en/latest/NLopt_Python_Reference/"
   ]
  },
  {
   "cell_type": "code",
   "execution_count": 74,
   "metadata": {},
   "outputs": [],
   "source": [
    "#!pip install nlopt\n",
    "import numpy as np\n",
    "import nlopt\n",
    "from numpy import *"
   ]
  },
  {
   "cell_type": "markdown",
   "metadata": {},
   "source": [
    "NLOpt addrsses non-linear optimization problems of the form:\n",
    "\n",
    "\n",
    "$min f(x)$\n",
    "\n",
    "st  $g(x) <=0$   , $h(x) = 0$,  $lb <= x <= ub$\n",
    "\n",
    "\n",
    "\n",
    "First we create nloptr object using its constructor. This contstructor needs **algorithm** to be specified and the dimentionality of the problem **n**\n",
    "\n",
    "https://nlopt.readthedocs.io/en/latest/NLopt_Algorithms/\n",
    "\n",
    "Algorithms are specified by numerical constants such as nlopt.LD_SLSQP,nlopt.LN_COBYLA etc.."
   ]
  },
  {
   "cell_type": "markdown",
   "metadata": {},
   "source": [
    "Objective function is set by calling the **set_min_objective** or **set_max_objective**. Let as try to minimze $z = (x-2)^2  + (y - 3)^2$. Clearly this will have a minima at $(2,3)$\n",
    "\n",
    "THe objective funtion's first parameter will be the numpy array of length n.\n",
    "\n",
    "The second parameter is gradient array of length n, where $i^{th}$ elemtn is set inside the function with derivatiove $\\frac{\\partial f}{\\partial x_i}$\n",
    "\n",
    "Bounds constraints are set by **set_lower_bounds** and **set_upper_bounds**. To specify an unbounded dimension, you can use ±float('inf') (or ±numpy.inf) in Python to specify ±∞.\n",
    "\n",
    "Non linear constraints of equality or inequality set using **add_inequality_constraint** and **add_equality_constraint**"
   ]
  },
  {
   "cell_type": "code",
   "execution_count": 75,
   "metadata": {},
   "outputs": [],
   "source": [
    "def obj_f(x,grad):\n",
    "    #set the derivatives and return the objective function value\n",
    "    if grad.size > 0:\n",
    "        grad[0] = 2 * (x[0] -2)\n",
    "        grad[1] = 2 * (x[1] -3)\n",
    "    return (x[0]-2)**2 + (x[1] -3)**2\n",
    "\n",
    "opt = nlopt.opt(nlopt.LD_MMA, 2)\n",
    "opt.set_lower_bounds([-np.inf, -np.inf])\n",
    "opt.set_upper_bounds([np.inf, np.inf])\n",
    "opt.set_min_objective(obj_f)\n",
    "#opt.add_inequality_constraint\n",
    "#opt.add_inequality_constraint\n",
    "opt.set_xtol_rel(1e-6)\n",
    "x = opt.optimize([1.234, 5.678])"
   ]
  },
  {
   "cell_type": "code",
   "execution_count": 76,
   "metadata": {},
   "outputs": [],
   "source": [
    "minf = opt.last_optimum_value()"
   ]
  },
  {
   "cell_type": "code",
   "execution_count": 77,
   "metadata": {},
   "outputs": [
    {
     "name": "stdout",
     "output_type": "stream",
     "text": [
      "optimum at  2.0000005133944665 2.9999999431334743\n",
      "minimum value =  2.6680767997385906e-13\n",
      "result code =  4\n"
     ]
    }
   ],
   "source": [
    "print(\"optimum at \", x[0], x[1])\n",
    "print(\"minimum value = \", minf)\n",
    "print(\"result code = \", opt.last_optimize_result())"
   ]
  },
  {
   "cell_type": "markdown",
   "metadata": {},
   "source": [
    "Lets add a constraint that $x >= 4$ and $y <= 5$. Obviopusly mimima should come at (4,3)."
   ]
  },
  {
   "cell_type": "code",
   "execution_count": 78,
   "metadata": {},
   "outputs": [],
   "source": [
    "opt = nlopt.opt(nlopt.LD_MMA, 2)\n",
    "opt.set_lower_bounds([4, -np.inf])\n",
    "opt.set_upper_bounds([np.inf, 5])\n",
    "opt.set_min_objective(obj_f)\n",
    "opt.set_xtol_rel(1e-6)\n",
    "x = opt.optimize([5, 0])"
   ]
  },
  {
   "cell_type": "code",
   "execution_count": 79,
   "metadata": {},
   "outputs": [],
   "source": [
    "minf = opt.last_optimum_value()"
   ]
  },
  {
   "cell_type": "code",
   "execution_count": 80,
   "metadata": {},
   "outputs": [
    {
     "name": "stdout",
     "output_type": "stream",
     "text": [
      "optimum at  4.0 2.9999993089283707\n",
      "minimum value =  4.000000000000478\n",
      "result code =  4\n"
     ]
    }
   ],
   "source": [
    "print(\"optimum at \", x[0], x[1])\n",
    "print(\"minimum value = \", minf)\n",
    "print(\"result code = \", opt.last_optimize_result())"
   ]
  },
  {
   "cell_type": "markdown",
   "metadata": {},
   "source": [
    "Lets add an inequality constraint constraint on plane that $y <= x - 20$ => $-x +y -20 <= 0$\n",
    "\n",
    "Adding this we expect the point to be perpendiculas from (2,3) on line $y = x - 20$ which is ((25/2 and -15/2) by simple cordinate geometry. Let us see if we get it"
   ]
  },
  {
   "cell_type": "code",
   "execution_count": 93,
   "metadata": {},
   "outputs": [],
   "source": [
    "#opt.add_inequality_constraint\n",
    "def myconstraint(x, grad):\n",
    "    if grad.size > 0:\n",
    "        grad[0] = -1\n",
    "        grad[1] = 1\n",
    "    return -x[0] + x[1] +20\n",
    "\n",
    "opt.add_inequality_constraint(lambda x,grad: myconstraint(x,grad), 1e-8)"
   ]
  },
  {
   "cell_type": "code",
   "execution_count": 94,
   "metadata": {},
   "outputs": [],
   "source": [
    "x = opt.optimize([100, -100])"
   ]
  },
  {
   "cell_type": "code",
   "execution_count": 95,
   "metadata": {},
   "outputs": [],
   "source": [
    "minf = opt.last_optimum_value()"
   ]
  },
  {
   "cell_type": "code",
   "execution_count": 96,
   "metadata": {},
   "outputs": [
    {
     "name": "stdout",
     "output_type": "stream",
     "text": [
      "optimum at  12.499923475929121 -7.500076520214666\n",
      "minimum value =  220.49999993073078\n",
      "result code =  4\n"
     ]
    }
   ],
   "source": [
    "print(\"optimum at \", x[0], x[1])\n",
    "print(\"minimum value = \", minf)\n",
    "print(\"result code = \", opt.last_optimize_result())"
   ]
  },
  {
   "cell_type": "markdown",
   "metadata": {},
   "source": [
    "Indeed we get $12.5 (= 25/2)$ and $-7.5 (= -15/2)$"
   ]
  },
  {
   "cell_type": "markdown",
   "metadata": {},
   "source": [
    "For more examples refer to https://nlopt.readthedocs.io/en/latest/NLopt_Tutorial/"
   ]
  },
  {
   "cell_type": "code",
   "execution_count": null,
   "metadata": {},
   "outputs": [],
   "source": []
  }
 ],
 "metadata": {
  "kernelspec": {
   "display_name": "Python 3",
   "language": "python",
   "name": "python3"
  },
  "language_info": {
   "codemirror_mode": {
    "name": "ipython",
    "version": 3
   },
   "file_extension": ".py",
   "mimetype": "text/x-python",
   "name": "python",
   "nbconvert_exporter": "python",
   "pygments_lexer": "ipython3",
   "version": "3.7.7"
  }
 },
 "nbformat": 4,
 "nbformat_minor": 4
}
