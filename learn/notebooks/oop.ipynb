{
 "cells": [
  {
   "cell_type": "code",
   "execution_count": 3,
   "metadata": {
    "collapsed": true
   },
   "outputs": [],
   "source": [
    "class My2Vector(object):\n",
    "    def __init__(self, x, y):\n",
    "        self._x = x\n",
    "        self._y = y\n",
    "        \n",
    "    def get_x(self):\n",
    "        print \"returning x, which is {}\".format(self._x)\n",
    "        return self._x\n",
    "    \n",
    "    def set_x(self, x):\n",
    "        print \"returning x, which is {}\".format(self._x)\n",
    "        self._x = x\n",
    "        "
   ]
  },
  {
   "cell_type": "code",
   "execution_count": 5,
   "metadata": {
    "collapsed": false
   },
   "outputs": [],
   "source": [
    "v  = My2Vector(10,12)"
   ]
  },
  {
   "cell_type": "code",
   "execution_count": 7,
   "metadata": {
    "collapsed": false
   },
   "outputs": [
    {
     "ename": "AttributeError",
     "evalue": "'My2Vector' object has no attribute 'x'",
     "output_type": "error",
     "traceback": [
      "\u001b[0;31m---------------------------------------------------------------------------\u001b[0m",
      "\u001b[0;31mAttributeError\u001b[0m                            Traceback (most recent call last)",
      "\u001b[0;32m<ipython-input-7-e1ce2652534b>\u001b[0m in \u001b[0;36m<module>\u001b[0;34m()\u001b[0m\n\u001b[0;32m----> 1\u001b[0;31m \u001b[0mtt\u001b[0m \u001b[0;34m=\u001b[0m \u001b[0mv\u001b[0m\u001b[0;34m.\u001b[0m\u001b[0mx\u001b[0m\u001b[0;34m\u001b[0m\u001b[0m\n\u001b[0m",
      "\u001b[0;31mAttributeError\u001b[0m: 'My2Vector' object has no attribute 'x'"
     ]
    }
   ],
   "source": [
    "tt = v.x"
   ]
  },
  {
   "cell_type": "code",
   "execution_count": 8,
   "metadata": {
    "collapsed": false
   },
   "outputs": [
    {
     "name": "stdout",
     "output_type": "stream",
     "text": [
      "a\n",
      "b\n",
      "c\n"
     ]
    }
   ],
   "source": [
    "my_collection = ['a', 'b', 'c']\n",
    "for i in range(len(my_collection)):\n",
    "    print my_collection[i]"
   ]
  },
  {
   "cell_type": "code",
   "execution_count": 9,
   "metadata": {
    "collapsed": false
   },
   "outputs": [
    {
     "ename": "KeyError",
     "evalue": "0",
     "output_type": "error",
     "traceback": [
      "\u001b[0;31m---------------------------------------------------------------------------\u001b[0m",
      "\u001b[0;31mKeyError\u001b[0m                                  Traceback (most recent call last)",
      "\u001b[0;32m<ipython-input-9-e189d53398bb>\u001b[0m in \u001b[0;36m<module>\u001b[0;34m()\u001b[0m\n\u001b[1;32m      1\u001b[0m \u001b[0mmy_collection\u001b[0m \u001b[0;34m=\u001b[0m \u001b[0;34m{\u001b[0m\u001b[0;34m'#x1'\u001b[0m\u001b[0;34m:\u001b[0m \u001b[0;34m'a'\u001b[0m\u001b[0;34m,\u001b[0m \u001b[0;34m'#x2'\u001b[0m\u001b[0;34m:\u001b[0m \u001b[0;34m'b'\u001b[0m\u001b[0;34m,\u001b[0m \u001b[0;34m'#y1'\u001b[0m\u001b[0;34m:\u001b[0m \u001b[0;34m'c'\u001b[0m\u001b[0;34m}\u001b[0m\u001b[0;34m\u001b[0m\u001b[0m\n\u001b[1;32m      2\u001b[0m \u001b[0;32mfor\u001b[0m \u001b[0mi\u001b[0m \u001b[0;32min\u001b[0m \u001b[0mrange\u001b[0m\u001b[0;34m(\u001b[0m\u001b[0mlen\u001b[0m\u001b[0;34m(\u001b[0m\u001b[0mmy_collection\u001b[0m\u001b[0;34m)\u001b[0m\u001b[0;34m)\u001b[0m\u001b[0;34m:\u001b[0m\u001b[0;34m\u001b[0m\u001b[0m\n\u001b[0;32m----> 3\u001b[0;31m     \u001b[0;32mprint\u001b[0m \u001b[0mmy_collection\u001b[0m\u001b[0;34m[\u001b[0m\u001b[0mi\u001b[0m\u001b[0;34m]\u001b[0m\u001b[0;34m\u001b[0m\u001b[0m\n\u001b[0m",
      "\u001b[0;31mKeyError\u001b[0m: 0"
     ]
    }
   ],
   "source": [
    "my_collection = {'#x1': 'a', '#x2': 'b', '#y1': 'c'}\n",
    "for i in range(len(my_collection)):\n",
    "    print my_collection[i]"
   ]
  },
  {
   "cell_type": "markdown",
   "metadata": {},
   "source": [
    "# Iterator Pattern"
   ]
  },
  {
   "cell_type": "code",
   "execution_count": 14,
   "metadata": {
    "collapsed": false
   },
   "outputs": [],
   "source": [
    "class MyIterable(object):\n",
    "    def __init__(self, items):\n",
    "        \"\"\" items -- List of items. \"\"\"\n",
    "        print \"MyIterable __init__ called\"\n",
    "        self.items = items\n",
    "    \n",
    "    def __iter__(self):\n",
    "        print \"MyIterable __iter__ called\"\n",
    "        return _MyIterator(self)\n",
    "    \n",
    "    \n",
    "#---------------------------------\n",
    "class _MyIterator(object):\n",
    "    def __init__(self, my_iterable):\n",
    "        print \"_MyIterator **init** called\"\n",
    "        self._my_iterable = my_iterable\n",
    "        self._position = 0\n",
    "        \n",
    "    def next(self):\n",
    "        print \"_MyIterator **next** called\"\n",
    "        if self._position >= len(self._my_iterable.items):\n",
    "            raise StopIteration()\n",
    "        value = self._my_iterable.items[self._position]\n",
    "        self._position += 1\n",
    "        return value\n",
    "    \n",
    "    # in Python, iterators also support iter by returning self\n",
    "    def __iter__(self):\n",
    "        print \"_MyIterator **self** called\"\n",
    "        return self"
   ]
  },
  {
   "cell_type": "markdown",
   "metadata": {},
   "source": [
    "### Lets perform the iteration manually using this interface:"
   ]
  },
  {
   "cell_type": "code",
   "execution_count": 26,
   "metadata": {
    "collapsed": false
   },
   "outputs": [
    {
     "name": "stdout",
     "output_type": "stream",
     "text": [
      "MyIterable __init__ called\n",
      "XXXX-----------------------\n",
      "MyIterable __iter__ called\n",
      "_MyIterator **init** called\n",
      "YYYY-----------------------\n",
      "_MyIterator **next** called\n",
      "1\n",
      "ZZZZ-----------------------\n",
      "_MyIterator **next** called\n",
      "2\n",
      "ZZZZ-----------------------\n",
      "_MyIterator **next** called\n",
      "3\n",
      "ZZZZ-----------------------\n",
      "_MyIterator **next** called\n",
      "Iteration done.\n"
     ]
    }
   ],
   "source": [
    "iterable = MyIterable([1,2,3])\n",
    "print \"XXXX-----------------------\"\n",
    "iterator = iter(iterable)\n",
    "print \"YYYY-----------------------\"\n",
    "try:\n",
    "    while True:\n",
    "        item = iterator.next()\n",
    "        print item\n",
    "        print \"ZZZZ-----------------------\"\n",
    "except StopIteration:\n",
    "    pass\n",
    "\n",
    "print \"Iteration done.\""
   ]
  },
  {
   "cell_type": "markdown",
   "metadata": {},
   "source": [
    "### or just use the Python for-loop:"
   ]
  },
  {
   "cell_type": "code",
   "execution_count": 29,
   "metadata": {
    "collapsed": false
   },
   "outputs": [
    {
     "name": "stdout",
     "output_type": "stream",
     "text": [
      "MyIterable __iter__ called\n",
      "_MyIterator **init** called\n",
      "_MyIterator **next** called\n",
      "1\n",
      "_MyIterator **next** called\n",
      "2\n",
      "_MyIterator **next** called\n",
      "3\n",
      "_MyIterator **next** called\n",
      "Iteration done.\n"
     ]
    }
   ],
   "source": [
    "for item in iterable:\n",
    "    print item\n",
    "print \"Iteration done.\""
   ]
  },
  {
   "cell_type": "markdown",
   "metadata": {},
   "source": [
    "Note above that MyIterable.__iter__ is called first to create a MyIterable object first. (Part of framework) "
   ]
  },
  {
   "cell_type": "markdown",
   "metadata": {},
   "source": [
    "### In fact, Python lists are already iterables:"
   ]
  },
  {
   "cell_type": "code",
   "execution_count": 34,
   "metadata": {
    "collapsed": false
   },
   "outputs": [
    {
     "name": "stdout",
     "output_type": "stream",
     "text": [
      "1\n",
      "2\n",
      "3\n"
     ]
    }
   ],
   "source": [
    "for item in [1, 2, 3]:\n",
    "    print item"
   ]
  },
  {
   "cell_type": "markdown",
   "metadata": {},
   "source": [
    "# Decorator Pattern"
   ]
  },
  {
   "cell_type": "code",
   "execution_count": 36,
   "metadata": {
    "collapsed": true
   },
   "outputs": [],
   "source": [
    "class Beverage(object):\n",
    "    # imagine some attributes like temperature, amount left,...\n",
    "    def get_description(self):\n",
    "        return \"beverage\"\n",
    "    \n",
    "    def get_cost(self):\n",
    "        return 0.00\n",
    "    \n",
    "class Coffee(Beverage):\n",
    "    def get_description(self):\n",
    "        return \"coffee\"\n",
    "    \n",
    "    def get_cost(self):\n",
    "        return 3.00\n",
    "    \n",
    "class Tee(Beverage):\n",
    "    def get_description(self):\n",
    "        return \"tee\"\n",
    "    \n",
    "    def get_cost(self):\n",
    "        return 2.50"
   ]
  },
  {
   "cell_type": "markdown",
   "metadata": {},
   "source": [
    "### Adding Ingredients: First Try"
   ]
  },
  {
   "cell_type": "code",
   "execution_count": null,
   "metadata": {
    "collapsed": true
   },
   "outputs": [],
   "source": [
    "class Beverage(object):\n",
    "    def __init__(self, with_milk, with_sugar):\n",
    "        self.with_milk  = with_milk\n",
    "        self.with_sugar = with_sugar\n",
    "    \n",
    "    def get_description(self):\n",
    "        description = str(self._get_default_description())\n",
    "        if(self.with_milk):\n",
    "            description += \", with milk\"\n",
    "        if self.with_sugar:\n",
    "            description += \", with sugar\"\n",
    "        \n",
    "    def _get_default_description(self):\n",
    "        return \"beverage\"\n",
    "\n",
    "    def get_cost(self):\n",
    "        return 0.00\n",
    "\n",
    "    \n",
    "    \n",
    "class Coffee(Beverage):\n",
    "    def _get_default_description(self):\n",
    "        return \"normal coffee\"\n",
    "    \n",
    "    def get_cost(self):\n",
    "        return 3.00\n",
    "    \n",
    "    \n",
    "class CoffeeWithMilk(Coffee):\n",
    "    def get_description(self):\n",
    "        return (super(CoffeeWithMilk, self).get_description() + \", with milk\")\n",
    "    \n",
    "    def get_cost(self):\n",
    "        return super(CoffeeWithMilk, self).get_cost() + 0.30"
   ]
  }
 ],
 "metadata": {
  "kernelspec": {
   "display_name": "Python 2",
   "language": "python",
   "name": "python2"
  },
  "language_info": {
   "codemirror_mode": {
    "name": "ipython",
    "version": 2
   },
   "file_extension": ".py",
   "mimetype": "text/x-python",
   "name": "python",
   "nbconvert_exporter": "python",
   "pygments_lexer": "ipython2",
   "version": "2.7.13"
  }
 },
 "nbformat": 4,
 "nbformat_minor": 2
}
