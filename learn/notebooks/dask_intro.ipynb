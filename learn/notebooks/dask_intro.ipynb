{
 "cells": [
  {
   "cell_type": "code",
   "execution_count": null,
   "id": "d2c26350-f7d6-4cff-a3b4-531d938fc100",
   "metadata": {
    "tags": []
   },
   "outputs": [],
   "source": [
    "import time\n",
    "\n",
    "def inc(x):\n",
    "    time.sleep(1)\n",
    "    return x+ 1"
   ]
  },
  {
   "cell_type": "code",
   "execution_count": null,
   "id": "f65c3ecc-a32e-4d05-abd2-650a37f0aa8e",
   "metadata": {
    "tags": []
   },
   "outputs": [],
   "source": [
    "%%time\n",
    "\n",
    "results = []\n",
    "for x in range(10):\n",
    "    result = inc(x)\n",
    "    results.append(result)\n",
    "    \n",
    "print(results)"
   ]
  },
  {
   "cell_type": "code",
   "execution_count": null,
   "id": "8d4c713f-cef6-4e5a-bbfc-d4324cbf7611",
   "metadata": {
    "tags": []
   },
   "outputs": [],
   "source": [
    "%%time\n",
    "\n",
    "# Using concurrent futures\n",
    "from concurrent.futures import ThreadPoolExecutor\n",
    "# from concurrent.futures import ProcessPoolExecutor\n",
    "\n",
    "futures = []\n",
    "with ThreadPoolExecutor(10) as e:\n",
    "    for x in range(10):\n",
    "        f = e.submit(inc, x)\n",
    "        futures.append(f)\n",
    "    # Wait\n",
    "    results = [f.result() for f in futures]\n",
    "print(len(results))"
   ]
  },
  {
   "cell_type": "code",
   "execution_count": null,
   "id": "b5f044e1-2613-4c3a-8393-274e45f0e4d7",
   "metadata": {
    "tags": []
   },
   "outputs": [],
   "source": [
    "from dask.distributed import Client\n",
    "client = Client()\n",
    "client"
   ]
  },
  {
   "cell_type": "code",
   "execution_count": null,
   "id": "f0bab16c-2440-4ca3-ba53-a09d24f348d8",
   "metadata": {
    "tags": []
   },
   "outputs": [],
   "source": [
    "## Using Daskclients\n",
    "import numpy as np\n",
    "\n",
    "# client = Client(n_workers=10, threads_per_worker=1)\n",
    "future = client.submit(np.arange, 100)"
   ]
  },
  {
   "cell_type": "code",
   "execution_count": null,
   "id": "b21182c0-0d07-4992-9aec-c8d8c62cbce9",
   "metadata": {
    "tags": []
   },
   "outputs": [],
   "source": [
    "future"
   ]
  },
  {
   "cell_type": "code",
   "execution_count": null,
   "id": "448648f6-8987-4cd9-a8b4-edca29d06259",
   "metadata": {
    "tags": []
   },
   "outputs": [],
   "source": [
    "total = client.submit(np.sum, future)"
   ]
  },
  {
   "cell_type": "code",
   "execution_count": null,
   "id": "9fc30af0-e44c-4ecb-9fea-68fbd01a1d04",
   "metadata": {
    "tags": []
   },
   "outputs": [],
   "source": [
    "total"
   ]
  },
  {
   "cell_type": "code",
   "execution_count": null,
   "id": "d97cafdc-81d0-4dfb-a9b4-8a092f33cebc",
   "metadata": {
    "tags": []
   },
   "outputs": [],
   "source": [
    "total.result()"
   ]
  },
  {
   "cell_type": "code",
   "execution_count": null,
   "id": "97c8fc22-6b73-496a-ae6a-1c7033bce6a4",
   "metadata": {
    "tags": []
   },
   "outputs": [],
   "source": [
    "del total"
   ]
  },
  {
   "cell_type": "code",
   "execution_count": null,
   "id": "c8ea3b2c-1295-4aeb-ba37-b9633fe9afb9",
   "metadata": {
    "tags": []
   },
   "outputs": [],
   "source": [
    "del future"
   ]
  },
  {
   "cell_type": "code",
   "execution_count": null,
   "id": "9dd25704-efac-495e-894d-66f15cbeb58e",
   "metadata": {
    "tags": []
   },
   "outputs": [],
   "source": [
    "import gc\n",
    "gc.collect()"
   ]
  },
  {
   "cell_type": "code",
   "execution_count": 2,
   "id": "e895f3a3-bb22-4da9-ba29-82314e20e81e",
   "metadata": {
    "tags": []
   },
   "outputs": [],
   "source": [
    "import time\n",
    "import numpy as np\n",
    "\n",
    "def load(x):\n",
    "    time.sleep(0.1)\n",
    "    v = np.random.randint(0,100,1)[0]\n",
    "    return np.arange(1000000) + x + v\n",
    "\n",
    "def process(x):\n",
    "    time.sleep(0.1)\n",
    "    v =  np.random.randint(0,100,1)[0]\n",
    "    return x + 1 + v\n",
    "\n",
    "def save(x):\n",
    "    time.sleep(0.4)\n",
    "    return None\n"
   ]
  },
  {
   "cell_type": "code",
   "execution_count": null,
   "id": "73075ecf-ab8e-4673-9a62-fdb29a4ab95c",
   "metadata": {
    "tags": []
   },
   "outputs": [],
   "source": [
    "%%time\n",
    "\n",
    "inputs = range(10)\n",
    "\n",
    "for i in inputs:\n",
    "    x = load(i)\n",
    "    y = process(x)\n",
    "    save(y)"
   ]
  },
  {
   "cell_type": "code",
   "execution_count": null,
   "id": "4612c83c-1cec-4684-b2a9-f45b4219a05a",
   "metadata": {
    "tags": []
   },
   "outputs": [],
   "source": [
    "%%time\n",
    "\n",
    "futures = []\n",
    "for i in inputs:\n",
    "    x = client.submit(load,i)\n",
    "    y = client.submit(process, x)\n",
    "    z = client.submit(save,y)\n",
    "    futures.append(z)\n",
    "    \n",
    "result = [future.result() for future in futures]"
   ]
  },
  {
   "cell_type": "code",
   "execution_count": null,
   "id": "7451e8d2-f236-41c2-9f45-6854c55041e4",
   "metadata": {
    "tags": []
   },
   "outputs": [],
   "source": [
    "%%time\n",
    "\n",
    "L = [client.submit(load,i) for i in range(1000)]\n",
    "L2 = client.map(process, L)\n",
    "L3 = client.map(save, L2)\n",
    "L3\n",
    "result = [future.result() for future in L3]"
   ]
  },
  {
   "cell_type": "code",
   "execution_count": null,
   "id": "b51d28d7-2a81-4c5a-943e-4c67cfbc488f",
   "metadata": {
    "tags": []
   },
   "outputs": [],
   "source": [
    "del L"
   ]
  },
  {
   "cell_type": "code",
   "execution_count": null,
   "id": "9fcbcdeb-d996-4bc8-9a23-cf8cf6b40381",
   "metadata": {
    "tags": []
   },
   "outputs": [],
   "source": [
    "del L2"
   ]
  },
  {
   "cell_type": "code",
   "execution_count": null,
   "id": "9b6d56d7-9ce5-426b-b787-bd8ec4f5b881",
   "metadata": {
    "tags": []
   },
   "outputs": [],
   "source": [
    "del L3"
   ]
  },
  {
   "cell_type": "code",
   "execution_count": null,
   "id": "c78bc161-4d3a-4b74-ac62-150a04cad8d4",
   "metadata": {
    "tags": []
   },
   "outputs": [],
   "source": [
    "del futures"
   ]
  },
  {
   "cell_type": "code",
   "execution_count": null,
   "id": "ef90b65c-fb47-43ef-8808-6d77957f23d3",
   "metadata": {
    "tags": []
   },
   "outputs": [],
   "source": [
    "str(client)"
   ]
  },
  {
   "cell_type": "code",
   "execution_count": null,
   "id": "ee5f75f7-8451-4f49-bf2f-cdd96ddcb2a8",
   "metadata": {},
   "outputs": [],
   "source": []
  },
  {
   "cell_type": "code",
   "execution_count": null,
   "id": "ceb67bda-5b67-49c4-9886-62c4dcaed558",
   "metadata": {
    "tags": []
   },
   "outputs": [],
   "source": [
    "%%time\n",
    "\n",
    "with Client(processes=False, threads_per_worker=12) as c:  # start local workers as threads\n",
    "    L = [c.submit(load, i) for i in range(100)]\n",
    "    L2 = c.map(process, L)\n",
    "    L3 = c.map(save, L2)\n",
    "    result = [future.result() for future in L3]"
   ]
  },
  {
   "cell_type": "code",
   "execution_count": 5,
   "id": "b677c49d-8a31-4fbf-8a2c-7218b577f781",
   "metadata": {
    "tags": []
   },
   "outputs": [
    {
     "name": "stdout",
     "output_type": "stream",
     "text": [
      "100\n",
      "CPU times: user 19.3 ms, sys: 9.43 ms, total: 28.7 ms\n",
      "Wall time: 228 ms\n"
     ]
    }
   ],
   "source": [
    "%%time\n",
    "\n",
    "import dask\n",
    "from dask import delayed\n",
    "\n",
    "\n",
    "\n",
    "with dask.config.set(scheduler = 'processes'):\n",
    "    L = [delayed(load)(i) for i in range(100)]\n",
    "    L2 = [delayed(process)(l) for l in L]\n",
    "    L3 = [delayed(save)(s) for s in L2]\n",
    "    result = delayed(sum)([0 if l3 is None else 1 for l3 in L3])\n",
    "    print(result.compute())"
   ]
  },
  {
   "cell_type": "code",
   "execution_count": 34,
   "id": "a3d9eb98-cda3-4c2d-8bf4-a0d86b516223",
   "metadata": {
    "tags": []
   },
   "outputs": [],
   "source": [
    "def simple_load(i):\n",
    "    time.sleep(1)\n",
    "    x = 0\n",
    "    return(i)"
   ]
  },
  {
   "cell_type": "code",
   "execution_count": 37,
   "id": "0f1446df-b4e2-4128-ae21-a13a0c59810d",
   "metadata": {
    "tags": []
   },
   "outputs": [
    {
     "name": "stdout",
     "output_type": "stream",
     "text": [
      "CPU times: user 4.81 ms, sys: 2.22 ms, total: 7.03 ms\n",
      "Wall time: 1.01 s\n"
     ]
    },
    {
     "data": {
      "text/plain": [
       "55"
      ]
     },
     "execution_count": 37,
     "metadata": {},
     "output_type": "execute_result"
    }
   ],
   "source": [
    "%%time\n",
    "\n",
    "vals = []\n",
    "for i in range(10):\n",
    "    l = delayed(simple_load)(i+1)\n",
    "    vals.append(l)\n",
    "x = sum(vals)\n",
    "x.compute(scheduler = 'threads', num_workers=10)"
   ]
  },
  {
   "cell_type": "code",
   "execution_count": 8,
   "id": "4f66f13d-504a-4b65-9892-ca88ab338fe4",
   "metadata": {
    "tags": []
   },
   "outputs": [
    {
     "data": {
      "text/plain": [
       "[Delayed('simple_load-85b9d814-6582-4edc-8254-452954c71847'),\n",
       " Delayed('simple_load-b06ce2ae-b270-4925-bd31-5b2c301cf741'),\n",
       " Delayed('simple_load-684f4e82-ba72-42f2-8dc1-f689808c8d27'),\n",
       " Delayed('simple_load-00657802-0ae9-480a-83a2-129e891cae2e'),\n",
       " Delayed('simple_load-36bf5380-d68f-401d-b206-df655893c4b2'),\n",
       " Delayed('simple_load-d94e6bef-0a1d-4c5a-80be-b80b30e0f8d1'),\n",
       " Delayed('simple_load-ea79a6fd-982e-4f9e-a4e5-32ff28864047'),\n",
       " Delayed('simple_load-88f911c3-250f-427e-b06c-b205a7e94c03'),\n",
       " Delayed('simple_load-861f93c3-f166-42fd-b0ea-dffc6eea58e2'),\n",
       " Delayed('simple_load-89fa1a7e-40c3-46a0-8f07-79e7e48e3bd6')]"
      ]
     },
     "execution_count": 8,
     "metadata": {},
     "output_type": "execute_result"
    }
   ],
   "source": []
  },
  {
   "cell_type": "code",
   "execution_count": null,
   "id": "741acf6d-d9c6-44b6-be91-efc24e38b827",
   "metadata": {},
   "outputs": [],
   "source": []
  }
 ],
 "metadata": {
  "kernelspec": {
   "display_name": "Python 3 (ipykernel)",
   "language": "python",
   "name": "python3"
  },
  "language_info": {
   "codemirror_mode": {
    "name": "ipython",
    "version": 3
   },
   "file_extension": ".py",
   "mimetype": "text/x-python",
   "name": "python",
   "nbconvert_exporter": "python",
   "pygments_lexer": "ipython3",
   "version": "3.10.14"
  }
 },
 "nbformat": 4,
 "nbformat_minor": 5
}
